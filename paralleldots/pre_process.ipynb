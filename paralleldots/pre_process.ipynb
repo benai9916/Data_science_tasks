{
  "nbformat": 4,
  "nbformat_minor": 0,
  "metadata": {
    "colab": {
      "name": "pre_process.ipynb",
      "provenance": [],
      "collapsed_sections": [],
      "authorship_tag": "ABX9TyPqsBClfA3m9TaIgzw5PsE1",
      "include_colab_link": true
    },
    "kernelspec": {
      "name": "python3",
      "display_name": "Python 3"
    },
    "accelerator": "GPU"
  },
  "cells": [
    {
      "cell_type": "markdown",
      "metadata": {
        "id": "view-in-github",
        "colab_type": "text"
      },
      "source": [
        "<a href=\"https://colab.research.google.com/github/benai9916/paralleldots/blob/main/pre_process.ipynb\" target=\"_parent\"><img src=\"https://colab.research.google.com/assets/colab-badge.svg\" alt=\"Open In Colab\"/></a>"
      ]
    },
    {
      "cell_type": "code",
      "metadata": {
        "id": "mkPtfEaoZbgx"
      },
      "source": [
        "import gdown\r\n",
        "import re\r\n",
        "import pandas as pd\r\n",
        "import numpy as np\r\n",
        "import urllib.request\r\n",
        "\r\n",
        "from PIL import Image\r\n",
        "from PIL import ImageDraw\r\n",
        "from IPython.display import Javascript\r\n",
        "\r\n",
        "import matplotlib.pyplot as plt"
      ],
      "execution_count": 12,
      "outputs": []
    },
    {
      "cell_type": "code",
      "metadata": {
        "colab": {
          "base_uri": "https://localhost:8080/"
        },
        "id": "Lj1zWrauaOxV",
        "outputId": "205e2980-314f-4bcd-c570-3db3a03405fb"
      },
      "source": [
        "# load data from drive\r\n",
        "\r\n",
        "!gdown --id 1Xpfw306Gx7LYcTREou_3_vyIKRJDgTCJ"
      ],
      "execution_count": 13,
      "outputs": [
        {
          "output_type": "stream",
          "text": [
            "Downloading...\n",
            "From: https://drive.google.com/uc?id=1Xpfw306Gx7LYcTREou_3_vyIKRJDgTCJ\n",
            "To: /content/flipkart_com-ecommerce_sample.csv\n",
            "\r0.00B [00:00, ?B/s]\r24.1MB [00:00, 241MB/s]\r38.1MB [00:00, 225MB/s]\n"
          ],
          "name": "stdout"
        }
      ]
    },
    {
      "cell_type": "code",
      "metadata": {
        "id": "zAdbqYjObg4S"
      },
      "source": [
        "# load data in dataframe\r\n",
        "flipkart = pd.read_csv('/content/flipkart_com-ecommerce_sample.csv')"
      ],
      "execution_count": 14,
      "outputs": []
    },
    {
      "cell_type": "code",
      "metadata": {
        "colab": {
          "base_uri": "https://localhost:8080/",
          "height": 467
        },
        "id": "Nnz72ealQi7n",
        "outputId": "dd61a811-b363-4418-f99d-b5e308363872"
      },
      "source": [
        "# check the first five row\r\n",
        "flipkart.head()"
      ],
      "execution_count": 15,
      "outputs": [
        {
          "output_type": "execute_result",
          "data": {
            "text/html": [
              "<div>\n",
              "<style scoped>\n",
              "    .dataframe tbody tr th:only-of-type {\n",
              "        vertical-align: middle;\n",
              "    }\n",
              "\n",
              "    .dataframe tbody tr th {\n",
              "        vertical-align: top;\n",
              "    }\n",
              "\n",
              "    .dataframe thead th {\n",
              "        text-align: right;\n",
              "    }\n",
              "</style>\n",
              "<table border=\"1\" class=\"dataframe\">\n",
              "  <thead>\n",
              "    <tr style=\"text-align: right;\">\n",
              "      <th></th>\n",
              "      <th>uniq_id</th>\n",
              "      <th>crawl_timestamp</th>\n",
              "      <th>product_url</th>\n",
              "      <th>product_name</th>\n",
              "      <th>product_category_tree</th>\n",
              "      <th>pid</th>\n",
              "      <th>retail_price</th>\n",
              "      <th>discounted_price</th>\n",
              "      <th>image</th>\n",
              "      <th>is_FK_Advantage_product</th>\n",
              "      <th>description</th>\n",
              "      <th>product_rating</th>\n",
              "      <th>overall_rating</th>\n",
              "      <th>brand</th>\n",
              "      <th>product_specifications</th>\n",
              "    </tr>\n",
              "  </thead>\n",
              "  <tbody>\n",
              "    <tr>\n",
              "      <th>0</th>\n",
              "      <td>c2d766ca982eca8304150849735ffef9</td>\n",
              "      <td>2016-03-25 22:59:23 +0000</td>\n",
              "      <td>http://www.flipkart.com/alisha-solid-women-s-c...</td>\n",
              "      <td>Alisha Solid Women's Cycling Shorts</td>\n",
              "      <td>[\"Clothing &gt;&gt; Women's Clothing &gt;&gt; Lingerie, Sl...</td>\n",
              "      <td>SRTEH2FF9KEDEFGF</td>\n",
              "      <td>999.0</td>\n",
              "      <td>379.0</td>\n",
              "      <td>[\"http://img5a.flixcart.com/image/short/u/4/a/...</td>\n",
              "      <td>False</td>\n",
              "      <td>Key Features of Alisha Solid Women's Cycling S...</td>\n",
              "      <td>No rating available</td>\n",
              "      <td>No rating available</td>\n",
              "      <td>Alisha</td>\n",
              "      <td>{\"product_specification\"=&gt;[{\"key\"=&gt;\"Number of ...</td>\n",
              "    </tr>\n",
              "    <tr>\n",
              "      <th>1</th>\n",
              "      <td>7f7036a6d550aaa89d34c77bd39a5e48</td>\n",
              "      <td>2016-03-25 22:59:23 +0000</td>\n",
              "      <td>http://www.flipkart.com/fabhomedecor-fabric-do...</td>\n",
              "      <td>FabHomeDecor Fabric Double Sofa Bed</td>\n",
              "      <td>[\"Furniture &gt;&gt; Living Room Furniture &gt;&gt; Sofa B...</td>\n",
              "      <td>SBEEH3QGU7MFYJFY</td>\n",
              "      <td>32157.0</td>\n",
              "      <td>22646.0</td>\n",
              "      <td>[\"http://img6a.flixcart.com/image/sofa-bed/j/f...</td>\n",
              "      <td>False</td>\n",
              "      <td>FabHomeDecor Fabric Double Sofa Bed (Finish Co...</td>\n",
              "      <td>No rating available</td>\n",
              "      <td>No rating available</td>\n",
              "      <td>FabHomeDecor</td>\n",
              "      <td>{\"product_specification\"=&gt;[{\"key\"=&gt;\"Installati...</td>\n",
              "    </tr>\n",
              "    <tr>\n",
              "      <th>2</th>\n",
              "      <td>f449ec65dcbc041b6ae5e6a32717d01b</td>\n",
              "      <td>2016-03-25 22:59:23 +0000</td>\n",
              "      <td>http://www.flipkart.com/aw-bellies/p/itmeh4grg...</td>\n",
              "      <td>AW Bellies</td>\n",
              "      <td>[\"Footwear &gt;&gt; Women's Footwear &gt;&gt; Ballerinas &gt;...</td>\n",
              "      <td>SHOEH4GRSUBJGZXE</td>\n",
              "      <td>999.0</td>\n",
              "      <td>499.0</td>\n",
              "      <td>[\"http://img5a.flixcart.com/image/shoe/7/z/z/r...</td>\n",
              "      <td>False</td>\n",
              "      <td>Key Features of AW Bellies Sandals Wedges Heel...</td>\n",
              "      <td>No rating available</td>\n",
              "      <td>No rating available</td>\n",
              "      <td>AW</td>\n",
              "      <td>{\"product_specification\"=&gt;[{\"key\"=&gt;\"Ideal For\"...</td>\n",
              "    </tr>\n",
              "    <tr>\n",
              "      <th>3</th>\n",
              "      <td>0973b37acd0c664e3de26e97e5571454</td>\n",
              "      <td>2016-03-25 22:59:23 +0000</td>\n",
              "      <td>http://www.flipkart.com/alisha-solid-women-s-c...</td>\n",
              "      <td>Alisha Solid Women's Cycling Shorts</td>\n",
              "      <td>[\"Clothing &gt;&gt; Women's Clothing &gt;&gt; Lingerie, Sl...</td>\n",
              "      <td>SRTEH2F6HUZMQ6SJ</td>\n",
              "      <td>699.0</td>\n",
              "      <td>267.0</td>\n",
              "      <td>[\"http://img5a.flixcart.com/image/short/6/2/h/...</td>\n",
              "      <td>False</td>\n",
              "      <td>Key Features of Alisha Solid Women's Cycling S...</td>\n",
              "      <td>No rating available</td>\n",
              "      <td>No rating available</td>\n",
              "      <td>Alisha</td>\n",
              "      <td>{\"product_specification\"=&gt;[{\"key\"=&gt;\"Number of ...</td>\n",
              "    </tr>\n",
              "    <tr>\n",
              "      <th>4</th>\n",
              "      <td>bc940ea42ee6bef5ac7cea3fb5cfbee7</td>\n",
              "      <td>2016-03-25 22:59:23 +0000</td>\n",
              "      <td>http://www.flipkart.com/sicons-all-purpose-arn...</td>\n",
              "      <td>Sicons All Purpose Arnica Dog Shampoo</td>\n",
              "      <td>[\"Pet Supplies &gt;&gt; Grooming &gt;&gt; Skin &amp; Coat Care...</td>\n",
              "      <td>PSOEH3ZYDMSYARJ5</td>\n",
              "      <td>220.0</td>\n",
              "      <td>210.0</td>\n",
              "      <td>[\"http://img5a.flixcart.com/image/pet-shampoo/...</td>\n",
              "      <td>False</td>\n",
              "      <td>Specifications of Sicons All Purpose Arnica Do...</td>\n",
              "      <td>No rating available</td>\n",
              "      <td>No rating available</td>\n",
              "      <td>Sicons</td>\n",
              "      <td>{\"product_specification\"=&gt;[{\"key\"=&gt;\"Pet Type\",...</td>\n",
              "    </tr>\n",
              "  </tbody>\n",
              "</table>\n",
              "</div>"
            ],
            "text/plain": [
              "                            uniq_id  ...                             product_specifications\n",
              "0  c2d766ca982eca8304150849735ffef9  ...  {\"product_specification\"=>[{\"key\"=>\"Number of ...\n",
              "1  7f7036a6d550aaa89d34c77bd39a5e48  ...  {\"product_specification\"=>[{\"key\"=>\"Installati...\n",
              "2  f449ec65dcbc041b6ae5e6a32717d01b  ...  {\"product_specification\"=>[{\"key\"=>\"Ideal For\"...\n",
              "3  0973b37acd0c664e3de26e97e5571454  ...  {\"product_specification\"=>[{\"key\"=>\"Number of ...\n",
              "4  bc940ea42ee6bef5ac7cea3fb5cfbee7  ...  {\"product_specification\"=>[{\"key\"=>\"Pet Type\",...\n",
              "\n",
              "[5 rows x 15 columns]"
            ]
          },
          "metadata": {
            "tags": []
          },
          "execution_count": 15
        }
      ]
    },
    {
      "cell_type": "code",
      "metadata": {
        "colab": {
          "base_uri": "https://localhost:8080/"
        },
        "id": "WSzhDuAXQsAh",
        "outputId": "bba351c1-0339-4d67-f698-b143ab97142e"
      },
      "source": [
        "# check for unique values in product_category_tree category\r\n",
        "flipkart['product_category_tree'].unique()"
      ],
      "execution_count": 16,
      "outputs": [
        {
          "output_type": "execute_result",
          "data": {
            "text/plain": [
              "array(['[\"Clothing >> Women\\'s Clothing >> Lingerie, Sleep & Swimwear >> Shorts >> Alisha Shorts >> Alisha Solid Women\\'s Cycling Shorts\"]',\n",
              "       '[\"Furniture >> Living Room Furniture >> Sofa Beds & Futons >> FabHomeDecor Fabric Double Sofa Bed (Finish Colo...\"]',\n",
              "       '[\"Footwear >> Women\\'s Footwear >> Ballerinas >> AW Bellies\"]',\n",
              "       ...,\n",
              "       '[\"Baby Care >> Baby & Kids Gifts >> Stickers >> Oren Empower Stickers\"]',\n",
              "       '[\"Baby Care >> Baby & Kids Gifts >> Stickers >> Uberlyfe Stickers\"]',\n",
              "       '[\"Baby Care >> Baby & Kids Gifts >> Stickers >> Fun To See Stickers\"]'],\n",
              "      dtype=object)"
            ]
          },
          "metadata": {
            "tags": []
          },
          "execution_count": 16
        }
      ]
    },
    {
      "cell_type": "code",
      "metadata": {
        "id": "6ncG_F8xRMqz"
      },
      "source": [
        "# since not all the images contain text in it, we will filter out those images with category, eg clothinga and furnitire won't have any sort of in it.\r\n",
        "# create a new column with the main category\r\n",
        "\r\n",
        "flipkart['main_category'] = flipkart['product_category_tree'].apply(lambda x : re.sub('[^a-zA-Z ]+' ,'', x.split('>>')[0].strip()))"
      ],
      "execution_count": 17,
      "outputs": []
    },
    {
      "cell_type": "code",
      "metadata": {
        "id": "cv3YRk3GS58d"
      },
      "source": [
        "# select required column\r\n",
        "\r\n",
        "flipkarts = flipkart[['product_name', 'image', 'main_category']]"
      ],
      "execution_count": 18,
      "outputs": []
    },
    {
      "cell_type": "code",
      "metadata": {
        "colab": {
          "base_uri": "https://localhost:8080/",
          "height": 197
        },
        "id": "CnbpcY0OTmbR",
        "outputId": "4bbe41c5-3102-4baa-8565-6b52b386d8c7"
      },
      "source": [
        "flipkarts.head()"
      ],
      "execution_count": 19,
      "outputs": [
        {
          "output_type": "execute_result",
          "data": {
            "text/html": [
              "<div>\n",
              "<style scoped>\n",
              "    .dataframe tbody tr th:only-of-type {\n",
              "        vertical-align: middle;\n",
              "    }\n",
              "\n",
              "    .dataframe tbody tr th {\n",
              "        vertical-align: top;\n",
              "    }\n",
              "\n",
              "    .dataframe thead th {\n",
              "        text-align: right;\n",
              "    }\n",
              "</style>\n",
              "<table border=\"1\" class=\"dataframe\">\n",
              "  <thead>\n",
              "    <tr style=\"text-align: right;\">\n",
              "      <th></th>\n",
              "      <th>product_name</th>\n",
              "      <th>image</th>\n",
              "      <th>main_category</th>\n",
              "    </tr>\n",
              "  </thead>\n",
              "  <tbody>\n",
              "    <tr>\n",
              "      <th>0</th>\n",
              "      <td>Alisha Solid Women's Cycling Shorts</td>\n",
              "      <td>[\"http://img5a.flixcart.com/image/short/u/4/a/...</td>\n",
              "      <td>Clothing</td>\n",
              "    </tr>\n",
              "    <tr>\n",
              "      <th>1</th>\n",
              "      <td>FabHomeDecor Fabric Double Sofa Bed</td>\n",
              "      <td>[\"http://img6a.flixcart.com/image/sofa-bed/j/f...</td>\n",
              "      <td>Furniture</td>\n",
              "    </tr>\n",
              "    <tr>\n",
              "      <th>2</th>\n",
              "      <td>AW Bellies</td>\n",
              "      <td>[\"http://img5a.flixcart.com/image/shoe/7/z/z/r...</td>\n",
              "      <td>Footwear</td>\n",
              "    </tr>\n",
              "    <tr>\n",
              "      <th>3</th>\n",
              "      <td>Alisha Solid Women's Cycling Shorts</td>\n",
              "      <td>[\"http://img5a.flixcart.com/image/short/6/2/h/...</td>\n",
              "      <td>Clothing</td>\n",
              "    </tr>\n",
              "    <tr>\n",
              "      <th>4</th>\n",
              "      <td>Sicons All Purpose Arnica Dog Shampoo</td>\n",
              "      <td>[\"http://img5a.flixcart.com/image/pet-shampoo/...</td>\n",
              "      <td>Pet Supplies</td>\n",
              "    </tr>\n",
              "  </tbody>\n",
              "</table>\n",
              "</div>"
            ],
            "text/plain": [
              "                            product_name  ... main_category\n",
              "0    Alisha Solid Women's Cycling Shorts  ...      Clothing\n",
              "1    FabHomeDecor Fabric Double Sofa Bed  ...     Furniture\n",
              "2                             AW Bellies  ...      Footwear\n",
              "3    Alisha Solid Women's Cycling Shorts  ...      Clothing\n",
              "4  Sicons All Purpose Arnica Dog Shampoo  ...  Pet Supplies\n",
              "\n",
              "[5 rows x 3 columns]"
            ]
          },
          "metadata": {
            "tags": []
          },
          "execution_count": 19
        }
      ]
    },
    {
      "cell_type": "code",
      "metadata": {
        "colab": {
          "base_uri": "https://localhost:8080/"
        },
        "id": "ZOlIJcWxUdn5",
        "outputId": "46648041-38dc-47ed-be60-d5e1ef23cd31"
      },
      "source": [
        "# filter out non text category\r\n",
        "\r\n",
        "test = flipkarts['main_category'].unique().tolist()\r\n",
        "\r\n",
        "categories = dict()\r\n",
        "for i in range(len(flipkarts['main_category'].unique().tolist())):\r\n",
        "  categories[i] = test[i]\r\n",
        "\r\n",
        "print(categories)"
      ],
      "execution_count": 20,
      "outputs": [
        {
          "output_type": "stream",
          "text": [
            "{0: 'Clothing', 1: 'Furniture', 2: 'Footwear', 3: 'Pet Supplies', 4: 'Eternal Gandhi Super Series Crystal Paper Weight', 5: 'Pens  Stationery', 6: 'Sports  Fitness', 7: 'Beauty and Personal Care', 8: 'Bengal Blooms Rose Artificial Plant  with Pot ', 9: 'Bags Wallets  Belts', 10: 'Home Decor  Festive Needs', 11: 'Automotive', 12: 'Tools  Hardware', 13: 'Vishudh Printed Womens Straight Kurta', 14: 'Vishudh Printed Womens Anarkali Kurta', 15: 'BuildTrack PIR Wireless Motion Sensor  One Swit', 16: 'Skayvon SUMMERSIBLE SINGLE PHASE PUMP CONTROLLER', 17: 'MASARA Solid Womens Straight Kurta', 18: 'Skayvon SUBMERSIBBLE THREE PHASE PUMP CONTROLLER', 19: 'Behringer Xenyx  Analog Sound Mixer', 20: 'Noor Embroidered Womens Straight Kurta', 21: 'Libas Printed Womens Aline Kurta', 22: 'Libas Printed Womens Anarkali Kurta', 23: 'Home Furnishing', 24: 'Baby Care', 25: 'Mobiles  Accessories', 26: 'Food  Nutrition', 27: 'Watches', 28: 'Toys  School Supplies', 29: 'Jewellery', 30: 'Cellbazaar Blackberry  WHITE LCD LCD YIT', 31: 'Dressberry Gold Synthetic  Clutch', 32: 'Mast  Harbour Black Synthetic  Clutch', 33: 'Sisel Printed Poly Cotton Womens Stole', 34: 'Knight Ace Kraasa Sports Running Shoes Cycling ', 35: 'Indistar Self Design Viscose Womens Stole', 36: 'Glacier Running Shoes', 37: 'Dressberry Black Synthetic  Clutch', 38: 'Asics GelCumulus  Running Shoes', 39: 'Mast  Harbour Gold Synthetic  Clutch', 40: 'Asics GelKayano  Running Shoes', 41: 'Dressberry Orange Synthetic  Clutch', 42: 'Dressberry Green Synthetic  Clutch', 43: 'Escan Lace Up', 44: 'Nine Maternity Wear Womens Fit and Flare Dress', 45: 'Sunglasses', 46: 'Kitchen  Dining', 47: 'Home  Kitchen', 48: 'Computers', 49: 'Cameras  Accessories', 50: 'ANAND ARCHIES Girls Flats', 51: 'ANAND ARCHIES Girls Wedges', 52: 'Prime Printed  Seater Table Cover Multicolor ', 53: 'Health  Personal Care Appliances', 54: 'Speedwav  Sun Shade For Hyundai i Dashb', 55: 'Vitamins Solid Baby Girls Basic Shorts', 56: 'Gaming', 57: 'Home Improvement', 58: 'Sumo Baby Walker Red', 59: 'Kombee Girls Printed Red Pink Top  Capri Set', 60: 'NEWGEN TECH EOHS  Wired Headset White', 61: 'Automation  Robotics', 62: 'KP DrAmbedkar Large  Showpiece     cm Po', 63: 'KP Lord Ganesha Large  Showpiece     cm P', 64: 'Adidas IND PRO THI GUA Thigh Guard White Blue', 65: 'Bootwale Bellies', 66: 'clickforsign Avoid Contanimation Wash your Hands', 67: 'Treppe Bellies', 68: 'Kanvas Bellies', 69: 'Klaur Melbourne Bellies', 70: 'Clickforsign Vehicles parked Illegally will be t', 71: 'clickforsign Sound horn Before entering Emergenc', 72: 'kem Flow Gold skinny Fit Baby Girls Blue Jeans', 73: 'Carbanao Chrome Grill Chevrolet Cruze Car Grill ', 74: 'Oddy RS  X   Sheets Self Stick Reposition', 75: 'Synergy SFJB Grocery Bag Blue', 76: 'SHOPOJ White Paper Sky Lantern  cm X  cm P', 77: 'SUPERMOD Mens Brief', 78: 'Lilliput Top Baby Girls  Combo', 79: 'Frabjous German silver Rings For Women Alloy Zir', 80: 'Zevrr Sterling Silver Swarovski Zirconia Platinu', 81: 'Rasav Jewels Yellow Gold Diamond  K Ring', 82: 'Royal Seal Creations  ST COLOR Silver Zircon N', 83: 'Home Entertainment', 84: 'ANASAZI Casual  Sleeve Solid Womens Top', 85: 'INVENTURE RETAIL Nail Cutter', 86: 'Fabpoppy Printed Womens Jumpsuit', 87: 'Power Smart Quick Charging Pack For PAN CGRDU', 88: 'Gking Hand Stiched Steering Cover For Maruti Ert', 89: 'GM Power mate  Strip Surge Protector White', 90: 'Shrih SH Wired USB Flexible Keyboard Red', 91: 'Threads  Pals Full Sleeve Printed Solid Mens ', 92: 'Threads  Pals Full Sleeve Self Design Mens Swe', 93: 'Gking Hand Stiched Steering Cover For Renault Sc', 94: 'Power Smart Quick Charging Pack For PAN CGRD ', 95: 'xy decor Cotton Sofa Cover white Pack of ', 96: 'Favourite BikerZ  RAD air filter Ionic Air F', 97: 'Disney Printed Baby Boys Hooded Grey TShirt', 98: 'Little Stars Girls Aline Multicolor Dress', 99: 'Wearable Smart Devices', 100: 'The Crazy Me  Compartments EcoFriendly leather', 101: 'fourgee Slim Fit Boys Black Jeans', 102: 'Laser X Checkered Mens Boxer Pack of ', 103: 'INKT INKT A Wiro Notebook A Notebook Ring Boun', 104: 'EHiose Girls Leggings Pack of ', 105: 'Lucky Thailand GL LG Glass  ml Clear Pa', 106: 'Ocean GPPyramid Glass  ml Clear Pack of ', 107: 'Wella Elements Leight Weight Renewing Conditione', 108: 'PuGood Women Flats', 109: 'Olvin Aviator Sunglasses', 110: 'TSG Breeze Printed Womens Round Neck Multicolor', 111: 'Pout Brass Bangle', 112: 'classyworld Brass Cufflink Silver', 113: 'HANS Mens Crew Length Socks', 114: 'TIMBERLAKE Slim Fit Fit Womens Brown Jeans', 115: 'Olvin Oval Sunglasses', 116: 'Urban Girl Foundation Brush Pack of ', 117: 'FEET FLOW Women Flats', 118: 'Jazz Eyewears Oversized Sunglasses', 119: 'Miss Wow Slim Fit Womens Blue Jeans', 120: 'Dilan Jewels Alloy Zircon K Yellow Gold Bangle', 121: 'SMART TRADERS Women Wedges', 122: 'Clovia Womens Full Coverage Bra', 123: 'Olvin Wayfarer Sunglasses', 124: 'PrivateLifes MasterPiece Womens Pushup Bra', 125: 'COIRFIT Single Coir Mattress', 126: 'Clovia Womens TShirt Bra', 127: 'Spa Culture Fit Fit Womens Black Jeans', 128: 'run of luck Solid Womens Round Neck Dark Blue T', 129: 'SAY UV Sterilizer Solid Filter Cartridge  Pac', 130: 'Legmark Slim Fit Womens Light Blue Jeans', 131: 'Siyas Collection Lac Cubic Zirconia Bangle Set ', 132: 'Dassler Slim Fit Womens Multicolor Jeans', 133: 'piftif Womens Sports Bra', 134: 'REMSON INDIA Women Flats', 135: 'killys Mens Solid No Show Socks', 136: 'INDILEGO Women Flats', 137: 'Firangi Cotton Polyester Free Floor Mat Firangi', 138: 'TIMBERLAKE Slim Fit Fit Womens Red Jeans', 139: 'Starsy Solid Womens Round Neck Green TShirt', 140: 'Oly Two Fit Fit Womens Black Jeans', 141: 'Olvin Rectangular Sunglasses', 142: 'soie Fashion Womens Sports Bra', 143: 'Auraa Mens Womens Solid No Show Socks', 144: 'eFresh Boys Brief Pack of ', 145: 'TIMBERLAKE Slim Fit Fit Womens Blue Jeans', 146: 'Attitude Printed Womens Round Neck Black TShirt', 147: 'Kalpaveda Copper Bowl Gold Pack of ', 148: 'Walkline Slippers', 149: 'DD Women Flats', 150: 'eFresh Baby Boys Brief Pack of ', 151: 'Ajaero Slim Fit Womens Dark Blue Jeans', 152: 'Ruhis Creations Cotton Floral King sized Double', 153: 'SAY Thread Wounded Candle  Set of  pcs Solid', 154: 'The Cotton Company Solid Womens Polo Neck Pink ', 155: 'Samprada Modern art Tapestry Black Pink', 156: 'Naaz Dart game Board Game', 157: 'Oly Two Fit Fit Womens Dark Blue Jeans', 158: 'Camey Mens Quarter Length Socks', 159: 'fourgee Slim Fit Womens Blue Jeans', 160: 'classyworld Brass Cufflink Grey', 161: 'Viral Girl Womens Full Coverage Bra', 162: 'Wellon Fittings set  pieces for RO Water Pur', 163: 'Amita Home Furnishing Cotton Printed Single Beds', 164: 'Impala Alloy Cufflink White', 165: 'Ruhis Creations Polyester Silk Blend Cartoon Ki', 166: 'Naaz  in  Paper Quilling Board Game', 167: 'Starsy Printed Womens Round Neck Black TShirt', 168: 'Fly U Slim Fit Fit Womens Brown Jeans', 169: 'Crafty Hands Kutchchi Mirrorwork Tapestry Maroon', 170: 'tadd Mens Womens Ankle Length Socks', 171: 'Dolz Slim Fit Fit Womens Brown Jeans', 172: 'Shrih Toe  Foot Protector Pain Relief Pad Pack', 173: 'LondonHouze Printed Womens Round Neck Grey TShirt', 174: 'Legmark Slim Fit Womens Blue Jeans', 175: 'Linzina Fashions LINHOSS Faucet Set', 176: 'soie Fashion Womens Full Coverage Bra', 177: 'Clovia Womens Plunge Bra', 178: 'Foot Candy Women Flats', 179: 'Amita Home Furnishing Cotton Floral Single Bedsh', 180: ' Police Full Sleeve Solid Mens Jacket', 181: 'Style World Women Flats', 182: 'Just Wow Women Flats', 183: 'SMART TRADERS Women Flats', 184: 'Ruhis Creations Cotton Cartoon King sized Doubl', 185: 'SJ Bushnell M Binoculars  mm Black', 186: 'SJ Barstel m  m Binoculars  mm Black', 187: 'SJ Comet Zoom DPSI Binoculars  mm Black', 188: 'Pia International XX WITH ZOOM SAKURA Bino', 189: 'SHOPOJ Purple Paper Sky Lantern  cm X  cm ', 190: 'Car vastra pcs Car Vastra Honda Beige Backrest ', 191: 'SHOPOJ Yellow Paper Sky Lantern  cm X  cm ', 192: 'SHOPOJ Multicolor Paper Sky Lantern  cm X  ', 193: 'Sj Bushnell M   Binoculars  mm Black', 194: 'FIFO Bottom Womens  Combo', 195: 'Himmlisch  Car Bottle Holder Plastic', 196: 'VG Professional HD Hair Dryer Red', 197: 'Anuradha Art Stylish Hair Clip Blue', 198: 'Shonaya Printed Bhagalpuri Art Silk Sari', 199: 'Anuradha Art Stylish Hair Clip Black', 200: 'JUSF Black Color Hair Band Multicolor', 201: 'Sonaxo Men Running Shoes', 202: 'Koie  Battery  For Samsung  Premium Quality', 203: 'OEM  Bike Side Stand', 204: 'Kittens Boys Flats', 205: 'AutoKraftZ Optimum Locking Device For Bajaj Puls', 206: 'GALLOWAY skinny Fit Womens Jeans', 207: 'Dremel  Plastic Friction Work Bench ', 208: 'Eyewear', 209: 'ABEEZ Boys Men Girls Black Pack of ', 210: 'Joyra Heart Sterling Silver Swarovski Crystal S', 211: 'BLM Casual Printed Womens Kurti', 212: 'SMART DENIM Solid Womens White Denim Shorts', 213: 'ATV Pouch for Acer Liquid Z STEEL BLUE', 214: 'Be  Printed Boys Round Neck TShirt Pack of ', 215: 'Taurus Black  white Lace Up', 216: 'Abhinl Fashion Cotton Printed Semistitched Salw', 217: 'UFO Self Design Round Neck Casual Girls Sweater', 218: 'LGRL Womens Leggings', 219: 'Breakbounce Mens Vest', 220: 'UFO Full Sleeve Solid Girls Jacket', 221: 'BALAJI EXPORTS Bottled Wine Cooler  Bottles', 222: 'Siemens SL Betagard SL MCB ', 223: 'Remax Rm Remax Vanguard mah  mAh', 224: 'Boreal Roller Brush', 225: 'Srajanaa sr Travel Shaving Kit Black', 226: 'Selfcare Womens Thong Panty Pack of ', 227: 'Sugandh Vatika  Natural Masala Sandal Incense', 228: 'Arial Morris Women Flats', 229: 'eBooks', 230: 'Zikrak Exim Women Wedges', 231: 'Zixtro Bug Black Backpack', 232: 'New Darling Womens Printed Top  Pyjama Set', 233: 'RajeshFashion Womens Leggings', 234: 'United Colors of Benetton Girls Trousers', 235: 'SRPC BAOER STARWALKER EXECUTIVE ROLLERBALL Pen G', 236: 'Kraft Seeds Rosemary Herb Pack Of  Seed  p', 237: 'Autoplus M AP Arm Sleeve Black', 238: 'Kraft Seeds Thyme Herbs Seed  per packet', 239: 'Kraft Seeds Dill Herb Seed  per packet', 240: 'Leading lady Womens Camisole', 241: 'Yo Baby Girls Trousers', 242: 'THERISE MD Wired Headset Pink', 243: 'Nut Khut Embroidered Kurta  Churidar', 244: 'Vinenzia Printed Winter Mens Gloves', 245: 'Planet Waves Woodstock Strap Multicolor', 246: 'Speedwav  Manual Rear View Mirror Right ', 247: 'Small Toes Bellies', 248: 'EASIES Solid Single Breasted Casual Mens Blazer', 249: 'Clovia Lingerie Set', 250: 'Speedwav  Royal Enfield  Twin Spark LED', 251: 'Speedwav  Bajaj Pulsar  NS DTSi LED In', 252: 'Household Supplies', 253: 'Pazel Slim Fit Mens Jeans', 254: 'SMART TRADERS Girls Bellies', 255: 'Corcepts Universal Tablet HD Ultra Clear Transpa', 256: 'Areon Luxurious Fragrance Long Lasting CarHome'}\n"
          ],
          "name": "stdout"
        }
      ]
    },
    {
      "cell_type": "code",
      "metadata": {
        "colab": {
          "base_uri": "https://localhost:8080/",
          "height": 34
        },
        "id": "jrxLeFkzanPz",
        "outputId": "83def2ba-4434-4d09-b704-0dab69b89d66"
      },
      "source": [
        "# verify if category contain any text by opening the image in new tab\r\n",
        "check = flipkarts.loc[flipkarts['main_category'] == 'Pet Supplies']\r\n",
        "\r\n",
        "print(len(check['image']))\r\n",
        "\r\n",
        "img = check['image'].sample(1).values[0]\r\n",
        "url = img.split(',')[0].split('[')[-1].split('\"')[1]\r\n",
        "url2 = img.split(',')[-1].split('[')[-1].split('\"')[1]\r\n",
        "url3 = img.split(',')[1].split('[')[-1].split('\"')[1]\r\n",
        "\r\n",
        "display(Javascript('window.open(\"{url}\");'.format(url=url)))\r\n",
        "display(Javascript('window.open(\"{url}\");'.format(url=url2)))\r\n",
        "display(Javascript('window.open(\"{url}\");'.format(url=url3)))"
      ],
      "execution_count": 15,
      "outputs": [
        {
          "output_type": "stream",
          "text": [
            "30\n"
          ],
          "name": "stdout"
        },
        {
          "output_type": "display_data",
          "data": {
            "application/javascript": [
              "window.open(\"http://img5a.flixcart.com/image/aquarium-filter/w/5/8/bio-foam-bf-1-ocean-free-original-imaebyfcudrvzew9.jpeg\");"
            ],
            "text/plain": [
              "<IPython.core.display.Javascript object>"
            ]
          },
          "metadata": {
            "tags": []
          }
        },
        {
          "output_type": "display_data",
          "data": {
            "application/javascript": [
              "window.open(\"http://img6a.flixcart.com/image/aquarium-filter/w/5/8/bio-foam-bf-1-ocean-free-original-imaebyfcudrvzew9.jpeg\");"
            ],
            "text/plain": [
              "<IPython.core.display.Javascript object>"
            ]
          },
          "metadata": {
            "tags": []
          }
        },
        {
          "output_type": "display_data",
          "data": {
            "application/javascript": [
              "window.open(\"http://img6a.flixcart.com/image/aquarium-filter/w/5/8/bio-foam-bf-1-ocean-free-original-imaebyfcudrvzew9.jpeg\");"
            ],
            "text/plain": [
              "<IPython.core.display.Javascript object>"
            ]
          },
          "metadata": {
            "tags": []
          }
        }
      ]
    },
    {
      "cell_type": "code",
      "metadata": {
        "id": "XWPqV2oruEHw"
      },
      "source": [
        "# selected category\r\n",
        "selected_category = ['Pet Supplies', 'Beauty and Personal Care', 'Baby Care', 'Food  Nutrition', 'Wella Elements Leight Weight Renewing Conditione', 'SAY UV Sterilizer Solid Filter Cartridge  Pac',\r\n",
        "                    'Himmlisch  Car Bottle Holder Plastic', 'VG Professional HD Hair Dryer Red', 'Koie  Battery  For Samsung  Premium Quality',\r\n",
        "                    'Eyewear', 'ABEEZ Boys Men Girls Black Pack of ', 'Siemens SL Betagard SL MCB ', 'Remax Rm Remax Vanguard mah  mAh', 'Boreal Roller Brush',\r\n",
        "                    'Sugandh Vatika  Natural Masala Sandal Incense', 'eBooks', 'Kraft Seeds Rosemary Herb Pack Of  Seed  p', 'Kraft Seeds Thyme Herbs Seed  per packet',\r\n",
        "                    'Kraft Seeds Dill Herb Seed  per packet', 'Planet Waves Woodstock Strap Multicolor', 'Household Supplies', 'Areon Luxurious Fragrance Long Lasting CarHome']"
      ],
      "execution_count": 29,
      "outputs": []
    },
    {
      "cell_type": "code",
      "metadata": {
        "id": "REIxE0jZT0jt"
      },
      "source": [
        "# create a final dataframw with all the categories\r\n",
        "\r\n",
        "final_df = pd.DataFrame()\r\n",
        "\r\n",
        "for i in selected_category:\r\n",
        "  select_cat = flipkarts.loc[flipkarts['main_category'] == i]\r\n",
        "\r\n",
        "  final_df = final_df.append(select_cat)"
      ],
      "execution_count": 30,
      "outputs": []
    },
    {
      "cell_type": "code",
      "metadata": {
        "colab": {
          "base_uri": "https://localhost:8080/"
        },
        "id": "oGPvc47zXdKs",
        "outputId": "190fe4c8-464f-4e73-fe67-f5e10fdd713e"
      },
      "source": [
        "final_df['main_category'].unique()"
      ],
      "execution_count": 31,
      "outputs": [
        {
          "output_type": "execute_result",
          "data": {
            "text/plain": [
              "array(['Pet Supplies', 'Beauty and Personal Care', 'Baby Care',\n",
              "       'Food  Nutrition',\n",
              "       'Wella Elements Leight Weight Renewing Conditione',\n",
              "       'SAY UV Sterilizer Solid Filter Cartridge  Pac',\n",
              "       'Himmlisch  Car Bottle Holder Plastic',\n",
              "       'VG Professional HD Hair Dryer Red',\n",
              "       'Koie  Battery  For Samsung  Premium Quality', 'Eyewear',\n",
              "       'ABEEZ Boys Men Girls Black Pack of ',\n",
              "       'Siemens SL Betagard SL MCB ', 'Remax Rm Remax Vanguard mah  mAh',\n",
              "       'Boreal Roller Brush',\n",
              "       'Sugandh Vatika  Natural Masala Sandal Incense', 'eBooks',\n",
              "       'Kraft Seeds Rosemary Herb Pack Of  Seed  p',\n",
              "       'Kraft Seeds Thyme Herbs Seed  per packet',\n",
              "       'Kraft Seeds Dill Herb Seed  per packet',\n",
              "       'Planet Waves Woodstock Strap Multicolor', 'Household Supplies',\n",
              "       'Areon Luxurious Fragrance Long Lasting CarHome'], dtype=object)"
            ]
          },
          "metadata": {
            "tags": []
          },
          "execution_count": 31
        }
      ]
    },
    {
      "cell_type": "code",
      "metadata": {
        "colab": {
          "base_uri": "https://localhost:8080/",
          "height": 197
        },
        "id": "sryjrl9gliRG",
        "outputId": "0686a93d-0e0a-4433-d7ad-d126d6dee841"
      },
      "source": [
        "final_df.head()"
      ],
      "execution_count": 32,
      "outputs": [
        {
          "output_type": "execute_result",
          "data": {
            "text/html": [
              "<div>\n",
              "<style scoped>\n",
              "    .dataframe tbody tr th:only-of-type {\n",
              "        vertical-align: middle;\n",
              "    }\n",
              "\n",
              "    .dataframe tbody tr th {\n",
              "        vertical-align: top;\n",
              "    }\n",
              "\n",
              "    .dataframe thead th {\n",
              "        text-align: right;\n",
              "    }\n",
              "</style>\n",
              "<table border=\"1\" class=\"dataframe\">\n",
              "  <thead>\n",
              "    <tr style=\"text-align: right;\">\n",
              "      <th></th>\n",
              "      <th>product_name</th>\n",
              "      <th>image</th>\n",
              "      <th>main_category</th>\n",
              "    </tr>\n",
              "  </thead>\n",
              "  <tbody>\n",
              "    <tr>\n",
              "      <th>4</th>\n",
              "      <td>Sicons All Purpose Arnica Dog Shampoo</td>\n",
              "      <td>[\"http://img5a.flixcart.com/image/pet-shampoo/...</td>\n",
              "      <td>Pet Supplies</td>\n",
              "    </tr>\n",
              "    <tr>\n",
              "      <th>12</th>\n",
              "      <td>Sicons All Purpose Tea Tree Dog Shampoo</td>\n",
              "      <td>[\"http://img6a.flixcart.com/image/pet-shampoo/...</td>\n",
              "      <td>Pet Supplies</td>\n",
              "    </tr>\n",
              "    <tr>\n",
              "      <th>20</th>\n",
              "      <td>Sicons Conditioning Conditoner Dog Shampoo</td>\n",
              "      <td>[\"http://img6a.flixcart.com/image/pet-shampoo/...</td>\n",
              "      <td>Pet Supplies</td>\n",
              "    </tr>\n",
              "    <tr>\n",
              "      <th>24</th>\n",
              "      <td>Kennel Rubber Dumbell With Bell - Small Rubber...</td>\n",
              "      <td>[\"http://img5a.flixcart.com/image/pet-toy/n/a/...</td>\n",
              "      <td>Pet Supplies</td>\n",
              "    </tr>\n",
              "    <tr>\n",
              "      <th>1569</th>\n",
              "      <td>Snug Hug Jute Chew Toy For Dog</td>\n",
              "      <td>[\"http://img5a.flixcart.com/image/pet-toy/r/7/...</td>\n",
              "      <td>Pet Supplies</td>\n",
              "    </tr>\n",
              "  </tbody>\n",
              "</table>\n",
              "</div>"
            ],
            "text/plain": [
              "                                           product_name  ... main_category\n",
              "4                 Sicons All Purpose Arnica Dog Shampoo  ...  Pet Supplies\n",
              "12              Sicons All Purpose Tea Tree Dog Shampoo  ...  Pet Supplies\n",
              "20           Sicons Conditioning Conditoner Dog Shampoo  ...  Pet Supplies\n",
              "24    Kennel Rubber Dumbell With Bell - Small Rubber...  ...  Pet Supplies\n",
              "1569                     Snug Hug Jute Chew Toy For Dog  ...  Pet Supplies\n",
              "\n",
              "[5 rows x 3 columns]"
            ]
          },
          "metadata": {
            "tags": []
          },
          "execution_count": 32
        }
      ]
    },
    {
      "cell_type": "code",
      "metadata": {
        "colab": {
          "base_uri": "https://localhost:8080/"
        },
        "id": "u2zb86-3o8sL",
        "outputId": "7c054cc5-84bb-4415-abb9-69b0b9e124ed"
      },
      "source": [
        "final_df.shape"
      ],
      "execution_count": 33,
      "outputs": [
        {
          "output_type": "execute_result",
          "data": {
            "text/plain": [
              "(1269, 3)"
            ]
          },
          "metadata": {
            "tags": []
          },
          "execution_count": 33
        }
      ]
    },
    {
      "cell_type": "code",
      "metadata": {
        "colab": {
          "base_uri": "https://localhost:8080/",
          "height": 53
        },
        "id": "6MC239DeBAfP",
        "outputId": "4535c851-b6a7-4603-d5dc-e1b204701afe"
      },
      "source": [
        "# check for image link for a particular category\r\n",
        "\r\n",
        "final_df['image'][final_df['product_name'] == 'Snug Hug Jute Chew Toy For Dog'].values[0]"
      ],
      "execution_count": 35,
      "outputs": [
        {
          "output_type": "execute_result",
          "data": {
            "application/vnd.google.colaboratory.intrinsic+json": {
              "type": "string"
            },
            "text/plain": [
              "'[\"http://img5a.flixcart.com/image/pet-toy/r/7/m/01-snug-hug-1100x1100-imaeayzpsfpbjb4h.jpeg\", \"http://img6a.flixcart.com/image/pet-toy/r/7/m/01-snug-hug-original-imaeayzpsfpbjb4h.jpeg\"]'"
            ]
          },
          "metadata": {
            "tags": []
          },
          "execution_count": 35
        }
      ]
    },
    {
      "cell_type": "code",
      "metadata": {
        "id": "FP-HHcLT1EKI"
      },
      "source": [
        "# save the csv file\r\n",
        "final_df.to_csv('final.csv', index=False)"
      ],
      "execution_count": 25,
      "outputs": []
    },
    {
      "cell_type": "code",
      "metadata": {
        "id": "eV4CJXy9BOqP"
      },
      "source": [
        ""
      ],
      "execution_count": null,
      "outputs": []
    },
    {
      "cell_type": "code",
      "metadata": {
        "id": "zyIiVRiAfswc"
      },
      "source": [
        ""
      ],
      "execution_count": 95,
      "outputs": []
    },
    {
      "cell_type": "code",
      "metadata": {
        "id": "oDhAVKzalpVX"
      },
      "source": [
        ""
      ],
      "execution_count": 95,
      "outputs": []
    },
    {
      "cell_type": "code",
      "metadata": {
        "id": "Aa5Vtz9VCnvw"
      },
      "source": [
        ""
      ],
      "execution_count": null,
      "outputs": []
    }
  ]
}