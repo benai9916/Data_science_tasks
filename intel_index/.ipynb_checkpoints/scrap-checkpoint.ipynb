{
 "cells": [
  {
   "cell_type": "code",
   "execution_count": 1,
   "metadata": {},
   "outputs": [],
   "source": [
    "from bs4 import BeautifulSoup\n",
    "import requests\n",
    "import pandas as pd\n",
    "import re\n",
    "import matplotlib.pyplot as plt\n",
    "import seaborn as sns"
   ]
  },
  {
   "cell_type": "code",
   "execution_count": 52,
   "metadata": {},
   "outputs": [],
   "source": [
    "# scrap all the page between 2010 to 2020\n",
    "result = []\n",
    "page = 1\n",
    "month = 6\n",
    "\n",
    "for year in range(10, 21):\n",
    "    for two_pages in range(1,11):\n",
    "        url = 'https://www.top500.org/lists/top500/list/20{}/0{}/?page={}'.format(year,month, page)\n",
    "\n",
    "        results = requests.get(url)\n",
    "        result.append(BeautifulSoup(results.content, 'html.parser'))\n",
    "        page += 1\n",
    "        if page > 5:\n",
    "            month = 11\n",
    "            page = 1\n",
    "    month = 6"
   ]
  },
  {
   "cell_type": "code",
   "execution_count": 54,
   "metadata": {},
   "outputs": [],
   "source": [
    "# code to create dataframe from data between 2010 to 2020\n",
    "\n",
    "country = []\n",
    "hpc = []\n",
    "manf = []\n",
    "current_year = []\n",
    "\n",
    "\n",
    "for no, content in enumerate(result):    \n",
    "    header = content.find_all('h1')[0].text.split('-')[1].strip()\n",
    "    year = re.findall(r'[0-9]+', header)[0]\n",
    "\n",
    "    table = content.find('table', {'class' : 'table-condensed'})\n",
    "    for n,row in enumerate(table.select('td:nth-of-type(2)')):\n",
    "        current_year.append(year)\n",
    "        tag_less = row.contents[-1]\n",
    "        if tag_less.name == None:\n",
    "            country.append(str(tag_less).strip())\n",
    "        else:\n",
    "            country.append(tag_less.contents[3].strip())\n",
    "        \n",
    "        manf.append(row.contents[2].strip())\n",
    "        hpc.append(row.a.text.split(',')[0].strip())\n",
    "        \n",
    "    final_df = pd.DataFrame(data={'country': country,'HPC': hpc,'manufacture': manf, 'year':current_year})\n",
    "    "
   ]
  },
  {
   "cell_type": "code",
   "execution_count": 156,
   "metadata": {},
   "outputs": [
    {
     "data": {
      "text/plain": [
       "(11000, 4)"
      ]
     },
     "execution_count": 156,
     "metadata": {},
     "output_type": "execute_result"
    }
   ],
   "source": [
    "final_df.shape"
   ]
  },
  {
   "cell_type": "code",
   "execution_count": 56,
   "metadata": {},
   "outputs": [
    {
     "data": {
      "text/html": [
       "<div>\n",
       "<style scoped>\n",
       "    .dataframe tbody tr th:only-of-type {\n",
       "        vertical-align: middle;\n",
       "    }\n",
       "\n",
       "    .dataframe tbody tr th {\n",
       "        vertical-align: top;\n",
       "    }\n",
       "\n",
       "    .dataframe thead th {\n",
       "        text-align: right;\n",
       "    }\n",
       "</style>\n",
       "<table border=\"1\" class=\"dataframe\">\n",
       "  <thead>\n",
       "    <tr style=\"text-align: right;\">\n",
       "      <th></th>\n",
       "      <th>country</th>\n",
       "      <th>HPC</th>\n",
       "      <th>manufacture</th>\n",
       "      <th>year</th>\n",
       "    </tr>\n",
       "  </thead>\n",
       "  <tbody>\n",
       "    <tr>\n",
       "      <th>10995</th>\n",
       "      <td>Japan</td>\n",
       "      <td>HPE SGI 8600</td>\n",
       "      <td>HPE</td>\n",
       "      <td>2020</td>\n",
       "    </tr>\n",
       "    <tr>\n",
       "      <th>10996</th>\n",
       "      <td>Taiwan</td>\n",
       "      <td>Taiwania - PRIMERGY CX2550 M4/CX2560 M4/CX2570 M4</td>\n",
       "      <td>Fujitsu</td>\n",
       "      <td>2020</td>\n",
       "    </tr>\n",
       "    <tr>\n",
       "      <th>10997</th>\n",
       "      <td>China</td>\n",
       "      <td>Internet Company T EE2 - Lenovo HR650x</td>\n",
       "      <td>Lenovo</td>\n",
       "      <td>2020</td>\n",
       "    </tr>\n",
       "    <tr>\n",
       "      <th>10998</th>\n",
       "      <td>China</td>\n",
       "      <td>Internet Company T EE1 - Lenovo HR650x</td>\n",
       "      <td>Lenovo</td>\n",
       "      <td>2020</td>\n",
       "    </tr>\n",
       "    <tr>\n",
       "      <th>10999</th>\n",
       "      <td>China</td>\n",
       "      <td>Internet Company T FF1 - Lenovo HR650x</td>\n",
       "      <td>Lenovo</td>\n",
       "      <td>2020</td>\n",
       "    </tr>\n",
       "  </tbody>\n",
       "</table>\n",
       "</div>"
      ],
      "text/plain": [
       "      country                                                HPC manufacture  \\\n",
       "10995   Japan                                       HPE SGI 8600         HPE   \n",
       "10996  Taiwan  Taiwania - PRIMERGY CX2550 M4/CX2560 M4/CX2570 M4     Fujitsu   \n",
       "10997   China             Internet Company T EE2 - Lenovo HR650x      Lenovo   \n",
       "10998   China             Internet Company T EE1 - Lenovo HR650x      Lenovo   \n",
       "10999   China             Internet Company T FF1 - Lenovo HR650x      Lenovo   \n",
       "\n",
       "       year  \n",
       "10995  2020  \n",
       "10996  2020  \n",
       "10997  2020  \n",
       "10998  2020  \n",
       "10999  2020  "
      ]
     },
     "execution_count": 56,
     "metadata": {},
     "output_type": "execute_result"
    }
   ],
   "source": [
    "final_df.tail()"
   ]
  },
  {
   "cell_type": "code",
   "execution_count": 59,
   "metadata": {},
   "outputs": [],
   "source": [
    "# drop duplicate rows\n",
    "\n",
    "after_drop = final_df.drop_duplicates(subset=['country','HPC','manufacture'], keep='last')"
   ]
  },
  {
   "cell_type": "code",
   "execution_count": 60,
   "metadata": {},
   "outputs": [
    {
     "data": {
      "text/plain": [
       "array(['United States', 'China', 'Germany', 'Russia', 'South Korea',\n",
       "       'United Kingdom', 'France', 'Japan', 'Saudi Arabia', 'Switzerland',\n",
       "       'Canada', 'India', 'Sweden', 'Italy', 'Finland', 'Brazil', 'Spain',\n",
       "       'Netherlands', 'Australia', 'Norway', 'Poland', 'Slovenia',\n",
       "       'Austria', 'Singapore', 'Hong Kong', 'New Zealand', 'Denmark',\n",
       "       'Turkey', 'South Africa', 'Ireland', 'Israel', 'Belgium', 'Taiwan',\n",
       "       'Slovakia', 'United Arab Emirates', 'Mexico', 'Malaysia',\n",
       "       'Hungary', 'Czechia', 'Bulgaria', 'Greece', 'Croatia', 'Morocco'],\n",
       "      dtype=object)"
      ]
     },
     "execution_count": 60,
     "metadata": {},
     "output_type": "execute_result"
    }
   ],
   "source": [
    "final_df['country'].unique()"
   ]
  },
  {
   "cell_type": "code",
   "execution_count": 61,
   "metadata": {},
   "outputs": [
    {
     "data": {
      "text/plain": [
       "(9459, 4)"
      ]
     },
     "execution_count": 61,
     "metadata": {},
     "output_type": "execute_result"
    }
   ],
   "source": [
    "final_df[final_df.duplicated(subset=['country','HPC'])].shape"
   ]
  },
  {
   "cell_type": "code",
   "execution_count": 62,
   "metadata": {},
   "outputs": [
    {
     "data": {
      "text/plain": [
       "(1547, 4)"
      ]
     },
     "execution_count": 62,
     "metadata": {},
     "output_type": "execute_result"
    }
   ],
   "source": [
    "# after droping the duplicate rows\n",
    "\n",
    "after_drop.shape"
   ]
  },
  {
   "cell_type": "code",
   "execution_count": null,
   "metadata": {},
   "outputs": [],
   "source": []
  },
  {
   "cell_type": "code",
   "execution_count": 63,
   "metadata": {},
   "outputs": [],
   "source": [
    "# get HPC from list of 500\n",
    "\n",
    "url_500  = 'https://www.top500.org/statistics/sublist/'\n",
    "\n",
    "res_500 = BeautifulSoup(requests.get(url_500).content, 'html.parser')"
   ]
  },
  {
   "cell_type": "code",
   "execution_count": 65,
   "metadata": {},
   "outputs": [],
   "source": [
    "country2 = []\n",
    "hpc2 = []\n",
    "manf2 = []\n",
    "release_year = []\n",
    "\n",
    "for row in res_500.select('td:nth-of-type(2)'):\n",
    "    link = row.find_all('a', href=True)[0]['href']\n",
    "\n",
    "    get_date = BeautifulSoup(requests.get('https://www.top500.org'+link).content, 'html.parser')\n",
    "    \n",
    "    for tab in get_date.find_all('table' ,{'class': 'table-responsive'}):\n",
    "        for no,last_td in enumerate(tab.find_all('a')):\n",
    "            length = len(tab.find_all('a'))\n",
    "            \n",
    "            if no +1 == length:\n",
    "                release_year.append(int(last_td.text.split('/')[1]))\n",
    "        \n",
    "    out_of_tag = row.contents[-1]\n",
    "    if out_of_tag.name == None:\n",
    "        country2.append(str(out_of_tag).strip())\n",
    "    else:\n",
    "        country2.append(out_of_tag.contents[3].strip())\n",
    "        \n",
    "    manf2.append(row.contents[2].strip())\n",
    "    hpc2.append(row.a.text.split(',')[0].strip())\n",
    "    \n",
    "    final_df2 = pd.DataFrame(data={'country': country2,'HPC': hpc2,'manufacture': manf2, 'year':release_year})\n"
   ]
  },
  {
   "cell_type": "code",
   "execution_count": 68,
   "metadata": {},
   "outputs": [],
   "source": [
    "final_df2.head()"
   ]
  },
  {
   "cell_type": "code",
   "execution_count": 88,
   "metadata": {},
   "outputs": [
    {
     "data": {
      "text/plain": [
       "['Slovak Republic',\n",
       " 'Slovenia',\n",
       " 'Croatia',\n",
       " 'New Zealand',\n",
       " 'Japan',\n",
       " 'Czech Republic',\n",
       " 'UAE',\n",
       " 'Belgium',\n",
       " 'Brazil',\n",
       " 'Saudi Arabia',\n",
       " 'Norway',\n",
       " 'Austria',\n",
       " 'South Korea',\n",
       " 'Turkey',\n",
       " 'Sweden',\n",
       " 'Poland',\n",
       " 'Taiwan',\n",
       " 'Morocco',\n",
       " 'Mexico',\n",
       " 'Hungary',\n",
       " 'Switzerland',\n",
       " 'Ireland',\n",
       " 'Greece',\n",
       " 'Malaysia',\n",
       " 'United Kingdom',\n",
       " 'Canada',\n",
       " 'Israel',\n",
       " 'China',\n",
       " 'India',\n",
       " 'United States',\n",
       " 'South Africa',\n",
       " 'Hong Kong',\n",
       " 'Denmark',\n",
       " 'Italy',\n",
       " 'Bulgaria',\n",
       " 'Australia',\n",
       " 'Netherlands',\n",
       " 'Singapore',\n",
       " 'France',\n",
       " 'Russia',\n",
       " 'Germany',\n",
       " 'Finland',\n",
       " 'Spain']"
      ]
     },
     "execution_count": 88,
     "metadata": {},
     "output_type": "execute_result"
    }
   ],
   "source": [
    "# change the country name to scrap the GDP per capita\n",
    "\n",
    "hcp_countries = list(set(final_df['country'].unique()) | set(final_df2['country'].unique()))\n",
    "hcp_countries.index('United Arab Emirates')\n",
    "hcp_countries[6] = 'UAE'\n",
    "\n",
    "hcp_countries.index('Czechia')\n",
    "hcp_countries[5] = 'Czech Republic'\n",
    "\n",
    "hcp_countries.index('Slovakia')\n",
    "hcp_countries[0] = 'Slovak Republic'\n",
    "hcp_countries"
   ]
  },
  {
   "cell_type": "code",
   "execution_count": 70,
   "metadata": {},
   "outputs": [],
   "source": [
    "# scrap GDP data\n",
    "\n",
    "gdp_url = 'https://www.macrotrends.net/countries/ranking/gdp-per-capita'\n",
    "\n",
    "gdp_data = BeautifulSoup(requests.get(gdp_url).content, 'html.parser')"
   ]
  },
  {
   "cell_type": "code",
   "execution_count": null,
   "metadata": {},
   "outputs": [],
   "source": [
    "gdp_year = []\n",
    "gdp = []\n",
    "gdp_country = []\n",
    "\n",
    "for country in gdp_data.find_all('table', {'id': 'country_ranking'}):\n",
    "    for content in country.select('td:nth-of-type(1)', href=True):\n",
    "        country_name = content.text\n",
    "        global add_country\n",
    "        \n",
    "        if country_name in hcp_countries:\n",
    "            add_country = country_name\n",
    "            link = content.a['href']\n",
    "            get_date = BeautifulSoup(requests.get('https://www.macrotrends.net/'+link).content, 'html.parser')\n",
    "        \n",
    "            for all_data in get_date.find_all('div', {'class': 'col-xs-6'}):\n",
    "                for data in all_data.find_all('td')[:30]:\n",
    "                    remove_perc = data.text\n",
    "                    if remove_perc.count('$') > 0:\n",
    "                        remove_doller = remove_perc.split('$')[1]\n",
    "                        if ',' in remove_doller:\n",
    "                            remove_doller = remove_doller.split(',')\n",
    "                            remove_doller = remove_doller[0] + remove_doller[1]\n",
    "#                         print(remove_doller)\n",
    "                        gdp.append(remove_doller)\n",
    "                    elif remove_perc.count('%') > 0:\n",
    "                        pass\n",
    "                    else:\n",
    "                        gdp_year.append(remove_perc)\n",
    "                        gdp_country.append(add_country)\n",
    "                    \n",
    "    gdp_df = pd.DataFrame(data={'country': gdp_country,'year': gdp_year,'GDP': gdp})"
   ]
  },
  {
   "cell_type": "code",
   "execution_count": 157,
   "metadata": {},
   "outputs": [
    {
     "data": {
      "text/html": [
       "<div>\n",
       "<style scoped>\n",
       "    .dataframe tbody tr th:only-of-type {\n",
       "        vertical-align: middle;\n",
       "    }\n",
       "\n",
       "    .dataframe tbody tr th {\n",
       "        vertical-align: top;\n",
       "    }\n",
       "\n",
       "    .dataframe thead th {\n",
       "        text-align: right;\n",
       "    }\n",
       "</style>\n",
       "<table border=\"1\" class=\"dataframe\">\n",
       "  <thead>\n",
       "    <tr style=\"text-align: right;\">\n",
       "      <th></th>\n",
       "      <th>country</th>\n",
       "      <th>year</th>\n",
       "      <th>GDP</th>\n",
       "    </tr>\n",
       "  </thead>\n",
       "  <tbody>\n",
       "    <tr>\n",
       "      <th>0</th>\n",
       "      <td>Switzerland</td>\n",
       "      <td>2019</td>\n",
       "      <td>81994</td>\n",
       "    </tr>\n",
       "    <tr>\n",
       "      <th>1</th>\n",
       "      <td>Switzerland</td>\n",
       "      <td>2018</td>\n",
       "      <td>82818</td>\n",
       "    </tr>\n",
       "    <tr>\n",
       "      <th>2</th>\n",
       "      <td>Switzerland</td>\n",
       "      <td>2017</td>\n",
       "      <td>80450</td>\n",
       "    </tr>\n",
       "    <tr>\n",
       "      <th>3</th>\n",
       "      <td>Switzerland</td>\n",
       "      <td>2016</td>\n",
       "      <td>80172</td>\n",
       "    </tr>\n",
       "    <tr>\n",
       "      <th>4</th>\n",
       "      <td>Switzerland</td>\n",
       "      <td>2015</td>\n",
       "      <td>82082</td>\n",
       "    </tr>\n",
       "  </tbody>\n",
       "</table>\n",
       "</div>"
      ],
      "text/plain": [
       "       country  year    GDP\n",
       "0  Switzerland  2019  81994\n",
       "1  Switzerland  2018  82818\n",
       "2  Switzerland  2017  80450\n",
       "3  Switzerland  2016  80172\n",
       "4  Switzerland  2015  82082"
      ]
     },
     "execution_count": 157,
     "metadata": {},
     "output_type": "execute_result"
    }
   ],
   "source": [
    "gdp_df.head()\n"
   ]
  },
  {
   "cell_type": "code",
   "execution_count": 92,
   "metadata": {},
   "outputs": [
    {
     "data": {
      "text/plain": [
       "(420, 3)"
      ]
     },
     "execution_count": 92,
     "metadata": {},
     "output_type": "execute_result"
    }
   ],
   "source": [
    "gdp_df.shape"
   ]
  },
  {
   "cell_type": "code",
   "execution_count": null,
   "metadata": {},
   "outputs": [],
   "source": []
  },
  {
   "cell_type": "code",
   "execution_count": 93,
   "metadata": {},
   "outputs": [],
   "source": [
    "# join the GDP dataframe and the HPC dataframe\n",
    "\n",
    "last_df = pd.concat([after_drop, final_df2])"
   ]
  },
  {
   "cell_type": "code",
   "execution_count": 94,
   "metadata": {},
   "outputs": [
    {
     "data": {
      "text/plain": [
       "((2047, 4), (1547, 4))"
      ]
     },
     "execution_count": 94,
     "metadata": {},
     "output_type": "execute_result"
    }
   ],
   "source": [
    "last_df.shape, after_drop.shape"
   ]
  },
  {
   "cell_type": "code",
   "execution_count": 95,
   "metadata": {},
   "outputs": [],
   "source": [
    "# if there is any duplicate after merging the dataframe, then drop it\n",
    "\n",
    "last_df = last_df.drop_duplicates(subset=['HPC', 'country', 'manufacture'])"
   ]
  },
  {
   "cell_type": "code",
   "execution_count": 96,
   "metadata": {},
   "outputs": [
    {
     "data": {
      "text/html": [
       "<div>\n",
       "<style scoped>\n",
       "    .dataframe tbody tr th:only-of-type {\n",
       "        vertical-align: middle;\n",
       "    }\n",
       "\n",
       "    .dataframe tbody tr th {\n",
       "        vertical-align: top;\n",
       "    }\n",
       "\n",
       "    .dataframe thead th {\n",
       "        text-align: right;\n",
       "    }\n",
       "</style>\n",
       "<table border=\"1\" class=\"dataframe\">\n",
       "  <thead>\n",
       "    <tr style=\"text-align: right;\">\n",
       "      <th></th>\n",
       "      <th>country</th>\n",
       "      <th>HPC</th>\n",
       "      <th>manufacture</th>\n",
       "      <th>year</th>\n",
       "    </tr>\n",
       "  </thead>\n",
       "  <tbody>\n",
       "    <tr>\n",
       "      <th>6</th>\n",
       "      <td>China</td>\n",
       "      <td>Tianhe-1 - NUDT TH-1 Cluster</td>\n",
       "      <td>NUDT</td>\n",
       "      <td>2010</td>\n",
       "    </tr>\n",
       "    <tr>\n",
       "      <th>94</th>\n",
       "      <td>United States</td>\n",
       "      <td>Zeus - Cray XE6 12-core 2.0 GHz</td>\n",
       "      <td>Cray/HPE</td>\n",
       "      <td>2010</td>\n",
       "    </tr>\n",
       "    <tr>\n",
       "      <th>246</th>\n",
       "      <td>United States</td>\n",
       "      <td>Grendel - PowerEdge 1950</td>\n",
       "      <td>Dell EMC</td>\n",
       "      <td>2010</td>\n",
       "    </tr>\n",
       "    <tr>\n",
       "      <th>312</th>\n",
       "      <td>China</td>\n",
       "      <td>Cluster Platform 3000 BL460c G1</td>\n",
       "      <td>HPE</td>\n",
       "      <td>2010</td>\n",
       "    </tr>\n",
       "    <tr>\n",
       "      <th>320</th>\n",
       "      <td>United Kingdom</td>\n",
       "      <td>WillowA - Bullx B500 Blade system</td>\n",
       "      <td>Atos</td>\n",
       "      <td>2010</td>\n",
       "    </tr>\n",
       "  </tbody>\n",
       "</table>\n",
       "</div>"
      ],
      "text/plain": [
       "            country                                HPC manufacture  year\n",
       "6             China       Tianhe-1 - NUDT TH-1 Cluster        NUDT  2010\n",
       "94    United States    Zeus - Cray XE6 12-core 2.0 GHz    Cray/HPE  2010\n",
       "246   United States           Grendel - PowerEdge 1950    Dell EMC  2010\n",
       "312           China    Cluster Platform 3000 BL460c G1         HPE  2010\n",
       "320  United Kingdom  WillowA - Bullx B500 Blade system        Atos  2010"
      ]
     },
     "execution_count": 96,
     "metadata": {},
     "output_type": "execute_result"
    }
   ],
   "source": [
    "last_df.head()"
   ]
  },
  {
   "cell_type": "code",
   "execution_count": 97,
   "metadata": {},
   "outputs": [],
   "source": [
    "# GDP for taiwan\n",
    "\n",
    "t_year = [2019, 2018, 2017, 2016, 2015, 2014, 2013, 2012, 2011, 2010]\n",
    "t_gdp = ['25909', '25792', '25080', '23091', '22780', '22874', '21973', '21295', '20866', '19197']\n",
    "tiwan = pd.DataFrame({'country': 'Taiwan', 'year': t_year, 'GDP': t_gdp})"
   ]
  },
  {
   "cell_type": "code",
   "execution_count": 98,
   "metadata": {},
   "outputs": [],
   "source": [
    "# append it to the gdp_df\n",
    "\n",
    "gdp_df = gdp_df.append(tiwan)"
   ]
  },
  {
   "cell_type": "code",
   "execution_count": 99,
   "metadata": {},
   "outputs": [
    {
     "data": {
      "text/plain": [
       "(430, 3)"
      ]
     },
     "execution_count": 99,
     "metadata": {},
     "output_type": "execute_result"
    }
   ],
   "source": [
    "gdp_df.shape"
   ]
  },
  {
   "cell_type": "code",
   "execution_count": 158,
   "metadata": {},
   "outputs": [],
   "source": [
    "# gdp for 2020\n",
    "\n",
    "t20_gdp = ['10500', '53240', '89000', '26900', '25200', '8130', '5600', '25000', '46500',\n",
    "          '37300', '10400', '33042', '45100', '52900', '31100', '13600', '58500', '7180',\n",
    "          '8500', '77200', '12150', '46000', '15500', '3150', '36060', '39800', '22500', '54200', '46500',\n",
    "          '37375', '16200', '62200', '9800', '50100', '20490', '15200', '33800', '1876','41800', '27271', '47200', '19300', '77000']"
   ]
  },
  {
   "cell_type": "code",
   "execution_count": 101,
   "metadata": {},
   "outputs": [
    {
     "data": {
      "text/html": [
       "<div>\n",
       "<style scoped>\n",
       "    .dataframe tbody tr th:only-of-type {\n",
       "        vertical-align: middle;\n",
       "    }\n",
       "\n",
       "    .dataframe tbody tr th {\n",
       "        vertical-align: top;\n",
       "    }\n",
       "\n",
       "    .dataframe thead th {\n",
       "        text-align: right;\n",
       "    }\n",
       "</style>\n",
       "<table border=\"1\" class=\"dataframe\">\n",
       "  <thead>\n",
       "    <tr style=\"text-align: right;\">\n",
       "      <th></th>\n",
       "      <th>country</th>\n",
       "      <th>year</th>\n",
       "      <th>GDP</th>\n",
       "    </tr>\n",
       "  </thead>\n",
       "  <tbody>\n",
       "    <tr>\n",
       "      <th>0</th>\n",
       "      <td>Slovak Republic</td>\n",
       "      <td>2020</td>\n",
       "      <td>10500</td>\n",
       "    </tr>\n",
       "    <tr>\n",
       "      <th>1</th>\n",
       "      <td>Slovenia</td>\n",
       "      <td>2020</td>\n",
       "      <td>53240</td>\n",
       "    </tr>\n",
       "    <tr>\n",
       "      <th>2</th>\n",
       "      <td>Croatia</td>\n",
       "      <td>2020</td>\n",
       "      <td>89000</td>\n",
       "    </tr>\n",
       "    <tr>\n",
       "      <th>3</th>\n",
       "      <td>New Zealand</td>\n",
       "      <td>2020</td>\n",
       "      <td>26900</td>\n",
       "    </tr>\n",
       "    <tr>\n",
       "      <th>4</th>\n",
       "      <td>Japan</td>\n",
       "      <td>2020</td>\n",
       "      <td>25200</td>\n",
       "    </tr>\n",
       "  </tbody>\n",
       "</table>\n",
       "</div>"
      ],
      "text/plain": [
       "           country  year    GDP\n",
       "0  Slovak Republic  2020  10500\n",
       "1         Slovenia  2020  53240\n",
       "2          Croatia  2020  89000\n",
       "3      New Zealand  2020  26900\n",
       "4            Japan  2020  25200"
      ]
     },
     "execution_count": 101,
     "metadata": {},
     "output_type": "execute_result"
    }
   ],
   "source": [
    "twenty = pd.DataFrame({'country': hcp_countries, 'year': 2020, 'GDP': t20_gdp})\n",
    "twenty.head()"
   ]
  },
  {
   "cell_type": "code",
   "execution_count": 102,
   "metadata": {},
   "outputs": [],
   "source": [
    "# concat  2020 gdp data\n",
    "\n",
    "gdp_df = gdp_df.append(twenty)"
   ]
  },
  {
   "cell_type": "code",
   "execution_count": 103,
   "metadata": {},
   "outputs": [
    {
     "data": {
      "text/plain": [
       "(       country  year    GDP\n",
       " 0  Switzerland  2019  81994\n",
       " 1  Switzerland  2018  82818, (473, 3))"
      ]
     },
     "execution_count": 103,
     "metadata": {},
     "output_type": "execute_result"
    }
   ],
   "source": [
    "gdp_df.head(2), gdp_df.shape"
   ]
  },
  {
   "cell_type": "code",
   "execution_count": 104,
   "metadata": {},
   "outputs": [],
   "source": [
    "# save files to csv\n",
    "\n",
    "final_df.to_csv('final1.csv', index=False)\n",
    "final_df2.to_csv('final2.csv', index=False)\n",
    "last_df.to_csv('last.csv', index=False)\n",
    "gdp_df.to_csv('gdp.csv', index=False)"
   ]
  },
  {
   "cell_type": "code",
   "execution_count": 107,
   "metadata": {},
   "outputs": [
    {
     "data": {
      "text/plain": [
       "43"
      ]
     },
     "execution_count": 107,
     "metadata": {},
     "output_type": "execute_result"
    }
   ],
   "source": [
    "len(last_df['country'].value_counts())"
   ]
  },
  {
   "cell_type": "code",
   "execution_count": 108,
   "metadata": {},
   "outputs": [
    {
     "data": {
      "text/plain": [
       "43"
      ]
     },
     "execution_count": 108,
     "metadata": {},
     "output_type": "execute_result"
    }
   ],
   "source": [
    "len(gdp_df['country'].value_counts())"
   ]
  },
  {
   "cell_type": "code",
   "execution_count": 109,
   "metadata": {},
   "outputs": [],
   "source": [
    "country_group = last_df.groupby(['year', 'country'])['HPC'].count()"
   ]
  },
  {
   "cell_type": "code",
   "execution_count": 110,
   "metadata": {},
   "outputs": [
    {
     "data": {
      "text/html": [
       "<div>\n",
       "<style scoped>\n",
       "    .dataframe tbody tr th:only-of-type {\n",
       "        vertical-align: middle;\n",
       "    }\n",
       "\n",
       "    .dataframe tbody tr th {\n",
       "        vertical-align: top;\n",
       "    }\n",
       "\n",
       "    .dataframe thead th {\n",
       "        text-align: right;\n",
       "    }\n",
       "</style>\n",
       "<table border=\"1\" class=\"dataframe\">\n",
       "  <thead>\n",
       "    <tr style=\"text-align: right;\">\n",
       "      <th></th>\n",
       "      <th></th>\n",
       "      <th>HPC</th>\n",
       "    </tr>\n",
       "    <tr>\n",
       "      <th>year</th>\n",
       "      <th>country</th>\n",
       "      <th></th>\n",
       "    </tr>\n",
       "  </thead>\n",
       "  <tbody>\n",
       "    <tr>\n",
       "      <th rowspan=\"5\" valign=\"top\">2020</th>\n",
       "      <th>Switzerland</th>\n",
       "      <td>3</td>\n",
       "    </tr>\n",
       "    <tr>\n",
       "      <th>Taiwan</th>\n",
       "      <td>3</td>\n",
       "    </tr>\n",
       "    <tr>\n",
       "      <th>United Arab Emirates</th>\n",
       "      <td>2</td>\n",
       "    </tr>\n",
       "    <tr>\n",
       "      <th>United Kingdom</th>\n",
       "      <td>8</td>\n",
       "    </tr>\n",
       "    <tr>\n",
       "      <th>United States</th>\n",
       "      <td>106</td>\n",
       "    </tr>\n",
       "  </tbody>\n",
       "</table>\n",
       "</div>"
      ],
      "text/plain": [
       "                           HPC\n",
       "year country                  \n",
       "2020 Switzerland             3\n",
       "     Taiwan                  3\n",
       "     United Arab Emirates    2\n",
       "     United Kingdom          8\n",
       "     United States         106"
      ]
     },
     "execution_count": 110,
     "metadata": {},
     "output_type": "execute_result"
    }
   ],
   "source": [
    "pd.DataFrame(country_group).tail()"
   ]
  },
  {
   "cell_type": "code",
   "execution_count": 160,
   "metadata": {},
   "outputs": [],
   "source": [
    "# count the number of HPC per year in each country\n",
    "\n",
    "fyear = []\n",
    "fcountry = []\n",
    "fhpc = []\n",
    "\n",
    "for i in country_group.items():\n",
    "    for c in hcp_countries:\n",
    "        if c == i[0][1]:\n",
    "            fyear.append(i[0][0])\n",
    "            fcountry.append(i[0][1])\n",
    "            fhpc.append(i[1])\n",
    "        else:\n",
    "            fyear.append(i[0][0])\n",
    "            fcountry.append(c)\n",
    "            fhpc.append(0)\n",
    "            \n",
    "hpc_yearly = pd.DataFrame({'year': fyear, 'country': fcountry, 'hpc_no': fhpc})"
   ]
  },
  {
   "cell_type": "code",
   "execution_count": 161,
   "metadata": {},
   "outputs": [
    {
     "data": {
      "text/plain": [
       "(730, 3)"
      ]
     },
     "execution_count": 161,
     "metadata": {},
     "output_type": "execute_result"
    }
   ],
   "source": [
    "s = hpc_yearly.drop_duplicates(subset=['year','country', 'hpc_no'], keep='first')\n",
    "s.shape"
   ]
  },
  {
   "cell_type": "code",
   "execution_count": 135,
   "metadata": {},
   "outputs": [],
   "source": [
    "# load the save csv file for gdp\n",
    "\n",
    "load_gdp = pd.read_csv('gdp.csv')"
   ]
  },
  {
   "cell_type": "code",
   "execution_count": 136,
   "metadata": {},
   "outputs": [],
   "source": [
    "# change few country name in gdp\n",
    "\n",
    "load_gdp.loc[load_gdp['country'] == 'UAE', 'country'] = 'United Arab Emirates'\n",
    "\n",
    "load_gdp.loc[load_gdp['country'] == 'Czechia', 'country'] = 'Czech Republic'\n",
    "\n",
    "load_gdp.loc[load_gdp['country'] == 'Slovakia', 'country'] = 'Slovak Republic'"
   ]
  },
  {
   "cell_type": "code",
   "execution_count": 137,
   "metadata": {},
   "outputs": [
    {
     "data": {
      "text/html": [
       "<div>\n",
       "<style scoped>\n",
       "    .dataframe tbody tr th:only-of-type {\n",
       "        vertical-align: middle;\n",
       "    }\n",
       "\n",
       "    .dataframe tbody tr th {\n",
       "        vertical-align: top;\n",
       "    }\n",
       "\n",
       "    .dataframe thead th {\n",
       "        text-align: right;\n",
       "    }\n",
       "</style>\n",
       "<table border=\"1\" class=\"dataframe\">\n",
       "  <thead>\n",
       "    <tr style=\"text-align: right;\">\n",
       "      <th></th>\n",
       "      <th>country</th>\n",
       "      <th>year</th>\n",
       "      <th>GDP</th>\n",
       "    </tr>\n",
       "  </thead>\n",
       "  <tbody>\n",
       "    <tr>\n",
       "      <th>340</th>\n",
       "      <td>China</td>\n",
       "      <td>2019</td>\n",
       "      <td>10262</td>\n",
       "    </tr>\n",
       "    <tr>\n",
       "      <th>341</th>\n",
       "      <td>China</td>\n",
       "      <td>2018</td>\n",
       "      <td>9977</td>\n",
       "    </tr>\n",
       "    <tr>\n",
       "      <th>342</th>\n",
       "      <td>China</td>\n",
       "      <td>2017</td>\n",
       "      <td>8879</td>\n",
       "    </tr>\n",
       "    <tr>\n",
       "      <th>343</th>\n",
       "      <td>China</td>\n",
       "      <td>2016</td>\n",
       "      <td>8148</td>\n",
       "    </tr>\n",
       "    <tr>\n",
       "      <th>344</th>\n",
       "      <td>China</td>\n",
       "      <td>2015</td>\n",
       "      <td>8067</td>\n",
       "    </tr>\n",
       "    <tr>\n",
       "      <th>345</th>\n",
       "      <td>China</td>\n",
       "      <td>2014</td>\n",
       "      <td>7679</td>\n",
       "    </tr>\n",
       "    <tr>\n",
       "      <th>346</th>\n",
       "      <td>China</td>\n",
       "      <td>2013</td>\n",
       "      <td>7051</td>\n",
       "    </tr>\n",
       "    <tr>\n",
       "      <th>347</th>\n",
       "      <td>China</td>\n",
       "      <td>2012</td>\n",
       "      <td>6317</td>\n",
       "    </tr>\n",
       "    <tr>\n",
       "      <th>348</th>\n",
       "      <td>China</td>\n",
       "      <td>2011</td>\n",
       "      <td>5618</td>\n",
       "    </tr>\n",
       "    <tr>\n",
       "      <th>349</th>\n",
       "      <td>China</td>\n",
       "      <td>2010</td>\n",
       "      <td>4550</td>\n",
       "    </tr>\n",
       "    <tr>\n",
       "      <th>457</th>\n",
       "      <td>China</td>\n",
       "      <td>2020</td>\n",
       "      <td>54200</td>\n",
       "    </tr>\n",
       "  </tbody>\n",
       "</table>\n",
       "</div>"
      ],
      "text/plain": [
       "    country  year    GDP\n",
       "340   China  2019  10262\n",
       "341   China  2018   9977\n",
       "342   China  2017   8879\n",
       "343   China  2016   8148\n",
       "344   China  2015   8067\n",
       "345   China  2014   7679\n",
       "346   China  2013   7051\n",
       "347   China  2012   6317\n",
       "348   China  2011   5618\n",
       "349   China  2010   4550\n",
       "457   China  2020  54200"
      ]
     },
     "execution_count": 137,
     "metadata": {},
     "output_type": "execute_result"
    }
   ],
   "source": [
    "load_gdp[load_gdp['country'] == 'China']"
   ]
  },
  {
   "cell_type": "code",
   "execution_count": 138,
   "metadata": {},
   "outputs": [
    {
     "data": {
      "text/plain": [
       "28       0\n",
       "329      4\n",
       "1189     0\n",
       "1576     1\n",
       "2221     0\n",
       "2565     2\n",
       "3339     0\n",
       "3683     1\n",
       "4285     0\n",
       "5188     0\n",
       "5704     2\n",
       "6435     0\n",
       "6822     4\n",
       "7295     0\n",
       "7725     3\n",
       "8327     0\n",
       "8542     2\n",
       "9230     0\n",
       "9531     1\n",
       "10004    0\n",
       "10434    3\n",
       "Name: hpc_no, dtype: int64"
      ]
     },
     "execution_count": 138,
     "metadata": {},
     "output_type": "execute_result"
    }
   ],
   "source": [
    "gg= s.groupby('country')['hpc_no']\n",
    "\n",
    "gg.get_group('India')"
   ]
  },
  {
   "cell_type": "code",
   "execution_count": 162,
   "metadata": {},
   "outputs": [
    {
     "data": {
      "text/html": [
       "<div>\n",
       "<style scoped>\n",
       "    .dataframe tbody tr th:only-of-type {\n",
       "        vertical-align: middle;\n",
       "    }\n",
       "\n",
       "    .dataframe tbody tr th {\n",
       "        vertical-align: top;\n",
       "    }\n",
       "\n",
       "    .dataframe thead th {\n",
       "        text-align: right;\n",
       "    }\n",
       "</style>\n",
       "<table border=\"1\" class=\"dataframe\">\n",
       "  <thead>\n",
       "    <tr style=\"text-align: right;\">\n",
       "      <th></th>\n",
       "      <th>year</th>\n",
       "      <th>country</th>\n",
       "      <th>hpc_no</th>\n",
       "    </tr>\n",
       "  </thead>\n",
       "  <tbody>\n",
       "    <tr>\n",
       "      <th>0</th>\n",
       "      <td>2010</td>\n",
       "      <td>Slovak Republic</td>\n",
       "      <td>0</td>\n",
       "    </tr>\n",
       "    <tr>\n",
       "      <th>7435</th>\n",
       "      <td>2017</td>\n",
       "      <td>Russia</td>\n",
       "      <td>0</td>\n",
       "    </tr>\n",
       "    <tr>\n",
       "      <th>7436</th>\n",
       "      <td>2017</td>\n",
       "      <td>Germany</td>\n",
       "      <td>0</td>\n",
       "    </tr>\n",
       "    <tr>\n",
       "      <th>7437</th>\n",
       "      <td>2017</td>\n",
       "      <td>Finland</td>\n",
       "      <td>0</td>\n",
       "    </tr>\n",
       "    <tr>\n",
       "      <th>7438</th>\n",
       "      <td>2017</td>\n",
       "      <td>Spain</td>\n",
       "      <td>0</td>\n",
       "    </tr>\n",
       "  </tbody>\n",
       "</table>\n",
       "</div>"
      ],
      "text/plain": [
       "      year          country  hpc_no\n",
       "0     2010  Slovak Republic       0\n",
       "7435  2017           Russia       0\n",
       "7436  2017          Germany       0\n",
       "7437  2017          Finland       0\n",
       "7438  2017            Spain       0"
      ]
     },
     "execution_count": 162,
     "metadata": {},
     "output_type": "execute_result"
    }
   ],
   "source": [
    "# sort by no of hcp\n",
    "\n",
    "sorted_hpc = check.sort_values('hpc_no')\n",
    "sorted_hpc.head()"
   ]
  },
  {
   "cell_type": "code",
   "execution_count": 165,
   "metadata": {},
   "outputs": [
    {
     "data": {
      "text/plain": [
       "year       0\n",
       "country    0\n",
       "hpc_no     0\n",
       "dtype: int64"
      ]
     },
     "execution_count": 165,
     "metadata": {},
     "output_type": "execute_result"
    }
   ],
   "source": [
    "# drop duplicate rows by all three column\n",
    "\n",
    "drop_dup_three = sorted_hpc.drop_duplicates(subset=['year','country', 'hpc_no'], keep='last')\n",
    "drop_dup_three.isna().sum()"
   ]
  },
  {
   "cell_type": "code",
   "execution_count": 166,
   "metadata": {},
   "outputs": [
    {
     "data": {
      "text/plain": [
       "year       0\n",
       "country    0\n",
       "hpc_no     0\n",
       "dtype: int64"
      ]
     },
     "execution_count": 166,
     "metadata": {},
     "output_type": "execute_result"
    }
   ],
   "source": [
    "# drop duplicate rows by two column\n",
    "\n",
    "drop_final_dup = sorted_hpc.drop_duplicates(subset=['year','country'], keep='last')\n",
    "drop_final_dup.isna().sum()"
   ]
  },
  {
   "cell_type": "code",
   "execution_count": 167,
   "metadata": {},
   "outputs": [
    {
     "data": {
      "text/html": [
       "<div>\n",
       "<style scoped>\n",
       "    .dataframe tbody tr th:only-of-type {\n",
       "        vertical-align: middle;\n",
       "    }\n",
       "\n",
       "    .dataframe tbody tr th {\n",
       "        vertical-align: top;\n",
       "    }\n",
       "\n",
       "    .dataframe thead th {\n",
       "        text-align: right;\n",
       "    }\n",
       "</style>\n",
       "<table border=\"1\" class=\"dataframe\">\n",
       "  <thead>\n",
       "    <tr style=\"text-align: right;\">\n",
       "      <th></th>\n",
       "      <th>year</th>\n",
       "      <th>country</th>\n",
       "      <th>hpc_no</th>\n",
       "    </tr>\n",
       "  </thead>\n",
       "  <tbody>\n",
       "    <tr>\n",
       "      <th>329</th>\n",
       "      <td>2010</td>\n",
       "      <td>India</td>\n",
       "      <td>4</td>\n",
       "    </tr>\n",
       "    <tr>\n",
       "      <th>1576</th>\n",
       "      <td>2011</td>\n",
       "      <td>India</td>\n",
       "      <td>1</td>\n",
       "    </tr>\n",
       "    <tr>\n",
       "      <th>2565</th>\n",
       "      <td>2012</td>\n",
       "      <td>India</td>\n",
       "      <td>2</td>\n",
       "    </tr>\n",
       "    <tr>\n",
       "      <th>3683</th>\n",
       "      <td>2013</td>\n",
       "      <td>India</td>\n",
       "      <td>1</td>\n",
       "    </tr>\n",
       "    <tr>\n",
       "      <th>5059</th>\n",
       "      <td>2014</td>\n",
       "      <td>India</td>\n",
       "      <td>0</td>\n",
       "    </tr>\n",
       "    <tr>\n",
       "      <th>5704</th>\n",
       "      <td>2015</td>\n",
       "      <td>India</td>\n",
       "      <td>2</td>\n",
       "    </tr>\n",
       "    <tr>\n",
       "      <th>6822</th>\n",
       "      <td>2016</td>\n",
       "      <td>India</td>\n",
       "      <td>4</td>\n",
       "    </tr>\n",
       "    <tr>\n",
       "      <th>7725</th>\n",
       "      <td>2017</td>\n",
       "      <td>India</td>\n",
       "      <td>3</td>\n",
       "    </tr>\n",
       "    <tr>\n",
       "      <th>8542</th>\n",
       "      <td>2018</td>\n",
       "      <td>India</td>\n",
       "      <td>2</td>\n",
       "    </tr>\n",
       "    <tr>\n",
       "      <th>9531</th>\n",
       "      <td>2019</td>\n",
       "      <td>India</td>\n",
       "      <td>1</td>\n",
       "    </tr>\n",
       "    <tr>\n",
       "      <th>10434</th>\n",
       "      <td>2020</td>\n",
       "      <td>India</td>\n",
       "      <td>3</td>\n",
       "    </tr>\n",
       "  </tbody>\n",
       "</table>\n",
       "</div>"
      ],
      "text/plain": [
       "       year country  hpc_no\n",
       "329    2010   India       4\n",
       "1576   2011   India       1\n",
       "2565   2012   India       2\n",
       "3683   2013   India       1\n",
       "5059   2014   India       0\n",
       "5704   2015   India       2\n",
       "6822   2016   India       4\n",
       "7725   2017   India       3\n",
       "8542   2018   India       2\n",
       "9531   2019   India       1\n",
       "10434  2020   India       3"
      ]
     },
     "execution_count": 167,
     "metadata": {},
     "output_type": "execute_result"
    }
   ],
   "source": [
    "omg = drop_final_dup.groupby('country')\n",
    "y = omg.get_group('India')\n",
    "y.sort_values('year')"
   ]
  },
  {
   "cell_type": "code",
   "execution_count": 143,
   "metadata": {},
   "outputs": [
    {
     "data": {
      "text/html": [
       "<div>\n",
       "<style scoped>\n",
       "    .dataframe tbody tr th:only-of-type {\n",
       "        vertical-align: middle;\n",
       "    }\n",
       "\n",
       "    .dataframe tbody tr th {\n",
       "        vertical-align: top;\n",
       "    }\n",
       "\n",
       "    .dataframe thead th {\n",
       "        text-align: right;\n",
       "    }\n",
       "</style>\n",
       "<table border=\"1\" class=\"dataframe\">\n",
       "  <thead>\n",
       "    <tr style=\"text-align: right;\">\n",
       "      <th></th>\n",
       "      <th>year</th>\n",
       "      <th>country</th>\n",
       "      <th>hpc_no</th>\n",
       "    </tr>\n",
       "  </thead>\n",
       "  <tbody>\n",
       "    <tr>\n",
       "      <th>329</th>\n",
       "      <td>2010</td>\n",
       "      <td>India</td>\n",
       "      <td>4</td>\n",
       "    </tr>\n",
       "    <tr>\n",
       "      <th>1576</th>\n",
       "      <td>2011</td>\n",
       "      <td>India</td>\n",
       "      <td>1</td>\n",
       "    </tr>\n",
       "    <tr>\n",
       "      <th>2565</th>\n",
       "      <td>2012</td>\n",
       "      <td>India</td>\n",
       "      <td>2</td>\n",
       "    </tr>\n",
       "    <tr>\n",
       "      <th>3683</th>\n",
       "      <td>2013</td>\n",
       "      <td>India</td>\n",
       "      <td>1</td>\n",
       "    </tr>\n",
       "    <tr>\n",
       "      <th>5704</th>\n",
       "      <td>2015</td>\n",
       "      <td>India</td>\n",
       "      <td>2</td>\n",
       "    </tr>\n",
       "    <tr>\n",
       "      <th>6822</th>\n",
       "      <td>2016</td>\n",
       "      <td>India</td>\n",
       "      <td>4</td>\n",
       "    </tr>\n",
       "    <tr>\n",
       "      <th>7725</th>\n",
       "      <td>2017</td>\n",
       "      <td>India</td>\n",
       "      <td>3</td>\n",
       "    </tr>\n",
       "    <tr>\n",
       "      <th>8542</th>\n",
       "      <td>2018</td>\n",
       "      <td>India</td>\n",
       "      <td>2</td>\n",
       "    </tr>\n",
       "    <tr>\n",
       "      <th>9531</th>\n",
       "      <td>2019</td>\n",
       "      <td>India</td>\n",
       "      <td>1</td>\n",
       "    </tr>\n",
       "    <tr>\n",
       "      <th>10434</th>\n",
       "      <td>2020</td>\n",
       "      <td>India</td>\n",
       "      <td>3</td>\n",
       "    </tr>\n",
       "  </tbody>\n",
       "</table>\n",
       "</div>"
      ],
      "text/plain": [
       "       year country  hpc_no\n",
       "329    2010   India       4\n",
       "1576   2011   India       1\n",
       "2565   2012   India       2\n",
       "3683   2013   India       1\n",
       "5704   2015   India       2\n",
       "6822   2016   India       4\n",
       "7725   2017   India       3\n",
       "8542   2018   India       2\n",
       "9531   2019   India       1\n",
       "10434  2020   India       3"
      ]
     },
     "execution_count": 143,
     "metadata": {},
     "output_type": "execute_result"
    }
   ],
   "source": [
    "omg = hpc_yearly.groupby('country')\n",
    "a =omg.get_group('India')\n",
    "a[a['hpc_no'] != 0]"
   ]
  },
  {
   "cell_type": "code",
   "execution_count": 144,
   "metadata": {},
   "outputs": [
    {
     "data": {
      "text/plain": [
       "((473, 3), (473, 3))"
      ]
     },
     "execution_count": 144,
     "metadata": {},
     "output_type": "execute_result"
    }
   ],
   "source": [
    "load_gdp.shape, ss.shape"
   ]
  },
  {
   "cell_type": "code",
   "execution_count": 145,
   "metadata": {},
   "outputs": [
    {
     "data": {
      "text/plain": [
       "year        int32\n",
       "country    object\n",
       "hpc_no      int32\n",
       "dtype: object"
      ]
     },
     "execution_count": 145,
     "metadata": {},
     "output_type": "execute_result"
    }
   ],
   "source": [
    "convert_dict = {'year': int, 'hpc_no': int} \n",
    "  \n",
    "ss = ss.astype(convert_dict)\n",
    "ss.dtypes"
   ]
  },
  {
   "cell_type": "code",
   "execution_count": 146,
   "metadata": {},
   "outputs": [
    {
     "data": {
      "text/plain": [
       "country    object\n",
       "year        int32\n",
       "GDP         int32\n",
       "dtype: object"
      ]
     },
     "execution_count": 146,
     "metadata": {},
     "output_type": "execute_result"
    }
   ],
   "source": [
    "convert_dict = {'year': int, 'GDP': int} \n",
    "  \n",
    "load_gdp = load_gdp.astype(convert_dict)\n",
    "load_gdp.dtypes"
   ]
  },
  {
   "cell_type": "code",
   "execution_count": 147,
   "metadata": {},
   "outputs": [],
   "source": [
    "final_one = pd.merge(ss,load_gdp, how='left', on=['country', 'year'])"
   ]
  },
  {
   "cell_type": "code",
   "execution_count": 148,
   "metadata": {},
   "outputs": [
    {
     "data": {
      "text/html": [
       "<div>\n",
       "<style scoped>\n",
       "    .dataframe tbody tr th:only-of-type {\n",
       "        vertical-align: middle;\n",
       "    }\n",
       "\n",
       "    .dataframe tbody tr th {\n",
       "        vertical-align: top;\n",
       "    }\n",
       "\n",
       "    .dataframe thead th {\n",
       "        text-align: right;\n",
       "    }\n",
       "</style>\n",
       "<table border=\"1\" class=\"dataframe\">\n",
       "  <thead>\n",
       "    <tr style=\"text-align: right;\">\n",
       "      <th></th>\n",
       "      <th>country</th>\n",
       "      <th>year</th>\n",
       "      <th>GDP</th>\n",
       "    </tr>\n",
       "  </thead>\n",
       "  <tbody>\n",
       "    <tr>\n",
       "      <th>0</th>\n",
       "      <td>Switzerland</td>\n",
       "      <td>2019</td>\n",
       "      <td>81994</td>\n",
       "    </tr>\n",
       "    <tr>\n",
       "      <th>1</th>\n",
       "      <td>Switzerland</td>\n",
       "      <td>2018</td>\n",
       "      <td>82818</td>\n",
       "    </tr>\n",
       "    <tr>\n",
       "      <th>2</th>\n",
       "      <td>Switzerland</td>\n",
       "      <td>2017</td>\n",
       "      <td>80450</td>\n",
       "    </tr>\n",
       "    <tr>\n",
       "      <th>3</th>\n",
       "      <td>Switzerland</td>\n",
       "      <td>2016</td>\n",
       "      <td>80172</td>\n",
       "    </tr>\n",
       "    <tr>\n",
       "      <th>4</th>\n",
       "      <td>Switzerland</td>\n",
       "      <td>2015</td>\n",
       "      <td>82082</td>\n",
       "    </tr>\n",
       "  </tbody>\n",
       "</table>\n",
       "</div>"
      ],
      "text/plain": [
       "       country  year    GDP\n",
       "0  Switzerland  2019  81994\n",
       "1  Switzerland  2018  82818\n",
       "2  Switzerland  2017  80450\n",
       "3  Switzerland  2016  80172\n",
       "4  Switzerland  2015  82082"
      ]
     },
     "execution_count": 148,
     "metadata": {},
     "output_type": "execute_result"
    }
   ],
   "source": [
    "load_gdp.head()"
   ]
  },
  {
   "cell_type": "code",
   "execution_count": 149,
   "metadata": {},
   "outputs": [
    {
     "data": {
      "text/plain": [
       "year        0\n",
       "country     0\n",
       "hpc_no      0\n",
       "GDP        11\n",
       "dtype: int64"
      ]
     },
     "execution_count": 149,
     "metadata": {},
     "output_type": "execute_result"
    }
   ],
   "source": [
    "final_one.isna().sum()"
   ]
  },
  {
   "cell_type": "code",
   "execution_count": 150,
   "metadata": {},
   "outputs": [
    {
     "data": {
      "text/html": [
       "<div>\n",
       "<style scoped>\n",
       "    .dataframe tbody tr th:only-of-type {\n",
       "        vertical-align: middle;\n",
       "    }\n",
       "\n",
       "    .dataframe tbody tr th {\n",
       "        vertical-align: top;\n",
       "    }\n",
       "\n",
       "    .dataframe thead th {\n",
       "        text-align: right;\n",
       "    }\n",
       "</style>\n",
       "<table border=\"1\" class=\"dataframe\">\n",
       "  <thead>\n",
       "    <tr style=\"text-align: right;\">\n",
       "      <th></th>\n",
       "      <th>year</th>\n",
       "      <th>country</th>\n",
       "      <th>hpc_no</th>\n",
       "      <th>GDP</th>\n",
       "    </tr>\n",
       "  </thead>\n",
       "  <tbody>\n",
       "    <tr>\n",
       "      <th>154</th>\n",
       "      <td>2014</td>\n",
       "      <td>India</td>\n",
       "      <td>0</td>\n",
       "      <td>1574.0</td>\n",
       "    </tr>\n",
       "    <tr>\n",
       "      <th>222</th>\n",
       "      <td>2019</td>\n",
       "      <td>India</td>\n",
       "      <td>1</td>\n",
       "      <td>2104.0</td>\n",
       "    </tr>\n",
       "    <tr>\n",
       "      <th>245</th>\n",
       "      <td>2011</td>\n",
       "      <td>India</td>\n",
       "      <td>1</td>\n",
       "      <td>1458.0</td>\n",
       "    </tr>\n",
       "    <tr>\n",
       "      <th>248</th>\n",
       "      <td>2013</td>\n",
       "      <td>India</td>\n",
       "      <td>1</td>\n",
       "      <td>1450.0</td>\n",
       "    </tr>\n",
       "    <tr>\n",
       "      <th>324</th>\n",
       "      <td>2018</td>\n",
       "      <td>India</td>\n",
       "      <td>2</td>\n",
       "      <td>2006.0</td>\n",
       "    </tr>\n",
       "    <tr>\n",
       "      <th>337</th>\n",
       "      <td>2012</td>\n",
       "      <td>India</td>\n",
       "      <td>2</td>\n",
       "      <td>1444.0</td>\n",
       "    </tr>\n",
       "    <tr>\n",
       "      <th>343</th>\n",
       "      <td>2015</td>\n",
       "      <td>India</td>\n",
       "      <td>2</td>\n",
       "      <td>1606.0</td>\n",
       "    </tr>\n",
       "    <tr>\n",
       "      <th>374</th>\n",
       "      <td>2020</td>\n",
       "      <td>India</td>\n",
       "      <td>3</td>\n",
       "      <td>46500.0</td>\n",
       "    </tr>\n",
       "    <tr>\n",
       "      <th>384</th>\n",
       "      <td>2017</td>\n",
       "      <td>India</td>\n",
       "      <td>3</td>\n",
       "      <td>1982.0</td>\n",
       "    </tr>\n",
       "    <tr>\n",
       "      <th>397</th>\n",
       "      <td>2016</td>\n",
       "      <td>India</td>\n",
       "      <td>4</td>\n",
       "      <td>1733.0</td>\n",
       "    </tr>\n",
       "    <tr>\n",
       "      <th>398</th>\n",
       "      <td>2010</td>\n",
       "      <td>India</td>\n",
       "      <td>4</td>\n",
       "      <td>1358.0</td>\n",
       "    </tr>\n",
       "  </tbody>\n",
       "</table>\n",
       "</div>"
      ],
      "text/plain": [
       "     year country  hpc_no      GDP\n",
       "154  2014   India       0   1574.0\n",
       "222  2019   India       1   2104.0\n",
       "245  2011   India       1   1458.0\n",
       "248  2013   India       1   1450.0\n",
       "324  2018   India       2   2006.0\n",
       "337  2012   India       2   1444.0\n",
       "343  2015   India       2   1606.0\n",
       "374  2020   India       3  46500.0\n",
       "384  2017   India       3   1982.0\n",
       "397  2016   India       4   1733.0\n",
       "398  2010   India       4   1358.0"
      ]
     },
     "execution_count": 150,
     "metadata": {},
     "output_type": "execute_result"
    }
   ],
   "source": [
    "final_one[final_one['country'] == 'India']"
   ]
  },
  {
   "cell_type": "code",
   "execution_count": 155,
   "metadata": {},
   "outputs": [],
   "source": [
    "final_one.to_csv('final_one.csv', index=False)"
   ]
  },
  {
   "cell_type": "code",
   "execution_count": 152,
   "metadata": {},
   "outputs": [
    {
     "data": {
      "image/png": "[encoded data removed]",
      "text/plain": [
       "<Figure size 864x576 with 1 Axes>"
      ]
     },
     "metadata": {
      "needs_background": "light"
     },
     "output_type": "display_data"
    }
   ],
   "source": [
    "final_plot = final_one.groupby('year')\n",
    "\n",
    "plt.figure(figsize=(12,8))\n",
    "for c in final_plot['year'].unique():\n",
    "    df = final_plot.get_group(c[0])\n",
    "    sns.regplot(x=df['hpc_no'], y=df['GDP'])\n",
    "    plt.title('Year')\n",
    "plt.show()"
   ]
  },
  {
   "cell_type": "code",
   "execution_count": 153,
   "metadata": {},
   "outputs": [
    {
     "data": {
      "image/png": "[encoded data removed]",
      "text/plain": [
       "<Figure size 432x288 with 1 Axes>"
      ]
     },
     "metadata": {
      "needs_background": "light"
     },
     "output_type": "display_data"
    }
   ],
   "source": [
    "final_plot = final_one.groupby(['hpc_no','year'])['GDP'].count().plot()"
   ]
  },
  {
   "cell_type": "code",
   "execution_count": 1193,
   "metadata": {},
   "outputs": [
    {
     "name": "stdout",
     "output_type": "stream",
     "text": [
      "Requirement already satisfied: plotly in c:\\users\\benai\\anaconda3\\lib\\site-packages (4.12.0)\n",
      "Requirement already satisfied: retrying>=1.3.3 in c:\\users\\benai\\anaconda3\\lib\\site-packages (from plotly) (1.3.3)\n",
      "Requirement already satisfied: six in c:\\users\\benai\\anaconda3\\lib\\site-packages (from plotly) (1.14.0)\n",
      "Note: you may need to restart the kernel to use updated packages.\n"
     ]
    }
   ],
   "source": []
  },
  {
   "cell_type": "code",
   "execution_count": 154,
   "metadata": {},
   "outputs": [
    {
     "data": {
      "application/vnd.plotly.v1+json": {
       "config": {
        "plotlyServerURL": "https://plot.ly"
       },
       "data": [
        {
         "hovertemplate": "x=%{x}<br>y=%{y}<extra></extra>",
         "legendgroup": "",
         "marker": {
          "color": "#636efa",
          "symbol": "circle"
         },
         "mode": "markers",
         "name": "",
         "orientation": "v",
         "showlegend": false,
         "type": "scatter",
         "x": [
          0,
          0,
          0,
          0,
          0,
          0,
          0,
          0,
          0,
          0,
          0,
          0,
          0,
          0,
          0,
          0,
          0,
          0,
          0,
          0,
          0,
          0,
          0,
          0,
          0,
          0,
          0,
          0,
          0,
          0,
          0,
          0,
          0,
          0,
          0,
          0,
          0,
          0,
          0,
          0,
          0,
          0,
          0,
          0,
          0,
          0,
          0,
          0,
          0,
          0,
          0,
          0,
          0,
          0,
          0,
          0,
          0,
          0,
          0,
          0,
          0,
          0,
          0,
          0,
          0,
          0,
          0,
          0,
          0,
          0,
          0,
          0,
          0,
          0,
          0,
          0,
          0,
          0,
          0,
          0,
          0,
          0,
          0,
          0,
          0,
          0,
          0,
          0,
          0,
          0,
          0,
          0,
          0,
          0,
          0,
          0,
          0,
          0,
          0,
          0,
          0,
          0,
          0,
          0,
          0,
          0,
          0,
          0,
          0,
          0,
          0,
          0,
          0,
          0,
          0,
          0,
          0,
          0,
          0,
          0,
          0,
          0,
          0,
          0,
          0,
          0,
          0,
          0,
          0,
          0,
          0,
          0,
          0,
          0,
          0,
          0,
          0,
          0,
          0,
          0,
          0,
          0,
          0,
          0,
          0,
          0,
          0,
          0,
          0,
          0,
          0,
          0,
          0,
          0,
          0,
          0,
          0,
          0,
          0,
          0,
          0,
          0,
          0,
          0,
          0,
          0,
          0,
          0,
          0,
          0,
          0,
          0,
          0,
          0,
          0,
          0,
          0,
          0,
          0,
          0,
          0,
          0,
          0,
          0,
          0,
          0,
          0,
          0,
          0,
          0,
          0,
          0,
          0,
          0,
          0,
          0,
          0,
          0,
          0,
          0,
          0,
          0,
          0,
          0,
          0,
          0,
          0,
          0,
          0,
          0,
          0,
          0,
          0,
          0,
          0,
          0,
          1,
          1,
          1,
          1,
          1,
          1,
          1,
          1,
          1,
          1,
          1,
          1,
          1,
          1,
          1,
          1,
          1,
          1,
          1,
          1,
          1,
          1,
          1,
          1,
          1,
          1,
          1,
          1,
          1,
          1,
          1,
          1,
          1,
          1,
          1,
          1,
          1,
          1,
          1,
          1,
          1,
          1,
          1,
          1,
          1,
          1,
          1,
          1,
          1,
          1,
          1,
          1,
          1,
          1,
          1,
          1,
          1,
          1,
          1,
          1,
          1,
          1,
          1,
          1,
          1,
          1,
          1,
          1,
          1,
          1,
          1,
          1,
          1,
          1,
          1,
          1,
          1,
          1,
          1,
          1,
          1,
          1,
          1,
          1,
          1,
          1,
          1,
          1,
          1,
          1,
          1,
          1,
          2,
          2,
          2,
          2,
          2,
          2,
          2,
          2,
          2,
          2,
          2,
          2,
          2,
          2,
          2,
          2,
          2,
          2,
          2,
          2,
          2,
          2,
          2,
          2,
          2,
          2,
          2,
          2,
          2,
          2,
          2,
          2,
          2,
          2,
          2,
          2,
          2,
          2,
          2,
          2,
          2,
          2,
          2,
          2,
          2,
          2,
          2,
          2,
          2,
          3,
          3,
          3,
          3,
          3,
          3,
          3,
          3,
          3,
          3,
          3,
          3,
          3,
          3,
          3,
          3,
          3,
          3,
          3,
          3,
          3,
          3,
          3,
          3,
          3,
          3,
          3,
          3,
          3,
          4,
          4,
          4,
          4,
          4,
          4,
          4,
          4,
          4,
          4,
          4,
          4,
          4,
          4,
          4,
          4,
          4,
          5,
          5,
          5,
          5,
          5,
          5,
          5,
          5,
          5,
          5,
          6,
          6,
          6,
          6,
          7,
          7,
          7,
          7,
          7,
          7,
          7,
          7,
          8,
          8,
          8,
          8,
          8,
          8,
          8,
          8,
          8,
          9,
          9,
          9,
          9,
          9,
          10,
          10,
          10,
          10,
          10,
          11,
          11,
          13,
          13,
          13,
          15,
          15,
          15,
          16,
          17,
          17,
          19,
          20,
          21,
          21,
          23,
          26,
          27,
          31,
          32,
          32,
          37,
          39,
          40,
          48,
          56,
          59,
          106,
          107
         ],
         "xaxis": "x",
         "y": [
          75497,
          10514,
          25080,
          3036,
          14458,
          80450,
          18930,
          10254,
          40542,
          20380,
          6132,
          46166,
          8331,
          60914,
          null,
          28170,
          17554,
          23501,
          13412,
          19879,
          10821,
          23091,
          2897,
          12992,
          63197,
          18116,
          9818,
          42322,
          37322,
          8740,
          null,
          5273,
          43731,
          30940,
          7546,
          46008,
          18463,
          56828,
          16506,
          21623,
          12360,
          40106,
          52900,
          77200,
          15500,
          3150,
          22500,
          8500,
          25000,
          8130,
          16200,
          9800,
          20490,
          null,
          10500,
          53240,
          89000,
          26900,
          20324,
          11373,
          23047,
          null,
          47491,
          9001,
          51525,
          25792,
          3222,
          9673,
          16151,
          9370,
          14920,
          19428,
          41720,
          6374,
          48543,
          61391,
          26055,
          50021,
          30338,
          9424,
          23140,
          75420,
          50277,
          9042,
          51610,
          15595,
          25909,
          3204,
          16476,
          78661,
          19583,
          11415,
          46195,
          43641,
          9863,
          46117,
          23102,
          48756,
          33190,
          9738,
          null,
          19329,
          25739,
          14853,
          42084,
          14151,
          25916,
          10399,
          33669,
          10203,
          8007,
          35142,
          38599,
          7806,
          3047,
          31636,
          18338,
          25095,
          14567,
          38438,
          21717,
          47349,
          11336,
          null,
          11286,
          23087,
          19197,
          44142,
          2840,
          13114,
          26918,
          9041,
          9271,
          null,
          58041,
          6810,
          52022,
          19808,
          16727,
          13924,
          30230,
          55647,
          42785,
          53255,
          5735,
          10949,
          2875,
          44178,
          61995,
          16309,
          20882,
          38616,
          17716,
          null,
          1574,
          24464,
          12096,
          14348,
          22874,
          3172,
          14246,
          21761,
          11319,
          10922,
          19745,
          6433,
          40315,
          7874,
          57563,
          null,
          29462,
          18671,
          24215,
          13600,
          44553,
          14096,
          39983,
          36731,
          58508,
          7393,
          17460,
          22643,
          13238,
          50073,
          10817,
          19730,
          null,
          101524,
          48568,
          25467,
          11707,
          2913,
          12918,
          83538,
          22243,
          102913,
          null,
          19916,
          46745,
          12300,
          13642,
          42963,
          23497,
          7652,
          13687,
          85112,
          21875,
          56967,
          3122,
          21973,
          61191,
          6832,
          10725,
          10970,
          18237,
          12519,
          70459,
          47237,
          25732,
          97019,
          26505,
          18168,
          2104,
          35777,
          24845,
          81734,
          23746,
          55546,
          36309,
          44289,
          7329,
          42950,
          51082,
          9278,
          38404,
          11783,
          49878,
          37679,
          29614,
          62511,
          32511,
          59822,
          51849,
          82818,
          74606,
          1458,
          22780,
          45238,
          1450,
          9955,
          32550,
          41998,
          25096,
          50717,
          12370,
          33042,
          54159,
          42432,
          23510,
          52184,
          7180,
          46317,
          58038,
          52448,
          56756,
          51375,
          100601,
          9606,
          51590,
          11585,
          12113,
          34520,
          40992,
          61754,
          60020,
          48686,
          45175,
          12652,
          65233,
          51717,
          86606,
          44673,
          47711,
          7501,
          7054,
          54664,
          62549,
          10672,
          48675,
          57396,
          10242,
          77000,
          23339,
          27183,
          62200,
          42849,
          48918,
          45149,
          47701,
          15421,
          29250,
          12432,
          69822,
          10720,
          74356,
          55493,
          13781,
          13246,
          25243,
          53792,
          19263,
          29060,
          35518,
          31762,
          57141,
          20866,
          51965,
          66189,
          30503,
          9313,
          40638,
          12600,
          80172,
          31100,
          2006,
          43011,
          47549,
          53890,
          53048,
          68150,
          27271,
          50260,
          46259,
          11371,
          78621,
          8814,
          87694,
          1444,
          20628,
          30694,
          13600,
          48715,
          21295,
          1606,
          15200,
          46858,
          46460,
          13861,
          43784,
          9925,
          33700,
          51545,
          52653,
          36001,
          19300,
          31617,
          81994,
          61127,
          45100,
          58500,
          50893,
          10400,
          15461,
          62518,
          8717,
          41631,
          28324,
          35054,
          29289,
          6001,
          13146,
          49971,
          52830,
          12150,
          46500,
          54066,
          60756,
          68012,
          54589,
          35550,
          8710,
          4550,
          33340,
          41064,
          1982,
          50950,
          52678,
          12572,
          13894,
          46500,
          6317,
          46313,
          8705,
          52869,
          15975,
          32407,
          1876,
          1733,
          1358,
          82082,
          20804,
          10675,
          43586,
          52087,
          43043,
          47960,
          28732,
          37300,
          54907,
          47448,
          40494,
          47426,
          88416,
          38812,
          5618,
          40361,
          7679,
          43445,
          42593,
          7051,
          41532,
          46000,
          43858,
          40247,
          43791,
          44508,
          37037,
          14311,
          36060,
          42300,
          48168,
          46286,
          50100,
          40875,
          38109,
          42463,
          39436,
          48603,
          38762,
          42039,
          47639,
          8067,
          40454,
          46645,
          38387,
          42099,
          39800,
          44350,
          36638,
          44975,
          33800,
          34524,
          39159,
          55048,
          8148,
          47200,
          8879,
          41140,
          41800,
          65281,
          10262,
          62997,
          25200,
          48468,
          57928,
          53118,
          59958,
          56823,
          49887,
          9977,
          51611,
          37375,
          54200
         ],
         "yaxis": "y"
        }
       ],
       "layout": {
        "legend": {
         "tracegroupgap": 0
        },
        "margin": {
         "t": 60
        },
        "template": {
         "data": {
          "bar": [
           {
            "error_x": {
             "color": "#2a3f5f"
            },
            "error_y": {
             "color": "#2a3f5f"
            },
            "marker": {
             "line": {
              "color": "#E5ECF6",
              "width": 0.5
             }
            },
            "type": "bar"
           }
          ],
          "barpolar": [
           {
            "marker": {
             "line": {
              "color": "#E5ECF6",
              "width": 0.5
             }
            },
            "type": "barpolar"
           }
          ],
          "carpet": [
           {
            "aaxis": {
             "endlinecolor": "#2a3f5f",
             "gridcolor": "white",
             "linecolor": "white",
             "minorgridcolor": "white",
             "startlinecolor": "#2a3f5f"
            },
            "baxis": {
             "endlinecolor": "#2a3f5f",
             "gridcolor": "white",
             "linecolor": "white",
             "minorgridcolor": "white",
             "startlinecolor": "#2a3f5f"
            },
            "type": "carpet"
           }
          ],
          "choropleth": [
           {
            "colorbar": {
             "outlinewidth": 0,
             "ticks": ""
            },
            "type": "choropleth"
           }
          ],
          "contour": [
           {
            "colorbar": {
             "outlinewidth": 0,
             "ticks": ""
            },
            "colorscale": [
             [
              0,
              "#0d0887"
             ],
             [
              0.1111111111111111,
              "#46039f"
             ],
             [
              0.2222222222222222,
              "#7201a8"
             ],
             [
              0.3333333333333333,
              "#9c179e"
             ],
             [
              0.4444444444444444,
              "#bd3786"
             ],
             [
              0.5555555555555556,
              "#d8576b"
             ],
             [
              0.6666666666666666,
              "#ed7953"
             ],
             [
              0.7777777777777778,
              "#fb9f3a"
             ],
             [
              0.8888888888888888,
              "#fdca26"
             ],
             [
              1,
              "#f0f921"
             ]
            ],
            "type": "contour"
           }
          ],
          "contourcarpet": [
           {
            "colorbar": {
             "outlinewidth": 0,
             "ticks": ""
            },
            "type": "contourcarpet"
           }
          ],
          "heatmap": [
           {
            "colorbar": {
             "outlinewidth": 0,
             "ticks": ""
            },
            "colorscale": [
             [
              0,
              "#0d0887"
             ],
             [
              0.1111111111111111,
              "#46039f"
             ],
             [
              0.2222222222222222,
              "#7201a8"
             ],
             [
              0.3333333333333333,
              "#9c179e"
             ],
             [
              0.4444444444444444,
              "#bd3786"
             ],
             [
              0.5555555555555556,
              "#d8576b"
             ],
             [
              0.6666666666666666,
              "#ed7953"
             ],
             [
              0.7777777777777778,
              "#fb9f3a"
             ],
             [
              0.8888888888888888,
              "#fdca26"
             ],
             [
              1,
              "#f0f921"
             ]
            ],
            "type": "heatmap"
           }
          ],
          "heatmapgl": [
           {
            "colorbar": {
             "outlinewidth": 0,
             "ticks": ""
            },
            "colorscale": [
             [
              0,
              "#0d0887"
             ],
             [
              0.1111111111111111,
              "#46039f"
             ],
             [
              0.2222222222222222,
              "#7201a8"
             ],
             [
              0.3333333333333333,
              "#9c179e"
             ],
             [
              0.4444444444444444,
              "#bd3786"
             ],
             [
              0.5555555555555556,
              "#d8576b"
             ],
             [
              0.6666666666666666,
              "#ed7953"
             ],
             [
              0.7777777777777778,
              "#fb9f3a"
             ],
             [
              0.8888888888888888,
              "#fdca26"
             ],
             [
              1,
              "#f0f921"
             ]
            ],
            "type": "heatmapgl"
           }
          ],
          "histogram": [
           {
            "marker": {
             "colorbar": {
              "outlinewidth": 0,
              "ticks": ""
             }
            },
            "type": "histogram"
           }
          ],
          "histogram2d": [
           {
            "colorbar": {
             "outlinewidth": 0,
             "ticks": ""
            },
            "colorscale": [
             [
              0,
              "#0d0887"
             ],
             [
              0.1111111111111111,
              "#46039f"
             ],
             [
              0.2222222222222222,
              "#7201a8"
             ],
             [
              0.3333333333333333,
              "#9c179e"
             ],
             [
              0.4444444444444444,
              "#bd3786"
             ],
             [
              0.5555555555555556,
              "#d8576b"
             ],
             [
              0.6666666666666666,
              "#ed7953"
             ],
             [
              0.7777777777777778,
              "#fb9f3a"
             ],
             [
              0.8888888888888888,
              "#fdca26"
             ],
             [
              1,
              "#f0f921"
             ]
            ],
            "type": "histogram2d"
           }
          ],
          "histogram2dcontour": [
           {
            "colorbar": {
             "outlinewidth": 0,
             "ticks": ""
            },
            "colorscale": [
             [
              0,
              "#0d0887"
             ],
             [
              0.1111111111111111,
              "#46039f"
             ],
             [
              0.2222222222222222,
              "#7201a8"
             ],
             [
              0.3333333333333333,
              "#9c179e"
             ],
             [
              0.4444444444444444,
              "#bd3786"
             ],
             [
              0.5555555555555556,
              "#d8576b"
             ],
             [
              0.6666666666666666,
              "#ed7953"
             ],
             [
              0.7777777777777778,
              "#fb9f3a"
             ],
             [
              0.8888888888888888,
              "#fdca26"
             ],
             [
              1,
              "#f0f921"
             ]
            ],
            "type": "histogram2dcontour"
           }
          ],
          "mesh3d": [
           {
            "colorbar": {
             "outlinewidth": 0,
             "ticks": ""
            },
            "type": "mesh3d"
           }
          ],
          "parcoords": [
           {
            "line": {
             "colorbar": {
              "outlinewidth": 0,
              "ticks": ""
             }
            },
            "type": "parcoords"
           }
          ],
          "pie": [
           {
            "automargin": true,
            "type": "pie"
           }
          ],
          "scatter": [
           {
            "marker": {
             "colorbar": {
              "outlinewidth": 0,
              "ticks": ""
             }
            },
            "type": "scatter"
           }
          ],
          "scatter3d": [
           {
            "line": {
             "colorbar": {
              "outlinewidth": 0,
              "ticks": ""
             }
            },
            "marker": {
             "colorbar": {
              "outlinewidth": 0,
              "ticks": ""
             }
            },
            "type": "scatter3d"
           }
          ],
          "scattercarpet": [
           {
            "marker": {
             "colorbar": {
              "outlinewidth": 0,
              "ticks": ""
             }
            },
            "type": "scattercarpet"
           }
          ],
          "scattergeo": [
           {
            "marker": {
             "colorbar": {
              "outlinewidth": 0,
              "ticks": ""
             }
            },
            "type": "scattergeo"
           }
          ],
          "scattergl": [
           {
            "marker": {
             "colorbar": {
              "outlinewidth": 0,
              "ticks": ""
             }
            },
            "type": "scattergl"
           }
          ],
          "scattermapbox": [
           {
            "marker": {
             "colorbar": {
              "outlinewidth": 0,
              "ticks": ""
             }
            },
            "type": "scattermapbox"
           }
          ],
          "scatterpolar": [
           {
            "marker": {
             "colorbar": {
              "outlinewidth": 0,
              "ticks": ""
             }
            },
            "type": "scatterpolar"
           }
          ],
          "scatterpolargl": [
           {
            "marker": {
             "colorbar": {
              "outlinewidth": 0,
              "ticks": ""
             }
            },
            "type": "scatterpolargl"
           }
          ],
          "scatterternary": [
           {
            "marker": {
             "colorbar": {
              "outlinewidth": 0,
              "ticks": ""
             }
            },
            "type": "scatterternary"
           }
          ],
          "surface": [
           {
            "colorbar": {
             "outlinewidth": 0,
             "ticks": ""
            },
            "colorscale": [
             [
              0,
              "#0d0887"
             ],
             [
              0.1111111111111111,
              "#46039f"
             ],
             [
              0.2222222222222222,
              "#7201a8"
             ],
             [
              0.3333333333333333,
              "#9c179e"
             ],
             [
              0.4444444444444444,
              "#bd3786"
             ],
             [
              0.5555555555555556,
              "#d8576b"
             ],
             [
              0.6666666666666666,
              "#ed7953"
             ],
             [
              0.7777777777777778,
              "#fb9f3a"
             ],
             [
              0.8888888888888888,
              "#fdca26"
             ],
             [
              1,
              "#f0f921"
             ]
            ],
            "type": "surface"
           }
          ],
          "table": [
           {
            "cells": {
             "fill": {
              "color": "#EBF0F8"
             },
             "line": {
              "color": "white"
             }
            },
            "header": {
             "fill": {
              "color": "#C8D4E3"
             },
             "line": {
              "color": "white"
             }
            },
            "type": "table"
           }
          ]
         },
         "layout": {
          "annotationdefaults": {
           "arrowcolor": "#2a3f5f",
           "arrowhead": 0,
           "arrowwidth": 1
          },
          "coloraxis": {
           "colorbar": {
            "outlinewidth": 0,
            "ticks": ""
           }
          },
          "colorscale": {
           "diverging": [
            [
             0,
             "#8e0152"
            ],
            [
             0.1,
             "#c51b7d"
            ],
            [
             0.2,
             "#de77ae"
            ],
            [
             0.3,
             "#f1b6da"
            ],
            [
             0.4,
             "#fde0ef"
            ],
            [
             0.5,
             "#f7f7f7"
            ],
            [
             0.6,
             "#e6f5d0"
            ],
            [
             0.7,
             "#b8e186"
            ],
            [
             0.8,
             "#7fbc41"
            ],
            [
             0.9,
             "#4d9221"
            ],
            [
             1,
             "#276419"
            ]
           ],
           "sequential": [
            [
             0,
             "#0d0887"
            ],
            [
             0.1111111111111111,
             "#46039f"
            ],
            [
             0.2222222222222222,
             "#7201a8"
            ],
            [
             0.3333333333333333,
             "#9c179e"
            ],
            [
             0.4444444444444444,
             "#bd3786"
            ],
            [
             0.5555555555555556,
             "#d8576b"
            ],
            [
             0.6666666666666666,
             "#ed7953"
            ],
            [
             0.7777777777777778,
             "#fb9f3a"
            ],
            [
             0.8888888888888888,
             "#fdca26"
            ],
            [
             1,
             "#f0f921"
            ]
           ],
           "sequentialminus": [
            [
             0,
             "#0d0887"
            ],
            [
             0.1111111111111111,
             "#46039f"
            ],
            [
             0.2222222222222222,
             "#7201a8"
            ],
            [
             0.3333333333333333,
             "#9c179e"
            ],
            [
             0.4444444444444444,
             "#bd3786"
            ],
            [
             0.5555555555555556,
             "#d8576b"
            ],
            [
             0.6666666666666666,
             "#ed7953"
            ],
            [
             0.7777777777777778,
             "#fb9f3a"
            ],
            [
             0.8888888888888888,
             "#fdca26"
            ],
            [
             1,
             "#f0f921"
            ]
           ]
          },
          "colorway": [
           "#636efa",
           "#EF553B",
           "#00cc96",
           "#ab63fa",
           "#FFA15A",
           "#19d3f3",
           "#FF6692",
           "#B6E880",
           "#FF97FF",
           "#FECB52"
          ],
          "font": {
           "color": "#2a3f5f"
          },
          "geo": {
           "bgcolor": "white",
           "lakecolor": "white",
           "landcolor": "#E5ECF6",
           "showlakes": true,
           "showland": true,
           "subunitcolor": "white"
          },
          "hoverlabel": {
           "align": "left"
          },
          "hovermode": "closest",
          "mapbox": {
           "style": "light"
          },
          "paper_bgcolor": "white",
          "plot_bgcolor": "#E5ECF6",
          "polar": {
           "angularaxis": {
            "gridcolor": "white",
            "linecolor": "white",
            "ticks": ""
           },
           "bgcolor": "#E5ECF6",
           "radialaxis": {
            "gridcolor": "white",
            "linecolor": "white",
            "ticks": ""
           }
          },
          "scene": {
           "xaxis": {
            "backgroundcolor": "#E5ECF6",
            "gridcolor": "white",
            "gridwidth": 2,
            "linecolor": "white",
            "showbackground": true,
            "ticks": "",
            "zerolinecolor": "white"
           },
           "yaxis": {
            "backgroundcolor": "#E5ECF6",
            "gridcolor": "white",
            "gridwidth": 2,
            "linecolor": "white",
            "showbackground": true,
            "ticks": "",
            "zerolinecolor": "white"
           },
           "zaxis": {
            "backgroundcolor": "#E5ECF6",
            "gridcolor": "white",
            "gridwidth": 2,
            "linecolor": "white",
            "showbackground": true,
            "ticks": "",
            "zerolinecolor": "white"
           }
          },
          "shapedefaults": {
           "line": {
            "color": "#2a3f5f"
           }
          },
          "ternary": {
           "aaxis": {
            "gridcolor": "white",
            "linecolor": "white",
            "ticks": ""
           },
           "baxis": {
            "gridcolor": "white",
            "linecolor": "white",
            "ticks": ""
           },
           "bgcolor": "#E5ECF6",
           "caxis": {
            "gridcolor": "white",
            "linecolor": "white",
            "ticks": ""
           }
          },
          "title": {
           "x": 0.05
          },
          "xaxis": {
           "automargin": true,
           "gridcolor": "white",
           "linecolor": "white",
           "ticks": "",
           "title": {
            "standoff": 15
           },
           "zerolinecolor": "white",
           "zerolinewidth": 2
          },
          "yaxis": {
           "automargin": true,
           "gridcolor": "white",
           "linecolor": "white",
           "ticks": "",
           "title": {
            "standoff": 15
           },
           "zerolinecolor": "white",
           "zerolinewidth": 2
          }
         }
        },
        "xaxis": {
         "anchor": "y",
         "domain": [
          0,
          1
         ],
         "title": {
          "text": "x"
         }
        },
        "yaxis": {
         "anchor": "x",
         "domain": [
          0,
          1
         ],
         "title": {
          "text": "y"
         }
        }
       }
      },
      "text/html": [
       "<div>                            <div id=\"6875bd20-704e-46e0-91c1-1e80272607cc\" class=\"plotly-graph-div\" style=\"height:525px; width:100%;\"></div>            <script type=\"text/javascript\">                require([\"plotly\"], function(Plotly) {                    window.PLOTLYENV=window.PLOTLYENV || {};                                    if (document.getElementById(\"6875bd20-704e-46e0-91c1-1e80272607cc\")) {                    Plotly.newPlot(                        \"6875bd20-704e-46e0-91c1-1e80272607cc\",                        [{\"hovertemplate\": \"x=%{x}<br>y=%{y}<extra></extra>\", \"legendgroup\": \"\", \"marker\": {\"color\": \"#636efa\", \"symbol\": \"circle\"}, \"mode\": \"markers\", \"name\": \"\", \"orientation\": \"v\", \"showlegend\": false, \"type\": \"scatter\", \"x\": [0, 0, 0, 0, 0, 0, 0, 0, 0, 0, 0, 0, 0, 0, 0, 0, 0, 0, 0, 0, 0, 0, 0, 0, 0, 0, 0, 0, 0, 0, 0, 0, 0, 0, 0, 0, 0, 0, 0, 0, 0, 0, 0, 0, 0, 0, 0, 0, 0, 0, 0, 0, 0, 0, 0, 0, 0, 0, 0, 0, 0, 0, 0, 0, 0, 0, 0, 0, 0, 0, 0, 0, 0, 0, 0, 0, 0, 0, 0, 0, 0, 0, 0, 0, 0, 0, 0, 0, 0, 0, 0, 0, 0, 0, 0, 0, 0, 0, 0, 0, 0, 0, 0, 0, 0, 0, 0, 0, 0, 0, 0, 0, 0, 0, 0, 0, 0, 0, 0, 0, 0, 0, 0, 0, 0, 0, 0, 0, 0, 0, 0, 0, 0, 0, 0, 0, 0, 0, 0, 0, 0, 0, 0, 0, 0, 0, 0, 0, 0, 0, 0, 0, 0, 0, 0, 0, 0, 0, 0, 0, 0, 0, 0, 0, 0, 0, 0, 0, 0, 0, 0, 0, 0, 0, 0, 0, 0, 0, 0, 0, 0, 0, 0, 0, 0, 0, 0, 0, 0, 0, 0, 0, 0, 0, 0, 0, 0, 0, 0, 0, 0, 0, 0, 0, 0, 0, 0, 0, 0, 0, 0, 0, 0, 0, 0, 0, 1, 1, 1, 1, 1, 1, 1, 1, 1, 1, 1, 1, 1, 1, 1, 1, 1, 1, 1, 1, 1, 1, 1, 1, 1, 1, 1, 1, 1, 1, 1, 1, 1, 1, 1, 1, 1, 1, 1, 1, 1, 1, 1, 1, 1, 1, 1, 1, 1, 1, 1, 1, 1, 1, 1, 1, 1, 1, 1, 1, 1, 1, 1, 1, 1, 1, 1, 1, 1, 1, 1, 1, 1, 1, 1, 1, 1, 1, 1, 1, 1, 1, 1, 1, 1, 1, 1, 1, 1, 1, 1, 1, 2, 2, 2, 2, 2, 2, 2, 2, 2, 2, 2, 2, 2, 2, 2, 2, 2, 2, 2, 2, 2, 2, 2, 2, 2, 2, 2, 2, 2, 2, 2, 2, 2, 2, 2, 2, 2, 2, 2, 2, 2, 2, 2, 2, 2, 2, 2, 2, 2, 3, 3, 3, 3, 3, 3, 3, 3, 3, 3, 3, 3, 3, 3, 3, 3, 3, 3, 3, 3, 3, 3, 3, 3, 3, 3, 3, 3, 3, 4, 4, 4, 4, 4, 4, 4, 4, 4, 4, 4, 4, 4, 4, 4, 4, 4, 5, 5, 5, 5, 5, 5, 5, 5, 5, 5, 6, 6, 6, 6, 7, 7, 7, 7, 7, 7, 7, 7, 8, 8, 8, 8, 8, 8, 8, 8, 8, 9, 9, 9, 9, 9, 10, 10, 10, 10, 10, 11, 11, 13, 13, 13, 15, 15, 15, 16, 17, 17, 19, 20, 21, 21, 23, 26, 27, 31, 32, 32, 37, 39, 40, 48, 56, 59, 106, 107], \"xaxis\": \"x\", \"y\": [75497.0, 10514.0, 25080.0, 3036.0, 14458.0, 80450.0, 18930.0, 10254.0, 40542.0, 20380.0, 6132.0, 46166.0, 8331.0, 60914.0, null, 28170.0, 17554.0, 23501.0, 13412.0, 19879.0, 10821.0, 23091.0, 2897.0, 12992.0, 63197.0, 18116.0, 9818.0, 42322.0, 37322.0, 8740.0, null, 5273.0, 43731.0, 30940.0, 7546.0, 46008.0, 18463.0, 56828.0, 16506.0, 21623.0, 12360.0, 40106.0, 52900.0, 77200.0, 15500.0, 3150.0, 22500.0, 8500.0, 25000.0, 8130.0, 16200.0, 9800.0, 20490.0, null, 10500.0, 53240.0, 89000.0, 26900.0, 20324.0, 11373.0, 23047.0, null, 47491.0, 9001.0, 51525.0, 25792.0, 3222.0, 9673.0, 16151.0, 9370.0, 14920.0, 19428.0, 41720.0, 6374.0, 48543.0, 61391.0, 26055.0, 50021.0, 30338.0, 9424.0, 23140.0, 75420.0, 50277.0, 9042.0, 51610.0, 15595.0, 25909.0, 3204.0, 16476.0, 78661.0, 19583.0, 11415.0, 46195.0, 43641.0, 9863.0, 46117.0, 23102.0, 48756.0, 33190.0, 9738.0, null, 19329.0, 25739.0, 14853.0, 42084.0, 14151.0, 25916.0, 10399.0, 33669.0, 10203.0, 8007.0, 35142.0, 38599.0, 7806.0, 3047.0, 31636.0, 18338.0, 25095.0, 14567.0, 38438.0, 21717.0, 47349.0, 11336.0, null, 11286.0, 23087.0, 19197.0, 44142.0, 2840.0, 13114.0, 26918.0, 9041.0, 9271.0, null, 58041.0, 6810.0, 52022.0, 19808.0, 16727.0, 13924.0, 30230.0, 55647.0, 42785.0, 53255.0, 5735.0, 10949.0, 2875.0, 44178.0, 61995.0, 16309.0, 20882.0, 38616.0, 17716.0, null, 1574.0, 24464.0, 12096.0, 14348.0, 22874.0, 3172.0, 14246.0, 21761.0, 11319.0, 10922.0, 19745.0, 6433.0, 40315.0, 7874.0, 57563.0, null, 29462.0, 18671.0, 24215.0, 13600.0, 44553.0, 14096.0, 39983.0, 36731.0, 58508.0, 7393.0, 17460.0, 22643.0, 13238.0, 50073.0, 10817.0, 19730.0, null, 101524.0, 48568.0, 25467.0, 11707.0, 2913.0, 12918.0, 83538.0, 22243.0, 102913.0, null, 19916.0, 46745.0, 12300.0, 13642.0, 42963.0, 23497.0, 7652.0, 13687.0, 85112.0, 21875.0, 56967.0, 3122.0, 21973.0, 61191.0, 6832.0, 10725.0, 10970.0, 18237.0, 12519.0, 70459.0, 47237.0, 25732.0, 97019.0, 26505.0, 18168.0, 2104.0, 35777.0, 24845.0, 81734.0, 23746.0, 55546.0, 36309.0, 44289.0, 7329.0, 42950.0, 51082.0, 9278.0, 38404.0, 11783.0, 49878.0, 37679.0, 29614.0, 62511.0, 32511.0, 59822.0, 51849.0, 82818.0, 74606.0, 1458.0, 22780.0, 45238.0, 1450.0, 9955.0, 32550.0, 41998.0, 25096.0, 50717.0, 12370.0, 33042.0, 54159.0, 42432.0, 23510.0, 52184.0, 7180.0, 46317.0, 58038.0, 52448.0, 56756.0, 51375.0, 100601.0, 9606.0, 51590.0, 11585.0, 12113.0, 34520.0, 40992.0, 61754.0, 60020.0, 48686.0, 45175.0, 12652.0, 65233.0, 51717.0, 86606.0, 44673.0, 47711.0, 7501.0, 7054.0, 54664.0, 62549.0, 10672.0, 48675.0, 57396.0, 10242.0, 77000.0, 23339.0, 27183.0, 62200.0, 42849.0, 48918.0, 45149.0, 47701.0, 15421.0, 29250.0, 12432.0, 69822.0, 10720.0, 74356.0, 55493.0, 13781.0, 13246.0, 25243.0, 53792.0, 19263.0, 29060.0, 35518.0, 31762.0, 57141.0, 20866.0, 51965.0, 66189.0, 30503.0, 9313.0, 40638.0, 12600.0, 80172.0, 31100.0, 2006.0, 43011.0, 47549.0, 53890.0, 53048.0, 68150.0, 27271.0, 50260.0, 46259.0, 11371.0, 78621.0, 8814.0, 87694.0, 1444.0, 20628.0, 30694.0, 13600.0, 48715.0, 21295.0, 1606.0, 15200.0, 46858.0, 46460.0, 13861.0, 43784.0, 9925.0, 33700.0, 51545.0, 52653.0, 36001.0, 19300.0, 31617.0, 81994.0, 61127.0, 45100.0, 58500.0, 50893.0, 10400.0, 15461.0, 62518.0, 8717.0, 41631.0, 28324.0, 35054.0, 29289.0, 6001.0, 13146.0, 49971.0, 52830.0, 12150.0, 46500.0, 54066.0, 60756.0, 68012.0, 54589.0, 35550.0, 8710.0, 4550.0, 33340.0, 41064.0, 1982.0, 50950.0, 52678.0, 12572.0, 13894.0, 46500.0, 6317.0, 46313.0, 8705.0, 52869.0, 15975.0, 32407.0, 1876.0, 1733.0, 1358.0, 82082.0, 20804.0, 10675.0, 43586.0, 52087.0, 43043.0, 47960.0, 28732.0, 37300.0, 54907.0, 47448.0, 40494.0, 47426.0, 88416.0, 38812.0, 5618.0, 40361.0, 7679.0, 43445.0, 42593.0, 7051.0, 41532.0, 46000.0, 43858.0, 40247.0, 43791.0, 44508.0, 37037.0, 14311.0, 36060.0, 42300.0, 48168.0, 46286.0, 50100.0, 40875.0, 38109.0, 42463.0, 39436.0, 48603.0, 38762.0, 42039.0, 47639.0, 8067.0, 40454.0, 46645.0, 38387.0, 42099.0, 39800.0, 44350.0, 36638.0, 44975.0, 33800.0, 34524.0, 39159.0, 55048.0, 8148.0, 47200.0, 8879.0, 41140.0, 41800.0, 65281.0, 10262.0, 62997.0, 25200.0, 48468.0, 57928.0, 53118.0, 59958.0, 56823.0, 49887.0, 9977.0, 51611.0, 37375.0, 54200.0], \"yaxis\": \"y\"}],                        {\"legend\": {\"tracegroupgap\": 0}, \"margin\": {\"t\": 60}, \"template\": {\"data\": {\"bar\": [{\"error_x\": {\"color\": \"#2a3f5f\"}, \"error_y\": {\"color\": \"#2a3f5f\"}, \"marker\": {\"line\": {\"color\": \"#E5ECF6\", \"width\": 0.5}}, \"type\": \"bar\"}], \"barpolar\": [{\"marker\": {\"line\": {\"color\": \"#E5ECF6\", \"width\": 0.5}}, \"type\": \"barpolar\"}], \"carpet\": [{\"aaxis\": {\"endlinecolor\": \"#2a3f5f\", \"gridcolor\": \"white\", \"linecolor\": \"white\", \"minorgridcolor\": \"white\", \"startlinecolor\": \"#2a3f5f\"}, \"baxis\": {\"endlinecolor\": \"#2a3f5f\", \"gridcolor\": \"white\", \"linecolor\": \"white\", \"minorgridcolor\": \"white\", \"startlinecolor\": \"#2a3f5f\"}, \"type\": \"carpet\"}], \"choropleth\": [{\"colorbar\": {\"outlinewidth\": 0, \"ticks\": \"\"}, \"type\": \"choropleth\"}], \"contour\": [{\"colorbar\": {\"outlinewidth\": 0, \"ticks\": \"\"}, \"colorscale\": [[0.0, \"#0d0887\"], [0.1111111111111111, \"#46039f\"], [0.2222222222222222, \"#7201a8\"], [0.3333333333333333, \"#9c179e\"], [0.4444444444444444, \"#bd3786\"], [0.5555555555555556, \"#d8576b\"], [0.6666666666666666, \"#ed7953\"], [0.7777777777777778, \"#fb9f3a\"], [0.8888888888888888, \"#fdca26\"], [1.0, \"#f0f921\"]], \"type\": \"contour\"}], \"contourcarpet\": [{\"colorbar\": {\"outlinewidth\": 0, \"ticks\": \"\"}, \"type\": \"contourcarpet\"}], \"heatmap\": [{\"colorbar\": {\"outlinewidth\": 0, \"ticks\": \"\"}, \"colorscale\": [[0.0, \"#0d0887\"], [0.1111111111111111, \"#46039f\"], [0.2222222222222222, \"#7201a8\"], [0.3333333333333333, \"#9c179e\"], [0.4444444444444444, \"#bd3786\"], [0.5555555555555556, \"#d8576b\"], [0.6666666666666666, \"#ed7953\"], [0.7777777777777778, \"#fb9f3a\"], [0.8888888888888888, \"#fdca26\"], [1.0, \"#f0f921\"]], \"type\": \"heatmap\"}], \"heatmapgl\": [{\"colorbar\": {\"outlinewidth\": 0, \"ticks\": \"\"}, \"colorscale\": [[0.0, \"#0d0887\"], [0.1111111111111111, \"#46039f\"], [0.2222222222222222, \"#7201a8\"], [0.3333333333333333, \"#9c179e\"], [0.4444444444444444, \"#bd3786\"], [0.5555555555555556, \"#d8576b\"], [0.6666666666666666, \"#ed7953\"], [0.7777777777777778, \"#fb9f3a\"], [0.8888888888888888, \"#fdca26\"], [1.0, \"#f0f921\"]], \"type\": \"heatmapgl\"}], \"histogram\": [{\"marker\": {\"colorbar\": {\"outlinewidth\": 0, \"ticks\": \"\"}}, \"type\": \"histogram\"}], \"histogram2d\": [{\"colorbar\": {\"outlinewidth\": 0, \"ticks\": \"\"}, \"colorscale\": [[0.0, \"#0d0887\"], [0.1111111111111111, \"#46039f\"], [0.2222222222222222, \"#7201a8\"], [0.3333333333333333, \"#9c179e\"], [0.4444444444444444, \"#bd3786\"], [0.5555555555555556, \"#d8576b\"], [0.6666666666666666, \"#ed7953\"], [0.7777777777777778, \"#fb9f3a\"], [0.8888888888888888, \"#fdca26\"], [1.0, \"#f0f921\"]], \"type\": \"histogram2d\"}], \"histogram2dcontour\": [{\"colorbar\": {\"outlinewidth\": 0, \"ticks\": \"\"}, \"colorscale\": [[0.0, \"#0d0887\"], [0.1111111111111111, \"#46039f\"], [0.2222222222222222, \"#7201a8\"], [0.3333333333333333, \"#9c179e\"], [0.4444444444444444, \"#bd3786\"], [0.5555555555555556, \"#d8576b\"], [0.6666666666666666, \"#ed7953\"], [0.7777777777777778, \"#fb9f3a\"], [0.8888888888888888, \"#fdca26\"], [1.0, \"#f0f921\"]], \"type\": \"histogram2dcontour\"}], \"mesh3d\": [{\"colorbar\": {\"outlinewidth\": 0, \"ticks\": \"\"}, \"type\": \"mesh3d\"}], \"parcoords\": [{\"line\": {\"colorbar\": {\"outlinewidth\": 0, \"ticks\": \"\"}}, \"type\": \"parcoords\"}], \"pie\": [{\"automargin\": true, \"type\": \"pie\"}], \"scatter\": [{\"marker\": {\"colorbar\": {\"outlinewidth\": 0, \"ticks\": \"\"}}, \"type\": \"scatter\"}], \"scatter3d\": [{\"line\": {\"colorbar\": {\"outlinewidth\": 0, \"ticks\": \"\"}}, \"marker\": {\"colorbar\": {\"outlinewidth\": 0, \"ticks\": \"\"}}, \"type\": \"scatter3d\"}], \"scattercarpet\": [{\"marker\": {\"colorbar\": {\"outlinewidth\": 0, \"ticks\": \"\"}}, \"type\": \"scattercarpet\"}], \"scattergeo\": [{\"marker\": {\"colorbar\": {\"outlinewidth\": 0, \"ticks\": \"\"}}, \"type\": \"scattergeo\"}], \"scattergl\": [{\"marker\": {\"colorbar\": {\"outlinewidth\": 0, \"ticks\": \"\"}}, \"type\": \"scattergl\"}], \"scattermapbox\": [{\"marker\": {\"colorbar\": {\"outlinewidth\": 0, \"ticks\": \"\"}}, \"type\": \"scattermapbox\"}], \"scatterpolar\": [{\"marker\": {\"colorbar\": {\"outlinewidth\": 0, \"ticks\": \"\"}}, \"type\": \"scatterpolar\"}], \"scatterpolargl\": [{\"marker\": {\"colorbar\": {\"outlinewidth\": 0, \"ticks\": \"\"}}, \"type\": \"scatterpolargl\"}], \"scatterternary\": [{\"marker\": {\"colorbar\": {\"outlinewidth\": 0, \"ticks\": \"\"}}, \"type\": \"scatterternary\"}], \"surface\": [{\"colorbar\": {\"outlinewidth\": 0, \"ticks\": \"\"}, \"colorscale\": [[0.0, \"#0d0887\"], [0.1111111111111111, \"#46039f\"], [0.2222222222222222, \"#7201a8\"], [0.3333333333333333, \"#9c179e\"], [0.4444444444444444, \"#bd3786\"], [0.5555555555555556, \"#d8576b\"], [0.6666666666666666, \"#ed7953\"], [0.7777777777777778, \"#fb9f3a\"], [0.8888888888888888, \"#fdca26\"], [1.0, \"#f0f921\"]], \"type\": \"surface\"}], \"table\": [{\"cells\": {\"fill\": {\"color\": \"#EBF0F8\"}, \"line\": {\"color\": \"white\"}}, \"header\": {\"fill\": {\"color\": \"#C8D4E3\"}, \"line\": {\"color\": \"white\"}}, \"type\": \"table\"}]}, \"layout\": {\"annotationdefaults\": {\"arrowcolor\": \"#2a3f5f\", \"arrowhead\": 0, \"arrowwidth\": 1}, \"coloraxis\": {\"colorbar\": {\"outlinewidth\": 0, \"ticks\": \"\"}}, \"colorscale\": {\"diverging\": [[0, \"#8e0152\"], [0.1, \"#c51b7d\"], [0.2, \"#de77ae\"], [0.3, \"#f1b6da\"], [0.4, \"#fde0ef\"], [0.5, \"#f7f7f7\"], [0.6, \"#e6f5d0\"], [0.7, \"#b8e186\"], [0.8, \"#7fbc41\"], [0.9, \"#4d9221\"], [1, \"#276419\"]], \"sequential\": [[0.0, \"#0d0887\"], [0.1111111111111111, \"#46039f\"], [0.2222222222222222, \"#7201a8\"], [0.3333333333333333, \"#9c179e\"], [0.4444444444444444, \"#bd3786\"], [0.5555555555555556, \"#d8576b\"], [0.6666666666666666, \"#ed7953\"], [0.7777777777777778, \"#fb9f3a\"], [0.8888888888888888, \"#fdca26\"], [1.0, \"#f0f921\"]], \"sequentialminus\": [[0.0, \"#0d0887\"], [0.1111111111111111, \"#46039f\"], [0.2222222222222222, \"#7201a8\"], [0.3333333333333333, \"#9c179e\"], [0.4444444444444444, \"#bd3786\"], [0.5555555555555556, \"#d8576b\"], [0.6666666666666666, \"#ed7953\"], [0.7777777777777778, \"#fb9f3a\"], [0.8888888888888888, \"#fdca26\"], [1.0, \"#f0f921\"]]}, \"colorway\": [\"#636efa\", \"#EF553B\", \"#00cc96\", \"#ab63fa\", \"#FFA15A\", \"#19d3f3\", \"#FF6692\", \"#B6E880\", \"#FF97FF\", \"#FECB52\"], \"font\": {\"color\": \"#2a3f5f\"}, \"geo\": {\"bgcolor\": \"white\", \"lakecolor\": \"white\", \"landcolor\": \"#E5ECF6\", \"showlakes\": true, \"showland\": true, \"subunitcolor\": \"white\"}, \"hoverlabel\": {\"align\": \"left\"}, \"hovermode\": \"closest\", \"mapbox\": {\"style\": \"light\"}, \"paper_bgcolor\": \"white\", \"plot_bgcolor\": \"#E5ECF6\", \"polar\": {\"angularaxis\": {\"gridcolor\": \"white\", \"linecolor\": \"white\", \"ticks\": \"\"}, \"bgcolor\": \"#E5ECF6\", \"radialaxis\": {\"gridcolor\": \"white\", \"linecolor\": \"white\", \"ticks\": \"\"}}, \"scene\": {\"xaxis\": {\"backgroundcolor\": \"#E5ECF6\", \"gridcolor\": \"white\", \"gridwidth\": 2, \"linecolor\": \"white\", \"showbackground\": true, \"ticks\": \"\", \"zerolinecolor\": \"white\"}, \"yaxis\": {\"backgroundcolor\": \"#E5ECF6\", \"gridcolor\": \"white\", \"gridwidth\": 2, \"linecolor\": \"white\", \"showbackground\": true, \"ticks\": \"\", \"zerolinecolor\": \"white\"}, \"zaxis\": {\"backgroundcolor\": \"#E5ECF6\", \"gridcolor\": \"white\", \"gridwidth\": 2, \"linecolor\": \"white\", \"showbackground\": true, \"ticks\": \"\", \"zerolinecolor\": \"white\"}}, \"shapedefaults\": {\"line\": {\"color\": \"#2a3f5f\"}}, \"ternary\": {\"aaxis\": {\"gridcolor\": \"white\", \"linecolor\": \"white\", \"ticks\": \"\"}, \"baxis\": {\"gridcolor\": \"white\", \"linecolor\": \"white\", \"ticks\": \"\"}, \"bgcolor\": \"#E5ECF6\", \"caxis\": {\"gridcolor\": \"white\", \"linecolor\": \"white\", \"ticks\": \"\"}}, \"title\": {\"x\": 0.05}, \"xaxis\": {\"automargin\": true, \"gridcolor\": \"white\", \"linecolor\": \"white\", \"ticks\": \"\", \"title\": {\"standoff\": 15}, \"zerolinecolor\": \"white\", \"zerolinewidth\": 2}, \"yaxis\": {\"automargin\": true, \"gridcolor\": \"white\", \"linecolor\": \"white\", \"ticks\": \"\", \"title\": {\"standoff\": 15}, \"zerolinecolor\": \"white\", \"zerolinewidth\": 2}}}, \"xaxis\": {\"anchor\": \"y\", \"domain\": [0.0, 1.0], \"title\": {\"text\": \"x\"}}, \"yaxis\": {\"anchor\": \"x\", \"domain\": [0.0, 1.0], \"title\": {\"text\": \"y\"}}},                        {\"responsive\": true}                    ).then(function(){\n",
       "                            \n",
       "var gd = document.getElementById('6875bd20-704e-46e0-91c1-1e80272607cc');\n",
       "var x = new MutationObserver(function (mutations, observer) {{\n",
       "        var display = window.getComputedStyle(gd).display;\n",
       "        if (!display || display === 'none') {{\n",
       "            console.log([gd, 'removed!']);\n",
       "            Plotly.purge(gd);\n",
       "            observer.disconnect();\n",
       "        }}\n",
       "}});\n",
       "\n",
       "// Listen for the removal of the full notebook cells\n",
       "var notebookContainer = gd.closest('#notebook-container');\n",
       "if (notebookContainer) {{\n",
       "    x.observe(notebookContainer, {childList: true});\n",
       "}}\n",
       "\n",
       "// Listen for the clearing of the current output cell\n",
       "var outputEl = gd.closest('.output');\n",
       "if (outputEl) {{\n",
       "    x.observe(outputEl, {childList: true});\n",
       "}}\n",
       "\n",
       "                        })                };                });            </script>        </div>"
      ]
     },
     "metadata": {},
     "output_type": "display_data"
    }
   ],
   "source": [
    "import plotly.express as px\n",
    "fig = px.scatter(x=final_one['hpc_no'], y=final_one['GDP'])\n",
    "fig.show()"
   ]
  },
  {
   "cell_type": "code",
   "execution_count": null,
   "metadata": {},
   "outputs": [],
   "source": []
  }
 ],
 "metadata": {
  "kernelspec": {
   "display_name": "Python 3",
   "language": "python",
   "name": "python3"
  },
  "language_info": {
   "codemirror_mode": {
    "name": "ipython",
    "version": 3
   },
   "file_extension": ".py",
   "mimetype": "text/x-python",
   "name": "python",
   "nbconvert_exporter": "python",
   "pygments_lexer": "ipython3",
   "version": "3.7.6"
  }
 },
 "nbformat": 4,
 "nbformat_minor": 4
}
