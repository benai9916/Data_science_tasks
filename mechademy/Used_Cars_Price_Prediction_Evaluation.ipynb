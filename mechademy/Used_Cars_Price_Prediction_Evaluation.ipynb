{
 "cells": [
  {
   "cell_type": "markdown",
   "metadata": {},
   "source": [
    "## Import Libraries"
   ]
  },
  {
   "cell_type": "code",
   "execution_count": 7,
   "metadata": {},
   "outputs": [],
   "source": [
    "import gdown\n",
    "import numpy as np\n",
    "import pandas as pd\n",
    "\n",
    "import matplotlib.pyplot as plt\n",
    "import seaborn as sns\n",
    "\n",
    "from scipy import stats\n",
    "\n",
    "from sklearn.model_selection import train_test_split\n",
    "from sklearn.preprocessing import MinMaxScaler, LabelEncoder\n",
    "\n",
    "%matplotlib inline\n",
    "\n",
    "# set the max-size of the colums to display in output\n",
    "pd.set_option('max_column', 30)\n",
    "\n",
    "# plot figure size\n",
    "plt.rcParams['figure.figsize'] = [12,6]"
   ]
  },
  {
   "cell_type": "code",
   "execution_count": 8,
   "metadata": {},
   "outputs": [
    {
     "name": "stderr",
     "output_type": "stream",
     "text": [
      "Downloading...\n",
      "From: https://drive.google.com/uc?id=1B4Qx7hocGAL8PaU5Qtw_zXiiQeRO4Qts\n",
      "To: G:\\Deep-Learning\\NLP_Task\\mechademy\\car_price.csv\n",
      "3.99MB [00:02, 1.71MB/s]\n"
     ]
    },
    {
     "data": {
      "text/plain": [
       "'car_price.csv'"
      ]
     },
     "execution_count": 8,
     "metadata": {},
     "output_type": "execute_result"
    }
   ],
   "source": [
    "# Download data\n",
    "\n",
    "url = 'https://drive.google.com/uc?id=1B4Qx7hocGAL8PaU5Qtw_zXiiQeRO4Qts'\n",
    "output = 'car_price.csv'\n",
    "gdown.download(url, output, quiet=False)"
   ]
  },
  {
   "cell_type": "code",
   "execution_count": 9,
   "metadata": {},
   "outputs": [],
   "source": [
    "car_df = pd.read_csv('car_price.csv')"
   ]
  },
  {
   "cell_type": "code",
   "execution_count": 10,
   "metadata": {},
   "outputs": [
    {
     "data": {
      "text/html": [
       "<div>\n",
       "<style scoped>\n",
       "    .dataframe tbody tr th:only-of-type {\n",
       "        vertical-align: middle;\n",
       "    }\n",
       "\n",
       "    .dataframe tbody tr th {\n",
       "        vertical-align: top;\n",
       "    }\n",
       "\n",
       "    .dataframe thead th {\n",
       "        text-align: right;\n",
       "    }\n",
       "</style>\n",
       "<table border=\"1\" class=\"dataframe\">\n",
       "  <thead>\n",
       "    <tr style=\"text-align: right;\">\n",
       "      <th></th>\n",
       "      <th>Unnamed: 0</th>\n",
       "      <th>make</th>\n",
       "      <th>model</th>\n",
       "      <th>priceUSD</th>\n",
       "      <th>year</th>\n",
       "      <th>condition</th>\n",
       "      <th>mileage(kilometers)</th>\n",
       "      <th>fuel_type</th>\n",
       "      <th>volume(cm3)</th>\n",
       "      <th>color</th>\n",
       "      <th>transmission</th>\n",
       "      <th>drive_unit</th>\n",
       "      <th>segment</th>\n",
       "    </tr>\n",
       "  </thead>\n",
       "  <tbody>\n",
       "    <tr>\n",
       "      <th>0</th>\n",
       "      <td>0</td>\n",
       "      <td>honda</td>\n",
       "      <td>accord</td>\n",
       "      <td>565</td>\n",
       "      <td>1993</td>\n",
       "      <td>with mileage</td>\n",
       "      <td>960015.0</td>\n",
       "      <td>petrol</td>\n",
       "      <td>2000.0</td>\n",
       "      <td>black</td>\n",
       "      <td>mechanics</td>\n",
       "      <td>front-wheel drive</td>\n",
       "      <td>D</td>\n",
       "    </tr>\n",
       "    <tr>\n",
       "      <th>1</th>\n",
       "      <td>1</td>\n",
       "      <td>ford</td>\n",
       "      <td>fusion</td>\n",
       "      <td>5550</td>\n",
       "      <td>2008</td>\n",
       "      <td>with mileage</td>\n",
       "      <td>172000.0</td>\n",
       "      <td>diesel</td>\n",
       "      <td>1400.0</td>\n",
       "      <td>silver</td>\n",
       "      <td>mechanics</td>\n",
       "      <td>front-wheel drive</td>\n",
       "      <td>M</td>\n",
       "    </tr>\n",
       "    <tr>\n",
       "      <th>2</th>\n",
       "      <td>2</td>\n",
       "      <td>nissan</td>\n",
       "      <td>teana</td>\n",
       "      <td>8300</td>\n",
       "      <td>2008</td>\n",
       "      <td>with mileage</td>\n",
       "      <td>223000.0</td>\n",
       "      <td>petrol</td>\n",
       "      <td>2500.0</td>\n",
       "      <td>purple</td>\n",
       "      <td>auto</td>\n",
       "      <td>front-wheel drive</td>\n",
       "      <td>D</td>\n",
       "    </tr>\n",
       "    <tr>\n",
       "      <th>3</th>\n",
       "      <td>3</td>\n",
       "      <td>volkswagen</td>\n",
       "      <td>fox</td>\n",
       "      <td>3300</td>\n",
       "      <td>2005</td>\n",
       "      <td>with mileage</td>\n",
       "      <td>140000.0</td>\n",
       "      <td>petrol</td>\n",
       "      <td>1200.0</td>\n",
       "      <td>blue</td>\n",
       "      <td>mechanics</td>\n",
       "      <td>front-wheel drive</td>\n",
       "      <td>A</td>\n",
       "    </tr>\n",
       "    <tr>\n",
       "      <th>4</th>\n",
       "      <td>4</td>\n",
       "      <td>nissan</td>\n",
       "      <td>primera</td>\n",
       "      <td>2450</td>\n",
       "      <td>2002</td>\n",
       "      <td>with damage</td>\n",
       "      <td>413000.0</td>\n",
       "      <td>diesel</td>\n",
       "      <td>2200.0</td>\n",
       "      <td>burgundy</td>\n",
       "      <td>mechanics</td>\n",
       "      <td>front-wheel drive</td>\n",
       "      <td>D</td>\n",
       "    </tr>\n",
       "  </tbody>\n",
       "</table>\n",
       "</div>"
      ],
      "text/plain": [
       "   Unnamed: 0        make    model  priceUSD  year     condition  \\\n",
       "0           0       honda   accord       565  1993  with mileage   \n",
       "1           1        ford   fusion      5550  2008  with mileage   \n",
       "2           2      nissan    teana      8300  2008  with mileage   \n",
       "3           3  volkswagen      fox      3300  2005  with mileage   \n",
       "4           4      nissan  primera      2450  2002   with damage   \n",
       "\n",
       "   mileage(kilometers) fuel_type  volume(cm3)     color transmission  \\\n",
       "0             960015.0    petrol       2000.0     black    mechanics   \n",
       "1             172000.0    diesel       1400.0    silver    mechanics   \n",
       "2             223000.0    petrol       2500.0    purple         auto   \n",
       "3             140000.0    petrol       1200.0      blue    mechanics   \n",
       "4             413000.0    diesel       2200.0  burgundy    mechanics   \n",
       "\n",
       "          drive_unit segment  \n",
       "0  front-wheel drive       D  \n",
       "1  front-wheel drive       M  \n",
       "2  front-wheel drive       D  \n",
       "3  front-wheel drive       A  \n",
       "4  front-wheel drive       D  "
      ]
     },
     "execution_count": 10,
     "metadata": {},
     "output_type": "execute_result"
    }
   ],
   "source": [
    "# show first five rows\n",
    "\n",
    "car_df.head()"
   ]
  },
  {
   "cell_type": "code",
   "execution_count": 11,
   "metadata": {},
   "outputs": [
    {
     "data": {
      "text/plain": [
       "(40000, 13)"
      ]
     },
     "execution_count": 11,
     "metadata": {},
     "output_type": "execute_result"
    }
   ],
   "source": [
    "# shape of  df \n",
    "\n",
    "car_df.shape"
   ]
  },
  {
   "cell_type": "code",
   "execution_count": 12,
   "metadata": {},
   "outputs": [
    {
     "data": {
      "text/html": [
       "<div>\n",
       "<style scoped>\n",
       "    .dataframe tbody tr th:only-of-type {\n",
       "        vertical-align: middle;\n",
       "    }\n",
       "\n",
       "    .dataframe tbody tr th {\n",
       "        vertical-align: top;\n",
       "    }\n",
       "\n",
       "    .dataframe thead th {\n",
       "        text-align: right;\n",
       "    }\n",
       "</style>\n",
       "<table border=\"1\" class=\"dataframe\">\n",
       "  <thead>\n",
       "    <tr style=\"text-align: right;\">\n",
       "      <th></th>\n",
       "      <th>Unnamed: 0</th>\n",
       "      <th>priceUSD</th>\n",
       "      <th>year</th>\n",
       "      <th>mileage(kilometers)</th>\n",
       "      <th>volume(cm3)</th>\n",
       "    </tr>\n",
       "  </thead>\n",
       "  <tbody>\n",
       "    <tr>\n",
       "      <th>count</th>\n",
       "      <td>40000.00000</td>\n",
       "      <td>40000.000000</td>\n",
       "      <td>40000.000000</td>\n",
       "      <td>4.000000e+04</td>\n",
       "      <td>39970.000000</td>\n",
       "    </tr>\n",
       "    <tr>\n",
       "      <th>mean</th>\n",
       "      <td>19999.50000</td>\n",
       "      <td>7430.383775</td>\n",
       "      <td>2003.485625</td>\n",
       "      <td>2.434332e+05</td>\n",
       "      <td>2103.201676</td>\n",
       "    </tr>\n",
       "    <tr>\n",
       "      <th>std</th>\n",
       "      <td>11547.14972</td>\n",
       "      <td>8338.242134</td>\n",
       "      <td>8.114896</td>\n",
       "      <td>3.167033e+05</td>\n",
       "      <td>938.724653</td>\n",
       "    </tr>\n",
       "    <tr>\n",
       "      <th>min</th>\n",
       "      <td>0.00000</td>\n",
       "      <td>95.000000</td>\n",
       "      <td>1938.000000</td>\n",
       "      <td>0.000000e+00</td>\n",
       "      <td>500.000000</td>\n",
       "    </tr>\n",
       "    <tr>\n",
       "      <th>25%</th>\n",
       "      <td>9999.75000</td>\n",
       "      <td>2350.000000</td>\n",
       "      <td>1998.000000</td>\n",
       "      <td>1.370000e+05</td>\n",
       "      <td>1600.000000</td>\n",
       "    </tr>\n",
       "    <tr>\n",
       "      <th>50%</th>\n",
       "      <td>19999.50000</td>\n",
       "      <td>5350.000000</td>\n",
       "      <td>2004.000000</td>\n",
       "      <td>2.280000e+05</td>\n",
       "      <td>1995.000000</td>\n",
       "    </tr>\n",
       "    <tr>\n",
       "      <th>75%</th>\n",
       "      <td>29999.25000</td>\n",
       "      <td>9850.000000</td>\n",
       "      <td>2010.000000</td>\n",
       "      <td>3.087610e+05</td>\n",
       "      <td>2300.000000</td>\n",
       "    </tr>\n",
       "    <tr>\n",
       "      <th>max</th>\n",
       "      <td>39999.00000</td>\n",
       "      <td>195000.000000</td>\n",
       "      <td>2019.000000</td>\n",
       "      <td>9.999999e+06</td>\n",
       "      <td>20000.000000</td>\n",
       "    </tr>\n",
       "  </tbody>\n",
       "</table>\n",
       "</div>"
      ],
      "text/plain": [
       "        Unnamed: 0       priceUSD          year  mileage(kilometers)  \\\n",
       "count  40000.00000   40000.000000  40000.000000         4.000000e+04   \n",
       "mean   19999.50000    7430.383775   2003.485625         2.434332e+05   \n",
       "std    11547.14972    8338.242134      8.114896         3.167033e+05   \n",
       "min        0.00000      95.000000   1938.000000         0.000000e+00   \n",
       "25%     9999.75000    2350.000000   1998.000000         1.370000e+05   \n",
       "50%    19999.50000    5350.000000   2004.000000         2.280000e+05   \n",
       "75%    29999.25000    9850.000000   2010.000000         3.087610e+05   \n",
       "max    39999.00000  195000.000000   2019.000000         9.999999e+06   \n",
       "\n",
       "        volume(cm3)  \n",
       "count  39970.000000  \n",
       "mean    2103.201676  \n",
       "std      938.724653  \n",
       "min      500.000000  \n",
       "25%     1600.000000  \n",
       "50%     1995.000000  \n",
       "75%     2300.000000  \n",
       "max    20000.000000  "
      ]
     },
     "execution_count": 12,
     "metadata": {},
     "output_type": "execute_result"
    }
   ],
   "source": [
    "# print descriptive statistic on numerical columns\n",
    "\n",
    "car_df.describe()"
   ]
  },
  {
   "cell_type": "markdown",
   "metadata": {},
   "source": [
    "Observations:\n",
    "- Min car price is 95 and max is 19500, there is an outlier in the data\n",
    "- oldest car is from the year 1938\n",
    "- First quartile value (25%) lies in the year 1998. This indicated that more than 75% of the cars are new models and are built after 1998."
   ]
  },
  {
   "cell_type": "code",
   "execution_count": 13,
   "metadata": {},
   "outputs": [],
   "source": [
    "# drop usless column\n",
    "\n",
    "car_df.drop('Unnamed: 0', inplace=True, axis=1)"
   ]
  },
  {
   "cell_type": "code",
   "execution_count": 14,
   "metadata": {},
   "outputs": [
    {
     "data": {
      "text/plain": [
       "Index(['make', 'model', 'price', 'year', 'condition', 'mileage', 'fuel_type',\n",
       "       'volume', 'color', 'transmission', 'drive_unit', 'segment'],\n",
       "      dtype='object')"
      ]
     },
     "execution_count": 14,
     "metadata": {},
     "output_type": "execute_result"
    }
   ],
   "source": [
    "# rename column\n",
    "\n",
    "car_df.rename(columns={'priceUSD': 'price', 'mileage(kilometers)': 'mileage', 'volume(cm3)': 'volume'},inplace=True)\n",
    "\n",
    "car_df.columns"
   ]
  },
  {
   "cell_type": "code",
   "execution_count": 15,
   "metadata": {},
   "outputs": [
    {
     "data": {
      "text/html": [
       "<div>\n",
       "<style scoped>\n",
       "    .dataframe tbody tr th:only-of-type {\n",
       "        vertical-align: middle;\n",
       "    }\n",
       "\n",
       "    .dataframe tbody tr th {\n",
       "        vertical-align: top;\n",
       "    }\n",
       "\n",
       "    .dataframe thead th {\n",
       "        text-align: right;\n",
       "    }\n",
       "</style>\n",
       "<table border=\"1\" class=\"dataframe\">\n",
       "  <thead>\n",
       "    <tr style=\"text-align: right;\">\n",
       "      <th></th>\n",
       "      <th>make</th>\n",
       "      <th>model</th>\n",
       "      <th>price</th>\n",
       "      <th>year</th>\n",
       "      <th>condition</th>\n",
       "      <th>mileage</th>\n",
       "      <th>fuel_type</th>\n",
       "      <th>volume</th>\n",
       "      <th>color</th>\n",
       "      <th>transmission</th>\n",
       "      <th>drive_unit</th>\n",
       "      <th>segment</th>\n",
       "    </tr>\n",
       "  </thead>\n",
       "  <tbody>\n",
       "    <tr>\n",
       "      <th>0</th>\n",
       "      <td>honda</td>\n",
       "      <td>accord</td>\n",
       "      <td>565</td>\n",
       "      <td>1993</td>\n",
       "      <td>with mileage</td>\n",
       "      <td>960015.0</td>\n",
       "      <td>petrol</td>\n",
       "      <td>2000.0</td>\n",
       "      <td>black</td>\n",
       "      <td>mechanics</td>\n",
       "      <td>front-wheel drive</td>\n",
       "      <td>D</td>\n",
       "    </tr>\n",
       "    <tr>\n",
       "      <th>1</th>\n",
       "      <td>ford</td>\n",
       "      <td>fusion</td>\n",
       "      <td>5550</td>\n",
       "      <td>2008</td>\n",
       "      <td>with mileage</td>\n",
       "      <td>172000.0</td>\n",
       "      <td>diesel</td>\n",
       "      <td>1400.0</td>\n",
       "      <td>silver</td>\n",
       "      <td>mechanics</td>\n",
       "      <td>front-wheel drive</td>\n",
       "      <td>M</td>\n",
       "    </tr>\n",
       "  </tbody>\n",
       "</table>\n",
       "</div>"
      ],
      "text/plain": [
       "    make   model  price  year     condition   mileage fuel_type  volume  \\\n",
       "0  honda  accord    565  1993  with mileage  960015.0    petrol  2000.0   \n",
       "1   ford  fusion   5550  2008  with mileage  172000.0    diesel  1400.0   \n",
       "\n",
       "    color transmission         drive_unit segment  \n",
       "0   black    mechanics  front-wheel drive       D  \n",
       "1  silver    mechanics  front-wheel drive       M  "
      ]
     },
     "execution_count": 15,
     "metadata": {},
     "output_type": "execute_result"
    }
   ],
   "source": [
    "car_df.head(2)"
   ]
  },
  {
   "cell_type": "code",
   "execution_count": 16,
   "metadata": {},
   "outputs": [
    {
     "name": "stdout",
     "output_type": "stream",
     "text": [
      "<class 'pandas.core.frame.DataFrame'>\n",
      "RangeIndex: 40000 entries, 0 to 39999\n",
      "Data columns (total 12 columns):\n",
      "make            40000 non-null object\n",
      "model           40000 non-null object\n",
      "price           40000 non-null int64\n",
      "year            40000 non-null int64\n",
      "condition       40000 non-null object\n",
      "mileage         40000 non-null float64\n",
      "fuel_type       40000 non-null object\n",
      "volume          39970 non-null float64\n",
      "color           40000 non-null object\n",
      "transmission    40000 non-null object\n",
      "drive_unit      38655 non-null object\n",
      "segment         36245 non-null object\n",
      "dtypes: float64(2), int64(2), object(8)\n",
      "memory usage: 3.7+ MB\n"
     ]
    }
   ],
   "source": [
    "# print some few imformation about database \n",
    "\n",
    "car_df.info()"
   ]
  },
  {
   "cell_type": "code",
   "execution_count": 17,
   "metadata": {},
   "outputs": [
    {
     "data": {
      "text/html": [
       "<div>\n",
       "<style scoped>\n",
       "    .dataframe tbody tr th:only-of-type {\n",
       "        vertical-align: middle;\n",
       "    }\n",
       "\n",
       "    .dataframe tbody tr th {\n",
       "        vertical-align: top;\n",
       "    }\n",
       "\n",
       "    .dataframe thead th {\n",
       "        text-align: right;\n",
       "    }\n",
       "</style>\n",
       "<table border=\"1\" class=\"dataframe\">\n",
       "  <thead>\n",
       "    <tr style=\"text-align: right;\">\n",
       "      <th></th>\n",
       "      <th>variableType</th>\n",
       "      <th>count</th>\n",
       "    </tr>\n",
       "  </thead>\n",
       "  <tbody>\n",
       "    <tr>\n",
       "      <th>0</th>\n",
       "      <td>object</td>\n",
       "      <td>8</td>\n",
       "    </tr>\n",
       "    <tr>\n",
       "      <th>1</th>\n",
       "      <td>int64</td>\n",
       "      <td>2</td>\n",
       "    </tr>\n",
       "    <tr>\n",
       "      <th>2</th>\n",
       "      <td>float64</td>\n",
       "      <td>2</td>\n",
       "    </tr>\n",
       "  </tbody>\n",
       "</table>\n",
       "</div>"
      ],
      "text/plain": [
       "  variableType  count\n",
       "0       object      8\n",
       "1        int64      2\n",
       "2      float64      2"
      ]
     },
     "execution_count": 17,
     "metadata": {},
     "output_type": "execute_result"
    }
   ],
   "source": [
    "# count the data type in each column\n",
    "dtype_df = pd.DataFrame(car_df.dtypes.value_counts()).reset_index().rename(columns={\"index\":\"variableType\",0:\"count\"})\n",
    "\n",
    "dtype_df"
   ]
  },
  {
   "cell_type": "markdown",
   "metadata": {},
   "source": [
    "## Missing Values"
   ]
  },
  {
   "cell_type": "code",
   "execution_count": 18,
   "metadata": {},
   "outputs": [
    {
     "data": {
      "text/plain": [
       "make               0\n",
       "model              0\n",
       "price              0\n",
       "year               0\n",
       "condition          0\n",
       "mileage            0\n",
       "fuel_type          0\n",
       "volume            30\n",
       "color              0\n",
       "transmission       0\n",
       "drive_unit      1345\n",
       "segment         3755\n",
       "dtype: int64"
      ]
     },
     "execution_count": 18,
     "metadata": {},
     "output_type": "execute_result"
    }
   ],
   "source": [
    "car_df.isna().sum()"
   ]
  },
  {
   "cell_type": "code",
   "execution_count": 19,
   "metadata": {},
   "outputs": [
    {
     "data": {
      "text/plain": [
       "['volume', 'drive_unit', 'segment']"
      ]
     },
     "execution_count": 19,
     "metadata": {},
     "output_type": "execute_result"
    }
   ],
   "source": [
    "# list out all the NaN values of categorical variable\n",
    "\n",
    "missing_value = [cols for cols in car_df.columns if car_df[cols].isnull().sum()]\n",
    "missing_value"
   ]
  },
  {
   "cell_type": "code",
   "execution_count": 20,
   "metadata": {},
   "outputs": [
    {
     "name": "stdout",
     "output_type": "stream",
     "text": [
      "2000.0    7652\n",
      "1600.0    6159\n",
      "1800.0    4227\n",
      "1900.0    2596\n",
      "2500.0    2387\n",
      "          ... \n",
      "1609.0       1\n",
      "750.0        1\n",
      "2193.0       1\n",
      "1926.0       1\n",
      "2048.0       1\n",
      "Name: volume, Length: 396, dtype: int64\n",
      "------------------------------------------------------------\n",
      "front-wheel drive             27074\n",
      "rear drive                     4809\n",
      "all-wheel drive                4176\n",
      "part-time four-wheel drive     2596\n",
      "Name: drive_unit, dtype: int64\n",
      "------------------------------------------------------------\n",
      "D    8985\n",
      "C    7509\n",
      "J    6161\n",
      "M    4532\n",
      "E    4391\n",
      "B    3128\n",
      "F     658\n",
      "S     549\n",
      "A     332\n",
      "Name: segment, dtype: int64\n",
      "------------------------------------------------------------\n"
     ]
    }
   ],
   "source": [
    "for i in missing_value:\n",
    "    print(car_df[i].value_counts())\n",
    "    print('--'* 30)"
   ]
  },
  {
   "cell_type": "markdown",
   "metadata": {},
   "source": [
    "## Hnadle missing values\n",
    "Replace categorical variable with the most common value and numerical value with the mean value\n"
   ]
  },
  {
   "cell_type": "code",
   "execution_count": 21,
   "metadata": {},
   "outputs": [
    {
     "name": "stdout",
     "output_type": "stream",
     "text": [
      "2000.0\n",
      "front-wheel drive\n",
      "D\n"
     ]
    }
   ],
   "source": [
    "# replace categorical variable with the most common value and numerical value with the mean value\n",
    "\n",
    "for cols in missing_value:\n",
    "    if car_df[cols].dtype == 'O':\n",
    "        print(car_df[cols].value_counts().index[0])\n",
    "        car_df[cols].fillna(car_df[cols].value_counts().index[0], inplace=True)\n",
    "    else:\n",
    "        print(car_df[cols].value_counts().index[0])\n",
    "        car_df[cols].fillna(car_df[cols].mean(), inplace=True)"
   ]
  },
  {
   "cell_type": "code",
   "execution_count": 22,
   "metadata": {},
   "outputs": [
    {
     "data": {
      "text/plain": [
       "make            0\n",
       "model           0\n",
       "price           0\n",
       "year            0\n",
       "condition       0\n",
       "mileage         0\n",
       "fuel_type       0\n",
       "volume          0\n",
       "color           0\n",
       "transmission    0\n",
       "drive_unit      0\n",
       "segment         0\n",
       "dtype: int64"
      ]
     },
     "execution_count": 22,
     "metadata": {},
     "output_type": "execute_result"
    }
   ],
   "source": [
    "car_df.isna().sum()"
   ]
  },
  {
   "cell_type": "code",
   "execution_count": 23,
   "metadata": {},
   "outputs": [
    {
     "data": {
      "text/plain": [
       "array(['D', 'M', 'A', 'J', 'C', 'E', 'F', 'B', 'S'], dtype=object)"
      ]
     },
     "execution_count": 23,
     "metadata": {},
     "output_type": "execute_result"
    }
   ],
   "source": [
    "car_df['segment'].unique()"
   ]
  },
  {
   "cell_type": "code",
   "execution_count": null,
   "metadata": {},
   "outputs": [],
   "source": []
  },
  {
   "cell_type": "markdown",
   "metadata": {},
   "source": [
    "## Numerical values"
   ]
  },
  {
   "cell_type": "code",
   "execution_count": 24,
   "metadata": {},
   "outputs": [
    {
     "data": {
      "text/html": [
       "<div>\n",
       "<style scoped>\n",
       "    .dataframe tbody tr th:only-of-type {\n",
       "        vertical-align: middle;\n",
       "    }\n",
       "\n",
       "    .dataframe tbody tr th {\n",
       "        vertical-align: top;\n",
       "    }\n",
       "\n",
       "    .dataframe thead th {\n",
       "        text-align: right;\n",
       "    }\n",
       "</style>\n",
       "<table border=\"1\" class=\"dataframe\">\n",
       "  <thead>\n",
       "    <tr style=\"text-align: right;\">\n",
       "      <th></th>\n",
       "      <th>price</th>\n",
       "      <th>year</th>\n",
       "      <th>mileage</th>\n",
       "      <th>volume</th>\n",
       "    </tr>\n",
       "  </thead>\n",
       "  <tbody>\n",
       "    <tr>\n",
       "      <th>0</th>\n",
       "      <td>565</td>\n",
       "      <td>1993</td>\n",
       "      <td>960015.0</td>\n",
       "      <td>2000.0</td>\n",
       "    </tr>\n",
       "    <tr>\n",
       "      <th>1</th>\n",
       "      <td>5550</td>\n",
       "      <td>2008</td>\n",
       "      <td>172000.0</td>\n",
       "      <td>1400.0</td>\n",
       "    </tr>\n",
       "    <tr>\n",
       "      <th>2</th>\n",
       "      <td>8300</td>\n",
       "      <td>2008</td>\n",
       "      <td>223000.0</td>\n",
       "      <td>2500.0</td>\n",
       "    </tr>\n",
       "    <tr>\n",
       "      <th>3</th>\n",
       "      <td>3300</td>\n",
       "      <td>2005</td>\n",
       "      <td>140000.0</td>\n",
       "      <td>1200.0</td>\n",
       "    </tr>\n",
       "    <tr>\n",
       "      <th>4</th>\n",
       "      <td>2450</td>\n",
       "      <td>2002</td>\n",
       "      <td>413000.0</td>\n",
       "      <td>2200.0</td>\n",
       "    </tr>\n",
       "  </tbody>\n",
       "</table>\n",
       "</div>"
      ],
      "text/plain": [
       "   price  year   mileage  volume\n",
       "0    565  1993  960015.0  2000.0\n",
       "1   5550  2008  172000.0  1400.0\n",
       "2   8300  2008  223000.0  2500.0\n",
       "3   3300  2005  140000.0  1200.0\n",
       "4   2450  2002  413000.0  2200.0"
      ]
     },
     "execution_count": 24,
     "metadata": {},
     "output_type": "execute_result"
    }
   ],
   "source": [
    "# dataframe of all columns with numerical values\n",
    "numeric_col = [num_col for num_col in car_df.columns if car_df[num_col].dtype != 'O']\n",
    "\n",
    "car_df[numeric_col].head()"
   ]
  },
  {
   "cell_type": "code",
   "execution_count": 25,
   "metadata": {},
   "outputs": [
    {
     "data": {
      "text/html": [
       "<div>\n",
       "<style scoped>\n",
       "    .dataframe tbody tr th:only-of-type {\n",
       "        vertical-align: middle;\n",
       "    }\n",
       "\n",
       "    .dataframe tbody tr th {\n",
       "        vertical-align: top;\n",
       "    }\n",
       "\n",
       "    .dataframe thead th {\n",
       "        text-align: right;\n",
       "    }\n",
       "</style>\n",
       "<table border=\"1\" class=\"dataframe\">\n",
       "  <thead>\n",
       "    <tr style=\"text-align: right;\">\n",
       "      <th></th>\n",
       "      <th>year</th>\n",
       "    </tr>\n",
       "  </thead>\n",
       "  <tbody>\n",
       "    <tr>\n",
       "      <th>0</th>\n",
       "      <td>1993</td>\n",
       "    </tr>\n",
       "    <tr>\n",
       "      <th>1</th>\n",
       "      <td>2008</td>\n",
       "    </tr>\n",
       "    <tr>\n",
       "      <th>2</th>\n",
       "      <td>2008</td>\n",
       "    </tr>\n",
       "    <tr>\n",
       "      <th>3</th>\n",
       "      <td>2005</td>\n",
       "    </tr>\n",
       "  </tbody>\n",
       "</table>\n",
       "</div>"
      ],
      "text/plain": [
       "   year\n",
       "0  1993\n",
       "1  2008\n",
       "2  2008\n",
       "3  2005"
      ]
     },
     "execution_count": 25,
     "metadata": {},
     "output_type": "execute_result"
    }
   ],
   "source": [
    "# list of all those columns which contain years or data (Temporal variables)\n",
    "\n",
    "year_cols = [y for y in car_df.columns if 'yr' in y or 'year' in y]\n",
    "\n",
    "car_df[year_cols].head(4)"
   ]
  },
  {
   "cell_type": "code",
   "execution_count": 26,
   "metadata": {},
   "outputs": [
    {
     "data": {
      "text/plain": [
       "year    int64\n",
       "dtype: object"
      ]
     },
     "execution_count": 26,
     "metadata": {},
     "output_type": "execute_result"
    }
   ],
   "source": [
    "# check the data type of the year columns\n",
    "car_df[year_cols].dtypes"
   ]
  },
  {
   "cell_type": "markdown",
   "metadata": {},
   "source": [
    "Observation:\n",
    "- As you can see the year is not in datetime formate we need to convert it into data time formate"
   ]
  },
  {
   "cell_type": "code",
   "execution_count": 27,
   "metadata": {},
   "outputs": [
    {
     "data": {
      "text/plain": [
       "array([1993, 2008, 2005, 2002, 2016, 1997, 1991, 2004, 2013, 2014, 2012,\n",
       "       2015, 1998, 2011, 2003, 1982, 1968, 2001, 2006, 2009, 2018, 2000,\n",
       "       1995, 2007, 1989, 1999, 1988, 2010, 1954, 1996, 1992, 1990, 1994,\n",
       "       1986, 2017, 1987, 1966, 1985, 1961, 1984, 2019, 1983, 1976, 1978,\n",
       "       1955, 1980, 1962, 1981, 1970, 1975, 1977, 1969, 1963, 1965, 1979,\n",
       "       1950, 1972, 1967, 1938, 1959, 1964, 1952, 1956, 1973, 1960, 1958,\n",
       "       1957, 1949, 1951, 1945, 1974, 1971], dtype=int64)"
      ]
     },
     "execution_count": 27,
     "metadata": {},
     "output_type": "execute_result"
    }
   ],
   "source": [
    "# check the value in yar column\n",
    "car_df[year_cols[0]].unique()"
   ]
  },
  {
   "cell_type": "code",
   "execution_count": 28,
   "metadata": {},
   "outputs": [
    {
     "data": {
      "text/plain": [
       "Index(['make', 'model', 'price', 'year', 'condition', 'mileage', 'fuel_type',\n",
       "       'volume', 'color', 'transmission', 'drive_unit', 'segment'],\n",
       "      dtype='object')"
      ]
     },
     "execution_count": 28,
     "metadata": {},
     "output_type": "execute_result"
    }
   ],
   "source": [
    "car_df.columns"
   ]
  },
  {
   "cell_type": "code",
   "execution_count": 29,
   "metadata": {},
   "outputs": [
    {
     "data": {
      "image/png": "[encoded data removed]",
      "text/plain": [
       "<Figure size 432x288 with 1 Axes>"
      ]
     },
     "metadata": {
      "needs_background": "light"
     },
     "output_type": "display_data"
    }
   ],
   "source": [
    "# Lets analyze the Datetime columns\n",
    "# We will check whether there is a relation between year made and the price, mileage, condition\n",
    "\n",
    "car_df.groupby(year_cols[0])['price'].mean().plot()\n",
    "plt.xlabel('Year')\n",
    "plt.ylabel('Median car Price')\n",
    "plt.title(\"Car Price vs Year\")\n",
    "plt.show()"
   ]
  },
  {
   "cell_type": "markdown",
   "metadata": {},
   "source": [
    "Observation:\n",
    "- Average price for Car made in between 1938 to 1945 and between 2010 to 2019are higher\n",
    "- There is a share fall in car price in 1945\n",
    "- In mid 1995 the average car price statred to increase"
   ]
  },
  {
   "cell_type": "markdown",
   "metadata": {},
   "source": [
    "### 1. Discrete Variables\n",
    "Numerical variables are usually of 2 type"
   ]
  },
  {
   "cell_type": "code",
   "execution_count": 30,
   "metadata": {},
   "outputs": [
    {
     "name": "stdout",
     "output_type": "stream",
     "text": [
      "The number of discrete valye is: 0\n"
     ]
    }
   ],
   "source": [
    "discrete_cols = [cols for cols in numeric_col if len(car_df[cols].unique()) < 25 and cols not in year_cols]\n",
    "\n",
    "print('The number of discrete valye is:', len(discrete_cols))"
   ]
  },
  {
   "cell_type": "markdown",
   "metadata": {},
   "source": [
    "### 2. Continuous Variable"
   ]
  },
  {
   "cell_type": "code",
   "execution_count": 31,
   "metadata": {},
   "outputs": [
    {
     "name": "stdout",
     "output_type": "stream",
     "text": [
      "The number of numeric columns are: 3 \n",
      " ['price', 'mileage', 'volume']\n"
     ]
    }
   ],
   "source": [
    "continuous_cols = [cols for cols in numeric_col if cols not in discrete_cols + year_cols]\n",
    "\n",
    "print('The number of numeric columns are:', len(continuous_cols), '\\n',continuous_cols)"
   ]
  },
  {
   "cell_type": "code",
   "execution_count": 32,
   "metadata": {},
   "outputs": [
    {
     "data": {
      "image/png": "[encoded data removed]",
      "text/plain": [
       "<Figure size 432x288 with 1 Axes>"
      ]
     },
     "metadata": {
      "needs_background": "light"
     },
     "output_type": "display_data"
    },
    {
     "data": {
      "image/png": "[encoded data removed]",
      "text/plain": [
       "<Figure size 432x288 with 1 Axes>"
      ]
     },
     "metadata": {
      "needs_background": "light"
     },
     "output_type": "display_data"
    },
    {
     "data": {
      "image/png": "[encoded data removed]",
      "text/plain": [
       "<Figure size 432x288 with 1 Axes>"
      ]
     },
     "metadata": {
      "needs_background": "light"
     },
     "output_type": "display_data"
    }
   ],
   "source": [
    "# Lets analyse the continuous values by creating histograms to understand the distribution\n",
    "\n",
    "for cols in continuous_cols:\n",
    "    sns.distplot(car_df[cols], bins=25)\n",
    "    plt.xlabel(cols)\n",
    "    plt.ylabel('Counts')\n",
    "    plt.show()"
   ]
  },
  {
   "cell_type": "markdown",
   "metadata": {},
   "source": [
    "Since the continuous data does not follow normal distribution we have to do **feature scaling**"
   ]
  },
  {
   "cell_type": "code",
   "execution_count": 33,
   "metadata": {},
   "outputs": [
    {
     "data": {
      "image/png": "[encoded data removed]",
      "text/plain": [
       "<Figure size 432x288 with 1 Axes>"
      ]
     },
     "metadata": {
      "needs_background": "light"
     },
     "output_type": "display_data"
    },
    {
     "data": {
      "image/png": "[encoded data removed]",
      "text/plain": [
       "<Figure size 432x288 with 1 Axes>"
      ]
     },
     "metadata": {
      "needs_background": "light"
     },
     "output_type": "display_data"
    }
   ],
   "source": [
    "for cols in continuous_cols:\n",
    "    car_df_copy = car_df.copy(deep=True)\n",
    "    \n",
    "    if 0 in car_df_copy[cols].unique():\n",
    "        pass\n",
    "    else:\n",
    "        car_df_copy[cols] = np.log(car_df_copy[cols])\n",
    "        car_df_copy['price'] = np.log(car_df_copy['price'])\n",
    "        \n",
    "        plt.scatter(car_df_copy[cols],car_df_copy['price'])\n",
    "        plt.xlabel(cols)\n",
    "        plt.ylabel('price')\n",
    "        plt.show()"
   ]
  },
  {
   "cell_type": "code",
   "execution_count": 34,
   "metadata": {},
   "outputs": [
    {
     "data": {
      "image/png": "[encoded data removed]",
      "text/plain": [
       "<Figure size 432x288 with 1 Axes>"
      ]
     },
     "metadata": {
      "needs_background": "light"
     },
     "output_type": "display_data"
    },
    {
     "data": {
      "image/png": "[encoded data removed]",
      "text/plain": [
       "<Figure size 432x288 with 1 Axes>"
      ]
     },
     "metadata": {
      "needs_background": "light"
     },
     "output_type": "display_data"
    },
    {
     "data": {
      "image/png": "[encoded data removed]",
      "text/plain": [
       "<Figure size 432x288 with 1 Axes>"
      ]
     },
     "metadata": {
      "needs_background": "light"
     },
     "output_type": "display_data"
    }
   ],
   "source": [
    "# Lets analyze the Datetime columns with contin\n",
    "# We will check if there is a relation between year made, mileage, condition, volume\n",
    "\n",
    "for cols in continuous_cols:\n",
    "    sns.scatterplot(x=year_cols[0], y=cols, data=car_df)\n",
    "    plt.ylabel(cols)\n",
    "    plt.xlabel(year_cols[0])\n",
    "    plt.show()"
   ]
  },
  {
   "cell_type": "markdown",
   "metadata": {},
   "source": [
    "Observation:\n",
    "- car price started to increas between year 2000 to 2019\n",
    "- Few car made between 1985 to 2005 give higher mileage\n",
    "- Most of the car made after 1980 have larger volume"
   ]
  },
  {
   "cell_type": "markdown",
   "metadata": {},
   "source": [
    "## Categorical varaibles"
   ]
  },
  {
   "cell_type": "code",
   "execution_count": 35,
   "metadata": {},
   "outputs": [
    {
     "name": "stdout",
     "output_type": "stream",
     "text": [
      "The number of categoricl columns are: 8 \n",
      " ['make', 'model', 'condition', 'fuel_type', 'color', 'transmission', 'drive_unit', 'segment']\n"
     ]
    }
   ],
   "source": [
    "# list all the categorical columns\n",
    "categorical_cols = [cols for cols in car_df.columns if car_df[cols].dtype == 'O']\n",
    "categorical_cols\n",
    "print('The number of categoricl columns are:', len(categorical_cols), '\\n', categorical_cols)"
   ]
  },
  {
   "cell_type": "code",
   "execution_count": 36,
   "metadata": {},
   "outputs": [
    {
     "name": "stdout",
     "output_type": "stream",
     "text": [
      "make has 93 categories --> ['honda' 'ford' 'nissan' 'volkswagen' 'mitsubishi' 'renault' 'audi'\n",
      " 'daewoo' 'toyota' 'opel' 'chevrolet' 'mercedes-benz' 'lexus' 'bmw' 'gaz'\n",
      " 'volvo' 'jaguar' 'suzuki' 'lada-vaz' 'hyundai' 'citroen' 'alfa-romeo'\n",
      " 'mazda' 'land-rover' 'saab' 'kia' 'ssangyong' 'geely' 'fiat' 'peugeot'\n",
      " 'rover' 'skoda' 'seat' 'changan' 'cadillac' 'subaru' 'uaz' 'moskvich'\n",
      " 'lifan' 'chrysler' 'maserati' 'buick' 'infiniti' 'gmc' 'porsche' 'acura'\n",
      " 'pontiac' 'jeep' 'great-wall' 'zaz' 'smart' 'datsun' 'eksklyuziv' 'mini'\n",
      " 'luaz' 'roewe' 'proton' 'izh' 'dacia' 'daihatsu' 'chery' 'mg' 'hafei'\n",
      " 'lancia' 'raf' 'shanghai-maple' 'lincoln' 'isuzu' 'iran-khodro' 'scion'\n",
      " 'saturn' 'haval' 'ravon' 'tesla' 'plymouth' 'mercury' 'vortex' 'wartburg'\n",
      " 'aro' 'tata' 'zotye' 'saipa' 'oldsmobile' 'bentley' 'faw' 'jac' 'fso'\n",
      " 'dong-feng' 'bogdan' 'byd' 'aston-martin' 'tagaz' 'mclaren']\n",
      "--------------------------------------------------------------------------------\n",
      "model has 991 categories --> ['accord' 'fusion' 'teana' 'fox' 'primera' 'x-trail' 'galant' 'golf'\n",
      " 'passat' 'vel-satis' 'a6' 'matiz' 'land-cruiser' 'outlander' 'vectra'\n",
      " 'zafira' 'megane' 'lacetti' 'laguna' 'sharan' 'c-klass' 'rx' '7-seriya'\n",
      " '80' '5-seriya' 'omega' '21' 'xc70' 'epica' 'multivan' 'lancer' 'xj'\n",
      " 'fusion-usa' 'grand-vitara' 'clio' 'vesta' 'santa-fe' 'xc90' 's-klass'\n",
      " 'e-klass' 'c8' 'previa' '166' 'swift' 'b-klass' 'mpv' 'patrol'\n",
      " 'c4-grand-picasso' 'rc' 's80' 'range-rover' '3-seriya' 'touareg' '9-5'\n",
      " 'bluebird' 'touran' 'meriva' 'focus' '69' 'fit' 'soul' 'transporter'\n",
      " '626' '3' 'clarus' 'mokka' 'a4' 'viano' 'carisma' 'xsara' 'c3-picasso'\n",
      " 'civic' 'musso' 'emgrand-x7' 'astra' 'accent' 'duster' 'marea' '308'\n",
      " '100' 'c-max' '19' '306' 'sunny' '323' 'i40' 'shuma' 'hiace' 'q3'\n",
      " 'pajero' 'palio' 'c4' 'explorer' 'passat-cc' 'scenic' 'solaris' 'nubira'\n",
      " 'insignia' 'mondeo' 'polo' 'tt' 'i30' 'xf' 's40' 'cl' '600' '6' 'caddy'\n",
      " '307' '408' 'octavia' 'ibiza' 'note' '400' 'sorento' 'berlingo'\n",
      " 'polo-sedan' 'sx4' 'l200' '75' 'caravelle' 'signum' 'a8' 'sedici' 'x5'\n",
      " 'cs35' 'c4-picasso' 'fabia' 'x3' '406' '605' 'linea' 'aveo' 'escape' 'q7'\n",
      " '207' 'freelander' 'auris' 'avensis' 'partner' '3008' 'sonata' 'symbol'\n",
      " 'cr-v' 'corolla-verso' 'leon' 'escalade' 'forester' 'espace' '2106' 'c3'\n",
      " 'carens' 'a6-allroad' 's5' 'xsara-picasso' 'x6' '156' 'brava' 'rio' '469'\n",
      " 'a2' 'volt' 'm-klass' '607' 'niva' 'leganza' 'galaxy' '2140'\n",
      " 'range-rover-sport' 'almera-tino' 'ascona' 'tucson' 'xantia' 'kangoo'\n",
      " 'corolla' '2104' 'cx-5' 'r-klass' 'camry' 'myway' 'highlander' 'corsa'\n",
      " 'carina-e' 'prius' 'a-klass' 'voyager' 'cruze' 'gran-turismo' 's60'\n",
      " 'encore' '146' 'c5' 'q5' 'xc60' 's-type' 'golf-gti' '407' 'rav4' 'glc'\n",
      " 'vito' 'gl-klass' 'windstar' '2105' 'space-star' 'ecosport' 'cx-7'\n",
      " 'cordoba' 'punto' 'almera' '2108' 'fiesta' 'ulysse' 'm' 'pathfinder'\n",
      " 'c-elysee' 'grand-scenic' 'juke' 'cls' '2131-niva' 'dokker' 'terrano'\n",
      " 'jetta' 'phaeton' '159' 'pacifica' 'ka' 'a3' 'qashqai' 'qx60' 'vaneo'\n",
      " 'actyon' 'versa' '206' 'impreza' 'lupo' 'envoy' 'sandero' 'concorde'\n",
      " 'yaris' '21099' 'cx-9' 'rapid' 's-max' 'v40' '4runner' '208' '460'\n",
      " 'caddy-maxi' 'venga' 'cayenne' 'mdx' 'gle' 'superb' '190-w201' 'mb'\n",
      " 'qx70' 'shuttle' 'yeti' 'rexton' 'golf-plus' 'santamo' 'cts' '1-seriya'\n",
      " 'h-1-starex' 'serena' 'escort' 'navara' '2111' 'trax' 'clk' '9-3' 'verso'\n",
      " '6-seriya' '5008' 'v8' 'colt' 'getz' 'vibe' 'seicento' '806' 'murano'\n",
      " 'sienna' 'mk-cross' 'grand-c-max' '2110' 'space-wagon' '2101' 'evasion'\n",
      " 'safrane' 'sentra' '2109' 'alhambra' 'tribute' 'kuga' '200' 'spectra'\n",
      " '807' 'grand-cherokee' 'ceed' 'v70' 'lantra' 'citan' 'protege'\n",
      " 'transit-connect' '106' 'agila' 'safe' '2112' '2008' 'x5m' 'a5' 'cerato'\n",
      " 'c-crosser' 'colorado' 'kaptur' 'equinox' '2115' '405' '401' 'insight'\n",
      " '9000' 'pick-up' 'xedos-6' 'tiburon' 'twingo' 'leaf' 'vento'\n",
      " 'avensis-verso' '164' 'terracan' 'leone' 'bora' 'orion' 'felicia'\n",
      " 'patriot' 'cavalier' 'grand-voyager' 'matrix' 'eclipse' 'spark' 'fortwo'\n",
      " 'prairie' 'expert' 'equus' 'kalina' 'liberty' 'forenza' 'sportage'\n",
      " 'terrain' 'logan' 'pt-cruiser' 'combo' 'nexia' '25' 'mi-do' 'tiguan'\n",
      " 'espero' 'korando' 'croma' 'toledo' 'kyron' 'town-and-country' 'fluence'\n",
      " 'gs' 'trafic' 'tsx' '3000gt' 'scorpio' 's90' 'discovery' 'frontera'\n",
      " 'grand-espace' 'macan' 'antara' 'cougar' 'tourneo-connect' 'quest' '107'\n",
      " '323f' 'sintra' 'vezdehod' 'outback' 'cooper' 'florid' 'ix35' 'neon'\n",
      " 'asx' 'picanto' '2107' 'h60' '1302' 'sephia' '967' 'pointer' 'express'\n",
      " 'clio-rs' 'element' '750' 'maxima' '969' 'm5' 'persona' '3110' '4-seriya'\n",
      " 'a7' 'c2' '2715' 'g-klass' 'is' 'cherokee' 'captiva' 'qx50' 'cobalt'\n",
      " 'transit-custom' 'legend' 'qashqai-2' 'legacy' 'fx' 'passat-usa' 'chance'\n",
      " 'nemo' 'i3' '45' 'cla' 'es' 'contour' 'z3' 'mohave' 'jumpy' 'splash'\n",
      " 'galloper' '2-seriya-active-tourer' 'pajero-sport' 'koleos' 'malibu'\n",
      " 'sierra' 'feroza' 'tiggo' '24' 'micra' 'beetle' 'panda' 'aygo' 'lodgy'\n",
      " '2102' '1102-tavriya' 'liana' 'g' 'glk' 'ds5' 'tahoe' 'sirion' 'camaro'\n",
      " 'retro' 'uno' 'premacy' '11' 'xray' '31105' 'mk' 'de-ville' 'q30'\n",
      " 'granta' 'scudo' 'largus' 'lobo' '147' 'i20' 'roomster' 'renegade'\n",
      " 'picnic' 'delta' 'coupe' 'carina' 'xterra' '440' 'retona' 'c6' 'avtodom'\n",
      " 'hilux' 'rogue' 'land-cruiser-prado' 'rodius' 'tiida' 'stilo' 'tacuma'\n",
      " 'hover' 'x1' 'probe' 'altea' '2121-niva' 'hover-h3' 'lybra' 'cls-amg'\n",
      " 'trajet' 'sebring' 'solano' '2' 'sigma' 'kadjar' 'carry' 'volga-siber'\n",
      " 'millenia' 'm3' 'i8' 'trailblazer' '740' 'm6' 'tempra' '5' 'odyssey'\n",
      " 'creta' 'maverick' 'blazer' 'vision' 'ssr' '2203' '911' '940' 'x70'\n",
      " 'xedos-9' 'x50' 'elantra' 'justy' 'doblo' 'traveller' 'range-rover-velar'\n",
      " 'hr-v' 'multipla' 'kadett' 'grandis' 'mustang' 'ex' '2113' 'hover-h5'\n",
      " 'v60' 'on-do' '121' 'campo' '31' 'gls' 'montero' 'tl' 'fr-v' 'emgrand-7'\n",
      " 'a13' 'rsx' 'ls' 'v50' 'srx' 'altima' 'panamera' '968' 'lanos' 'nx' 'x6m'\n",
      " 'x7' 'lumina' 'carnival' '2-seriya-gran-tourer' '2103' 'bx' 'econoline'\n",
      " 'talisman' 'sequoia' 'qq' '2141' 'discovery-sport' '31029' 's6' 'paceman'\n",
      " 'sc7' 'tundra' 'rezzo' 'iq' 'c81' 'ds4' 'x2' 'wrangler' 'gla-amg' 'mkc'\n",
      " 'lx' 'defender' 'echo' 'atlas' 'camry-solara' 'midi' 'bravo' 'optima'\n",
      " 'trooper' 'qx56' 'range-rover-evoque' 'cirrus' 'vivaro' 'pride' 'venza'\n",
      " 'celica' 'baleno' 'paseo' 'space-runner' 'm-20-pobeda' '2206' 'venture'\n",
      " 'rl' 'compass' 'v-klass' '508' '452' '2-seriya' '965' 'mirage' 'atos'\n",
      " '301' 'excursion' '300m' 'xv' '145' 'zdx' 'i10' 'sc' 'clubman' 'fora'\n",
      " 'xc40' 'prius-v-plus' 'xm' 'montero-sport' 'talento' '90' 'samand'\n",
      " 'e-klass-amg' 'space-gear' 'golf-r32' 'dedra' 'tourneo-courier' '300s'\n",
      " 'rx-8' 'kodiaq' 'zeta' 'cr-z' '240-series' 'town-car' 'hover-m4' 's8'\n",
      " 'bipper' 'gx' 'orlando' 'xe' 'x4' 'mkz' 'c70' 'delica' 'tc' 'rekord'\n",
      " 'pajero-pinin' 'm-klass-amg' 'amulet' 'taurus' 'quoris' 'gl-klass-amg'\n",
      " 'vue' 'vanette' 'up' 'ct' '850' 'lancer-evolution' '800' 'ignis'\n",
      " 'continental' 'tipo' 'eclipse-cross' '300-series' 'eldorado' 'edge' 'h9'\n",
      " 'lhs' 'jimmy' 'bt-50' 'besta' '3909' 'ck' 'tourneo-custom' 'granada'\n",
      " 'enclave' 'gle-coupe' 'scenic-rx4' 'v90' 'rdx' 'hunter' 'd-max' '2717'\n",
      " 'almera-classic' '500l' '205' 'catera' 'libero' 'pixo' 'g-klass-amg'\n",
      " 'freestyle' 'amarok' 'countryman' 'intrepid' 'nexia-r3' 'stratus'\n",
      " 'gle-coupe-amg' 'grande-punto' 'forte' '3111' 'a1' 'ix55' 'model-s' 'slk'\n",
      " 'istana' 'centennial' 'f-type' 'courier' 'joice' '100nx' 'lite-ace'\n",
      " 'gentra' 'grandeur' 'c4-cactus' 'silverado' '550' 'sts' 'f-150'\n",
      " '2363-pikap' '403' 'punto-evo' 'latitude' 'glc-coupe' 'quattroporte' 'r4'\n",
      " 'cebrium' 'kappa' 'eos' '2125' 'tigra' 'elr' 'thesis' 'cx-3' 'sable'\n",
      " 'yaris-verso' 'concerto' 's-coupe' 'baggi' 'prius-c' 'monterey' 'tingo'\n",
      " 'teramont' 'sl' 'vitara' 'tiggo-2' 'xl-7' 'lc-cross' 'regata' 'verso-s'\n",
      " 'move' 'tlx' 'pilot' 'demio' 'breez' 'actyon-sports' 'primastar'\n",
      " 's-klass-amg' 'cuore' '353' 'phedra' 'wagon-r' 'tiggo-5' 'arosa' '9'\n",
      " 'f-350' 'kizashi' 'c1' 'gt' 'albea' '760' 'kart' 'tts' '9-7x' 'cube'\n",
      " '500' 'ridgeline' 'cla-amg' 'sunbird' 'jazz' 'roadster' 'grand-santa-fe'\n",
      " 'ypsilon' '402' 's70' 'scirocco' 'gla' 'freemont' 'b-max'\n",
      " 'golf-sportsvan' 'f-pace' 'aspen' 'voennaya-tehnika' 'safari' 'mx-6'\n",
      " 't600' 'forfour' 'rodeo' 'avalanche' '410' 'astro' 's4' '1007' 'alphard'\n",
      " 'thunderbird' 'kalos' 'estina' 'gtv' 'clc' 'pregio' 'tiba' 'econovan'\n",
      " 'mx-3' 'xg' '88' '309' 's7' 'a4-allroad' 'equator' '929' 'forman' 'baja'\n",
      " 'ilx' 'santana' 'arrizo-7' '924' 'redkaya-model' 'alto' 'aerio' 'deer'\n",
      " 'endeavor' 'forza' 'gran-move' 'sl-amg' 'trezia' 'mulsanne' 'ds3' 'yrv'\n",
      " 'malaga' '900' 'a-klass-amg' 'x-90' 'mark-ii' 'rs6' 'materia' 'qq6'\n",
      " 'samodelnyj' 'model-x' 'besturn-b50' 'golf-r' 'rendezvous' 'c30' 'sport'\n",
      " '505' 'hatch' 'kimo' 'hhr' 'cl-amg' 'crosstour' 'cherry' 'musa' 'savana'\n",
      " 'bentayga' 'refine' 'favorit' 'lacrosse' 'commander' 'mr2' 'q50' 'sens'\n",
      " 'ion' 'le-baron' '67' 'r2' 'exeo' 'maybach' 'streetwise' 'cosmo'\n",
      " 'fortuner' 'tribeca' 'stream' '1103-slavuta' 'aztek' 'avella' 'mariner'\n",
      " 'crossfire' 'simbo' 'ranger' 'verona' 'focus-st' 'tuscani' 'cayman' 'q70'\n",
      " 'saxo' 'qx4' 'c4-aircross' 'wrx' 'suburban' 'festiva' 'corrado' 'gt-r'\n",
      " 'terios' 'continental-gt' 'riviera' 'grace' 'ix20' 'urban-cruiser' 'qx80'\n",
      " '2120-nadezhda' 'peri' 'syrena' 'hs' 'genesis' 'sedona' 'bls'\n",
      " 'continental-flying-spur' 'ax7' 'pulsar' 'qubo' '2310' 'acadia' 'xt5'\n",
      " 'idea' 'passat-alltrack' 'evanda' 'z4' 'xb' 'expedition' 'captur' 'z300'\n",
      " 'giulietta' 'applause' 'firebird' 'armada' 'manta' 'f3' 'bongo' 'l300'\n",
      " 'mx-5' 'siena' '1300' '108' 'nv1500' 'mystique' 'dbs' 'ax' 'seville'\n",
      " 'rs3' 'smily' 'uplander' 'e-pace' '2138' '9-2x' 'cabrio' 'breeze' 'regal'\n",
      " 'levante' 'citigo' 'a19' '200sx' 'tager' '412' 'h2' 'scenic-xmod'\n",
      " 'starlet' '350' 'achieva' 'spacetourer' 'bonneville' 'tracker' 'laurel'\n",
      " 'fc-vision' 'vivio' 'xa' 'cinquecento' 'q8' 'rs5' '3102' 'mark-vii'\n",
      " 'thema' '180' 'voleex-c30' 'rs7' 'montego' 'mp4-12c']\n",
      "--------------------------------------------------------------------------------\n",
      "condition has 3 categories --> ['with mileage' 'with damage' 'for parts']\n",
      "--------------------------------------------------------------------------------\n",
      "fuel_type has 3 categories --> ['petrol' 'diesel' 'electrocar']\n",
      "--------------------------------------------------------------------------------\n",
      "color has 13 categories --> ['black' 'silver' 'purple' 'blue' 'burgundy' 'green' 'gray' 'white'\n",
      " 'other' 'red' 'brown' 'orange' 'yellow']\n",
      "--------------------------------------------------------------------------------\n",
      "transmission has 2 categories --> ['mechanics' 'auto']\n",
      "--------------------------------------------------------------------------------\n",
      "drive_unit has 4 categories --> ['front-wheel drive' 'all-wheel drive' 'part-time four-wheel drive'\n",
      " 'rear drive']\n",
      "--------------------------------------------------------------------------------\n",
      "segment has 9 categories --> ['D' 'M' 'A' 'J' 'C' 'E' 'F' 'B' 'S']\n",
      "--------------------------------------------------------------------------------\n"
     ]
    }
   ],
   "source": [
    "# check the number of unique value in each columns\n",
    "for cols in categorical_cols:\n",
    "    print('{} has {} categories --> {}'.format(cols, len(car_df[cols].unique()), car_df[cols].unique()))\n",
    "    print('--'*40)"
   ]
  },
  {
   "cell_type": "code",
   "execution_count": 37,
   "metadata": {},
   "outputs": [
    {
     "data": {
      "image/png": "[encoded data removed]",
      "text/plain": [
       "<Figure size 432x288 with 1 Axes>"
      ]
     },
     "metadata": {
      "needs_background": "light"
     },
     "output_type": "display_data"
    },
    {
     "data": {
      "image/png": "[encoded data removed]",
      "text/plain": [
       "<Figure size 432x288 with 1 Axes>"
      ]
     },
     "metadata": {
      "needs_background": "light"
     },
     "output_type": "display_data"
    },
    {
     "data": {
      "image/png": "[encoded data removed]",
      "text/plain": [
       "<Figure size 432x288 with 1 Axes>"
      ]
     },
     "metadata": {
      "needs_background": "light"
     },
     "output_type": "display_data"
    },
    {
     "data": {
      "image/png": "[encoded data removed]",
      "text/plain": [
       "<Figure size 432x288 with 1 Axes>"
      ]
     },
     "metadata": {
      "needs_background": "light"
     },
     "output_type": "display_data"
    },
    {
     "data": {
      "image/png": "[encoded data removed]",
      "text/plain": [
       "<Figure size 432x288 with 1 Axes>"
      ]
     },
     "metadata": {
      "needs_background": "light"
     },
     "output_type": "display_data"
    },
    {
     "data": {
      "image/png": "[encoded data removed]",
      "text/plain": [
       "<Figure size 432x288 with 1 Axes>"
      ]
     },
     "metadata": {
      "needs_background": "light"
     },
     "output_type": "display_data"
    },
    {
     "data": {
      "image/png": "[encoded data removed]",
      "text/plain": [
       "<Figure size 432x288 with 1 Axes>"
      ]
     },
     "metadata": {
      "needs_background": "light"
     },
     "output_type": "display_data"
    },
    {
     "data": {
      "image/png": "[encoded data removed]",
      "text/plain": [
       "<Figure size 432x288 with 1 Axes>"
      ]
     },
     "metadata": {
      "needs_background": "light"
     },
     "output_type": "display_data"
    }
   ],
   "source": [
    "# Find out the relationship between categorical variable and dependent feature Price\n",
    "\n",
    "for cols in categorical_cols:\n",
    "    car_df_copy = car_df.copy(deep=True)\n",
    "    \n",
    "    car_df_copy.groupby(cols)['price'].median().plot.bar()\n",
    "    plt.ylabel('Price')\n",
    "    plt.title(cols)\n",
    "    plt.show()"
   ]
  },
  {
   "cell_type": "markdown",
   "metadata": {},
   "source": [
    "Observation:\n",
    "- We have seen that some of the car maker like mecleran, tesla, bentley are very expensive\n",
    "- car with high mileage are expensive\n",
    "- Electro car are costly and petrol car are cheap\n",
    "- Most favourable car color are brown, white, black\n",
    "- Automatic, all-four-wheel drive car are costly\n",
    "- Segment A is econimical and J,S are costly"
   ]
  },
  {
   "cell_type": "code",
   "execution_count": 38,
   "metadata": {},
   "outputs": [
    {
     "data": {
      "image/png": "[encoded data removed]",
      "text/plain": [
       "<Figure size 432x288 with 1 Axes>"
      ]
     },
     "metadata": {
      "needs_background": "light"
     },
     "output_type": "display_data"
    }
   ],
   "source": [
    "# Find out the relationship between mileage and Price\n",
    "\n",
    "brand_of_car = car_df.groupby('mileage')['price'].count().reset_index().sort_values('price',ascending = False)\n",
    "sns.scatterplot(data=brand_of_car, x='mileage', y='price')\n",
    "plt.show()"
   ]
  },
  {
   "cell_type": "markdown",
   "metadata": {},
   "source": [
    "Observation:\n",
    "- some car give low mileage and cost more\n",
    "- Most of the care are low milege and low cost"
   ]
  },
  {
   "cell_type": "code",
   "execution_count": 39,
   "metadata": {},
   "outputs": [
    {
     "data": {
      "text/plain": [
       "<matplotlib.axes._subplots.AxesSubplot at 0x2913bb6d8c8>"
      ]
     },
     "execution_count": 39,
     "metadata": {},
     "output_type": "execute_result"
    },
    {
     "data": {
      "image/png": "[encoded data removed]",
      "text/plain": [
       "<Figure size 1440x576 with 1 Axes>"
      ]
     },
     "metadata": {
      "needs_background": "light"
     },
     "output_type": "display_data"
    }
   ],
   "source": [
    "plt.figure(figsize=(20,8))\n",
    "sorted_nb = car_df.groupby('make')['price'].mean().sort_values(ascending=False).head(20)\n",
    "sns.boxplot(x=car_df['make'], y=car_df['price'], order=list(sorted_nb.index))"
   ]
  },
  {
   "cell_type": "markdown",
   "metadata": {},
   "source": [
    "Observation:\n",
    "-  car brand like mclaren, bentley, aston-martin, tesla are very costly"
   ]
  },
  {
   "cell_type": "markdown",
   "metadata": {},
   "source": [
    "## Outliers"
   ]
  },
  {
   "cell_type": "code",
   "execution_count": 40,
   "metadata": {},
   "outputs": [
    {
     "data": {
      "image/png": "[encoded data removed]",
      "text/plain": [
       "<Figure size 432x288 with 1 Axes>"
      ]
     },
     "metadata": {
      "needs_background": "light"
     },
     "output_type": "display_data"
    },
    {
     "data": {
      "image/png": "[encoded data removed]",
      "text/plain": [
       "<Figure size 432x288 with 1 Axes>"
      ]
     },
     "metadata": {
      "needs_background": "light"
     },
     "output_type": "display_data"
    }
   ],
   "source": [
    "# vislualize the outliers\n",
    "\n",
    "for cols in continuous_cols:\n",
    "    car_df_copy = car_df.copy(deep=True)\n",
    "    \n",
    "    if 0 in car_df_copy[cols].unique():\n",
    "        pass\n",
    "    else:\n",
    "        car_df_copy[cols]= np.log(car_df_copy[cols])\n",
    "        sns.boxplot(car_df_copy[cols])\n",
    "        plt.show()"
   ]
  },
  {
   "cell_type": "markdown",
   "metadata": {},
   "source": [
    "## z-score (statistical method) "
   ]
  },
  {
   "cell_type": "code",
   "execution_count": 41,
   "metadata": {},
   "outputs": [
    {
     "name": "stdout",
     "output_type": "stream",
     "text": [
      "[[0.82337134 2.26265667 0.1099808 ]\n",
      " [0.22551603 0.22555528 0.74939368]\n",
      " [0.10429382 0.06451924 0.42286327]\n",
      " ...\n",
      " [0.41140886 0.76865719 0.10315683]\n",
      " [0.74721525 0.02073513 0.8559625 ]\n",
      " [0.80190372 0.09128785 0.11317787]]\n"
     ]
    }
   ],
   "source": [
    "# calculate z score\n",
    "z = np.abs(stats.zscore(car_df[continuous_cols]))\n",
    "\n",
    "print(z)"
   ]
  },
  {
   "cell_type": "code",
   "execution_count": 42,
   "metadata": {},
   "outputs": [
    {
     "name": "stdout",
     "output_type": "stream",
     "text": [
      "(array([   12,    34,    42, ..., 39959, 39974, 39974], dtype=int64), array([0, 2, 0, ..., 0, 0, 2], dtype=int64))\n"
     ]
    }
   ],
   "source": [
    "# any data point with z-score greater then 3 is an outlier\n",
    "\n",
    "threshold = 3\n",
    "print(np.where(z>3))"
   ]
  },
  {
   "cell_type": "code",
   "execution_count": 43,
   "metadata": {},
   "outputs": [
    {
     "name": "stdout",
     "output_type": "stream",
     "text": [
      "1.6872275583738348\n",
      "0.10998080201335962\n"
     ]
    }
   ],
   "source": [
    "# Take random data (55 is the row no and 1 is the column no )\n",
    "\n",
    "print(z[55][1])\n",
    "print(z[245][2])"
   ]
  },
  {
   "cell_type": "markdown",
   "metadata": {},
   "source": [
    "## Remove outlier (z-score)"
   ]
  },
  {
   "cell_type": "code",
   "execution_count": 44,
   "metadata": {},
   "outputs": [],
   "source": [
    "new_df = car_df[(z < 3).all(axis=1)]"
   ]
  },
  {
   "cell_type": "code",
   "execution_count": 45,
   "metadata": {},
   "outputs": [
    {
     "data": {
      "text/plain": [
       "((40000, 12), (38804, 12))"
      ]
     },
     "execution_count": 45,
     "metadata": {},
     "output_type": "execute_result"
    }
   ],
   "source": [
    "# check the shape of new and old df\n",
    "\n",
    "car_df.shape, new_df.shape"
   ]
  },
  {
   "cell_type": "markdown",
   "metadata": {},
   "source": [
    "## Dependent and indpendent variable"
   ]
  },
  {
   "cell_type": "code",
   "execution_count": 46,
   "metadata": {},
   "outputs": [],
   "source": [
    "x = new_df.drop('price', axis=1)\n",
    "y = new_df['price']"
   ]
  },
  {
   "cell_type": "markdown",
   "metadata": {},
   "source": [
    "## Encoding\n",
    "We will use label encoding to encode the data"
   ]
  },
  {
   "cell_type": "code",
   "execution_count": 47,
   "metadata": {},
   "outputs": [
    {
     "data": {
      "text/html": [
       "<div>\n",
       "<style scoped>\n",
       "    .dataframe tbody tr th:only-of-type {\n",
       "        vertical-align: middle;\n",
       "    }\n",
       "\n",
       "    .dataframe tbody tr th {\n",
       "        vertical-align: top;\n",
       "    }\n",
       "\n",
       "    .dataframe thead th {\n",
       "        text-align: right;\n",
       "    }\n",
       "</style>\n",
       "<table border=\"1\" class=\"dataframe\">\n",
       "  <thead>\n",
       "    <tr style=\"text-align: right;\">\n",
       "      <th></th>\n",
       "      <th>make</th>\n",
       "      <th>model</th>\n",
       "      <th>year</th>\n",
       "      <th>condition</th>\n",
       "      <th>mileage</th>\n",
       "      <th>fuel_type</th>\n",
       "      <th>volume</th>\n",
       "      <th>color</th>\n",
       "      <th>transmission</th>\n",
       "      <th>drive_unit</th>\n",
       "      <th>segment</th>\n",
       "    </tr>\n",
       "  </thead>\n",
       "  <tbody>\n",
       "    <tr>\n",
       "      <th>0</th>\n",
       "      <td>30</td>\n",
       "      <td>165</td>\n",
       "      <td>45</td>\n",
       "      <td>2</td>\n",
       "      <td>6104</td>\n",
       "      <td>2</td>\n",
       "      <td>203</td>\n",
       "      <td>0</td>\n",
       "      <td>1</td>\n",
       "      <td>1</td>\n",
       "      <td>3</td>\n",
       "    </tr>\n",
       "    <tr>\n",
       "      <th>1</th>\n",
       "      <td>22</td>\n",
       "      <td>405</td>\n",
       "      <td>60</td>\n",
       "      <td>2</td>\n",
       "      <td>2463</td>\n",
       "      <td>0</td>\n",
       "      <td>78</td>\n",
       "      <td>10</td>\n",
       "      <td>1</td>\n",
       "      <td>1</td>\n",
       "      <td>7</td>\n",
       "    </tr>\n",
       "    <tr>\n",
       "      <th>2</th>\n",
       "      <td>55</td>\n",
       "      <td>798</td>\n",
       "      <td>60</td>\n",
       "      <td>2</td>\n",
       "      <td>3216</td>\n",
       "      <td>2</td>\n",
       "      <td>274</td>\n",
       "      <td>8</td>\n",
       "      <td>0</td>\n",
       "      <td>1</td>\n",
       "      <td>3</td>\n",
       "    </tr>\n",
       "    <tr>\n",
       "      <th>3</th>\n",
       "      <td>83</td>\n",
       "      <td>399</td>\n",
       "      <td>57</td>\n",
       "      <td>2</td>\n",
       "      <td>2028</td>\n",
       "      <td>2</td>\n",
       "      <td>27</td>\n",
       "      <td>1</td>\n",
       "      <td>1</td>\n",
       "      <td>1</td>\n",
       "      <td>0</td>\n",
       "    </tr>\n",
       "    <tr>\n",
       "      <th>4</th>\n",
       "      <td>55</td>\n",
       "      <td>643</td>\n",
       "      <td>54</td>\n",
       "      <td>1</td>\n",
       "      <td>5579</td>\n",
       "      <td>0</td>\n",
       "      <td>228</td>\n",
       "      <td>3</td>\n",
       "      <td>1</td>\n",
       "      <td>1</td>\n",
       "      <td>3</td>\n",
       "    </tr>\n",
       "  </tbody>\n",
       "</table>\n",
       "</div>"
      ],
      "text/plain": [
       "   make  model  year  condition  mileage  fuel_type  volume  color  \\\n",
       "0    30    165    45          2     6104          2     203      0   \n",
       "1    22    405    60          2     2463          0      78     10   \n",
       "2    55    798    60          2     3216          2     274      8   \n",
       "3    83    399    57          2     2028          2      27      1   \n",
       "4    55    643    54          1     5579          0     228      3   \n",
       "\n",
       "   transmission  drive_unit  segment  \n",
       "0             1           1        3  \n",
       "1             1           1        7  \n",
       "2             0           1        3  \n",
       "3             1           1        0  \n",
       "4             1           1        3  "
      ]
     },
     "execution_count": 47,
     "metadata": {},
     "output_type": "execute_result"
    }
   ],
   "source": [
    "x = x.apply(LabelEncoder().fit_transform)\n",
    "\n",
    "x.head()"
   ]
  },
  {
   "cell_type": "markdown",
   "metadata": {},
   "source": [
    "## Train test split"
   ]
  },
  {
   "cell_type": "code",
   "execution_count": 48,
   "metadata": {},
   "outputs": [
    {
     "data": {
      "text/plain": [
       "((31043, 11), (7761, 11), (31043,), (7761,))"
      ]
     },
     "execution_count": 48,
     "metadata": {},
     "output_type": "execute_result"
    }
   ],
   "source": [
    "x_train, x_test, y_train, y_test = train_test_split(x, y, test_size = 0.2, random_state = 0)\n",
    "\n",
    "x_train.shape, x_test.shape, y_train.shape, y_test.shape"
   ]
  },
  {
   "cell_type": "markdown",
   "metadata": {},
   "source": [
    "## Feature Scaling"
   ]
  },
  {
   "cell_type": "code",
   "execution_count": 49,
   "metadata": {},
   "outputs": [
    {
     "name": "stderr",
     "output_type": "stream",
     "text": [
      "C:\\Users\\Benai\\anaconda3\\lib\\site-packages\\ipykernel_launcher.py:1: SettingWithCopyWarning: \n",
      "A value is trying to be set on a copy of a slice from a DataFrame.\n",
      "Try using .loc[row_indexer,col_indexer] = value instead\n",
      "\n",
      "See the caveats in the documentation: http://pandas.pydata.org/pandas-docs/stable/user_guide/indexing.html#returning-a-view-versus-a-copy\n",
      "  \"\"\"Entry point for launching an IPython kernel.\n"
     ]
    }
   ],
   "source": [
    "x_train['mileage'] = MinMaxScaler().fit_transform(x_train[['mileage']])"
   ]
  },
  {
   "cell_type": "code",
   "execution_count": 50,
   "metadata": {},
   "outputs": [
    {
     "data": {
      "text/html": [
       "<div>\n",
       "<style scoped>\n",
       "    .dataframe tbody tr th:only-of-type {\n",
       "        vertical-align: middle;\n",
       "    }\n",
       "\n",
       "    .dataframe tbody tr th {\n",
       "        vertical-align: top;\n",
       "    }\n",
       "\n",
       "    .dataframe thead th {\n",
       "        text-align: right;\n",
       "    }\n",
       "</style>\n",
       "<table border=\"1\" class=\"dataframe\">\n",
       "  <thead>\n",
       "    <tr style=\"text-align: right;\">\n",
       "      <th></th>\n",
       "      <th>make</th>\n",
       "      <th>model</th>\n",
       "      <th>year</th>\n",
       "      <th>condition</th>\n",
       "      <th>mileage</th>\n",
       "      <th>fuel_type</th>\n",
       "      <th>volume</th>\n",
       "      <th>color</th>\n",
       "      <th>transmission</th>\n",
       "      <th>drive_unit</th>\n",
       "      <th>segment</th>\n",
       "    </tr>\n",
       "  </thead>\n",
       "  <tbody>\n",
       "    <tr>\n",
       "      <th>10175</th>\n",
       "      <td>22</td>\n",
       "      <td>228</td>\n",
       "      <td>56</td>\n",
       "      <td>2</td>\n",
       "      <td>0.433901</td>\n",
       "      <td>2</td>\n",
       "      <td>155</td>\n",
       "      <td>0</td>\n",
       "      <td>1</td>\n",
       "      <td>1</td>\n",
       "      <td>7</td>\n",
       "    </tr>\n",
       "    <tr>\n",
       "      <th>12588</th>\n",
       "      <td>39</td>\n",
       "      <td>264</td>\n",
       "      <td>66</td>\n",
       "      <td>2</td>\n",
       "      <td>0.334424</td>\n",
       "      <td>2</td>\n",
       "      <td>78</td>\n",
       "      <td>7</td>\n",
       "      <td>1</td>\n",
       "      <td>1</td>\n",
       "      <td>2</td>\n",
       "    </tr>\n",
       "    <tr>\n",
       "      <th>26249</th>\n",
       "      <td>81</td>\n",
       "      <td>921</td>\n",
       "      <td>60</td>\n",
       "      <td>2</td>\n",
       "      <td>0.486420</td>\n",
       "      <td>2</td>\n",
       "      <td>49</td>\n",
       "      <td>0</td>\n",
       "      <td>1</td>\n",
       "      <td>1</td>\n",
       "      <td>1</td>\n",
       "    </tr>\n",
       "    <tr>\n",
       "      <th>178</th>\n",
       "      <td>21</td>\n",
       "      <td>740</td>\n",
       "      <td>60</td>\n",
       "      <td>2</td>\n",
       "      <td>0.292703</td>\n",
       "      <td>2</td>\n",
       "      <td>116</td>\n",
       "      <td>7</td>\n",
       "      <td>1</td>\n",
       "      <td>2</td>\n",
       "      <td>3</td>\n",
       "    </tr>\n",
       "    <tr>\n",
       "      <th>36317</th>\n",
       "      <td>3</td>\n",
       "      <td>162</td>\n",
       "      <td>60</td>\n",
       "      <td>2</td>\n",
       "      <td>0.463842</td>\n",
       "      <td>2</td>\n",
       "      <td>328</td>\n",
       "      <td>0</td>\n",
       "      <td>0</td>\n",
       "      <td>0</td>\n",
       "      <td>5</td>\n",
       "    </tr>\n",
       "  </tbody>\n",
       "</table>\n",
       "</div>"
      ],
      "text/plain": [
       "       make  model  year  condition   mileage  fuel_type  volume  color  \\\n",
       "10175    22    228    56          2  0.433901          2     155      0   \n",
       "12588    39    264    66          2  0.334424          2      78      7   \n",
       "26249    81    921    60          2  0.486420          2      49      0   \n",
       "178      21    740    60          2  0.292703          2     116      7   \n",
       "36317     3    162    60          2  0.463842          2     328      0   \n",
       "\n",
       "       transmission  drive_unit  segment  \n",
       "10175             1           1        7  \n",
       "12588             1           1        2  \n",
       "26249             1           1        1  \n",
       "178               1           2        3  \n",
       "36317             0           0        5  "
      ]
     },
     "execution_count": 50,
     "metadata": {},
     "output_type": "execute_result"
    }
   ],
   "source": [
    "x_train.head()"
   ]
  },
  {
   "cell_type": "markdown",
   "metadata": {},
   "source": [
    "## Statistical analysis"
   ]
  },
  {
   "cell_type": "code",
   "execution_count": 51,
   "metadata": {},
   "outputs": [
    {
     "data": {
      "text/plain": [
       "Ttest_indResult(statistic=341.9984352926145, pvalue=0.0)"
      ]
     },
     "execution_count": 51,
     "metadata": {},
     "output_type": "execute_result"
    }
   ],
   "source": [
    "# T-test\n",
    "\n",
    "stats.ttest_ind(new_df['mileage'], new_df['volume'])"
   ]
  },
  {
   "cell_type": "markdown",
   "metadata": {},
   "source": [
    "Got very large t-score shows that there is no relationship between the two"
   ]
  },
  {
   "cell_type": "code",
   "execution_count": 52,
   "metadata": {},
   "outputs": [
    {
     "name": "stdout",
     "output_type": "stream",
     "text": [
      "Before feature selection --> 11\n",
      "After feature selection ---> 10\n",
      "\n",
      "Selected features ----> Index(['make', 'model', 'year', 'mileage', 'fuel_type', 'volume', 'color',\n",
      "       'transmission', 'drive_unit', 'segment'],\n",
      "      dtype='object')\n"
     ]
    }
   ],
   "source": [
    "# only  categorical variable\n",
    "from sklearn.feature_selection import SelectKBest, chi2\n",
    "\n",
    "cs_feature = SelectKBest(chi2,  k=10).fit(x, y)\n",
    "\n",
    "final_cs_feature = x.columns[cs_feature.get_support()]\n",
    "\n",
    "print('Before feature selection -->', x.shape[1])\n",
    "print('After feature selection --->',final_cs_feature.shape[0])\n",
    "print('\\nSelected features ---->',final_cs_feature)"
   ]
  },
  {
   "cell_type": "code",
   "execution_count": 53,
   "metadata": {},
   "outputs": [
    {
     "data": {
      "text/plain": [
       "<matplotlib.axes._subplots.AxesSubplot at 0x2913cfe0f08>"
      ]
     },
     "execution_count": 53,
     "metadata": {},
     "output_type": "execute_result"
    },
    {
     "data": {
      "image/png": "[encoded data removed]",
      "text/plain": [
       "<Figure size 432x288 with 2 Axes>"
      ]
     },
     "metadata": {
      "needs_background": "light"
     },
     "output_type": "display_data"
    }
   ],
   "source": [
    "# correlation\n",
    "\n",
    "sns.heatmap(new_df.corr(), annot=True, linewidths=.5, fmt= '.1f')"
   ]
  },
  {
   "cell_type": "markdown",
   "metadata": {},
   "source": [
    "Observation:\n",
    "- price and mileage have a week negative relationship  same case with the year and mileage\n",
    "- non of the feature have strong linear relationship"
   ]
  },
  {
   "cell_type": "code",
   "execution_count": 54,
   "metadata": {},
   "outputs": [
    {
     "name": "stdout",
     "output_type": "stream",
     "text": [
      "p value is 0.0\n",
      "Dependent (reject H0)\n"
     ]
    }
   ],
   "source": [
    "# It will return test statistics, p-value, degree of freedom and expected values.\n",
    "\n",
    "stat, p, dof, expected = stats.chi2_contingency(x)\n",
    "\n",
    "# interpret p-value \n",
    "alpha = 0.05\n",
    "print(\"p value is \" + str(p)) \n",
    "if p <= alpha: \n",
    "    print('Dependent (reject H0)') \n",
    "else: \n",
    "    print('Independent (H0 holds true)') "
   ]
  },
  {
   "cell_type": "markdown",
   "metadata": {},
   "source": [
    "## Feature selection"
   ]
  },
  {
   "cell_type": "code",
   "execution_count": 55,
   "metadata": {},
   "outputs": [
    {
     "data": {
      "text/html": [
       "<div>\n",
       "<style scoped>\n",
       "    .dataframe tbody tr th:only-of-type {\n",
       "        vertical-align: middle;\n",
       "    }\n",
       "\n",
       "    .dataframe tbody tr th {\n",
       "        vertical-align: top;\n",
       "    }\n",
       "\n",
       "    .dataframe thead th {\n",
       "        text-align: right;\n",
       "    }\n",
       "</style>\n",
       "<table border=\"1\" class=\"dataframe\">\n",
       "  <thead>\n",
       "    <tr style=\"text-align: right;\">\n",
       "      <th></th>\n",
       "      <th>Features</th>\n",
       "      <th>Importances</th>\n",
       "    </tr>\n",
       "  </thead>\n",
       "  <tbody>\n",
       "    <tr>\n",
       "      <th>4</th>\n",
       "      <td>mileage</td>\n",
       "      <td>0.350725</td>\n",
       "    </tr>\n",
       "    <tr>\n",
       "      <th>7</th>\n",
       "      <td>color</td>\n",
       "      <td>0.169402</td>\n",
       "    </tr>\n",
       "    <tr>\n",
       "      <th>1</th>\n",
       "      <td>model</td>\n",
       "      <td>0.101474</td>\n",
       "    </tr>\n",
       "    <tr>\n",
       "      <th>2</th>\n",
       "      <td>year</td>\n",
       "      <td>0.094303</td>\n",
       "    </tr>\n",
       "    <tr>\n",
       "      <th>6</th>\n",
       "      <td>volume</td>\n",
       "      <td>0.087386</td>\n",
       "    </tr>\n",
       "    <tr>\n",
       "      <th>0</th>\n",
       "      <td>make</td>\n",
       "      <td>0.070684</td>\n",
       "    </tr>\n",
       "    <tr>\n",
       "      <th>10</th>\n",
       "      <td>segment</td>\n",
       "      <td>0.032750</td>\n",
       "    </tr>\n",
       "    <tr>\n",
       "      <th>8</th>\n",
       "      <td>transmission</td>\n",
       "      <td>0.031441</td>\n",
       "    </tr>\n",
       "    <tr>\n",
       "      <th>5</th>\n",
       "      <td>fuel_type</td>\n",
       "      <td>0.030299</td>\n",
       "    </tr>\n",
       "    <tr>\n",
       "      <th>9</th>\n",
       "      <td>drive_unit</td>\n",
       "      <td>0.028090</td>\n",
       "    </tr>\n",
       "    <tr>\n",
       "      <th>3</th>\n",
       "      <td>condition</td>\n",
       "      <td>0.003447</td>\n",
       "    </tr>\n",
       "  </tbody>\n",
       "</table>\n",
       "</div>"
      ],
      "text/plain": [
       "        Features  Importances\n",
       "4        mileage     0.350725\n",
       "7          color     0.169402\n",
       "1          model     0.101474\n",
       "2           year     0.094303\n",
       "6         volume     0.087386\n",
       "0           make     0.070684\n",
       "10       segment     0.032750\n",
       "8   transmission     0.031441\n",
       "5      fuel_type     0.030299\n",
       "9     drive_unit     0.028090\n",
       "3      condition     0.003447"
      ]
     },
     "execution_count": 55,
     "metadata": {},
     "output_type": "execute_result"
    }
   ],
   "source": [
    "from sklearn.tree import DecisionTreeClassifier\n",
    "from sklearn.feature_selection import SelectFromModel\n",
    "\n",
    "clf = DecisionTreeClassifier()\n",
    "clf = clf.fit(x_train, y_train)\n",
    "f = clf.feature_importances_\n",
    "\n",
    "final_dfs = pd.DataFrame({\"Features\": x_train.columns, \"Importances\":f})\n",
    "\n",
    "final_dfs = final_dfs.sort_values('Importances', ascending=False)\n",
    "\n",
    "final_dfs"
   ]
  },
  {
   "cell_type": "code",
   "execution_count": 56,
   "metadata": {},
   "outputs": [
    {
     "data": {
      "text/html": [
       "<div>\n",
       "<style scoped>\n",
       "    .dataframe tbody tr th:only-of-type {\n",
       "        vertical-align: middle;\n",
       "    }\n",
       "\n",
       "    .dataframe tbody tr th {\n",
       "        vertical-align: top;\n",
       "    }\n",
       "\n",
       "    .dataframe thead th {\n",
       "        text-align: right;\n",
       "    }\n",
       "</style>\n",
       "<table border=\"1\" class=\"dataframe\">\n",
       "  <thead>\n",
       "    <tr style=\"text-align: right;\">\n",
       "      <th></th>\n",
       "      <th>mileage</th>\n",
       "      <th>color</th>\n",
       "      <th>model</th>\n",
       "      <th>year</th>\n",
       "      <th>volume</th>\n",
       "      <th>make</th>\n",
       "      <th>segment</th>\n",
       "      <th>transmission</th>\n",
       "    </tr>\n",
       "  </thead>\n",
       "  <tbody>\n",
       "    <tr>\n",
       "      <th>0</th>\n",
       "      <td>6104</td>\n",
       "      <td>0</td>\n",
       "      <td>165</td>\n",
       "      <td>45</td>\n",
       "      <td>203</td>\n",
       "      <td>30</td>\n",
       "      <td>3</td>\n",
       "      <td>1</td>\n",
       "    </tr>\n",
       "    <tr>\n",
       "      <th>1</th>\n",
       "      <td>2463</td>\n",
       "      <td>10</td>\n",
       "      <td>405</td>\n",
       "      <td>60</td>\n",
       "      <td>78</td>\n",
       "      <td>22</td>\n",
       "      <td>7</td>\n",
       "      <td>1</td>\n",
       "    </tr>\n",
       "  </tbody>\n",
       "</table>\n",
       "</div>"
      ],
      "text/plain": [
       "   mileage  color  model  year  volume  make  segment  transmission\n",
       "0     6104      0    165    45     203    30        3             1\n",
       "1     2463     10    405    60      78    22        7             1"
      ]
     },
     "execution_count": 56,
     "metadata": {},
     "output_type": "execute_result"
    }
   ],
   "source": [
    "# we will use the top 8 feature to train out model\n",
    "\n",
    "X_new = x[final_dfs.Features[0:8]]\n",
    "\n",
    "y_new = y\n",
    "\n",
    "X_new.head(2)"
   ]
  },
  {
   "cell_type": "code",
   "execution_count": 57,
   "metadata": {},
   "outputs": [
    {
     "data": {
      "text/plain": [
       "((31043, 8), (7761, 8), (31043,), (7761,))"
      ]
     },
     "execution_count": 57,
     "metadata": {},
     "output_type": "execute_result"
    }
   ],
   "source": [
    "x_train, x_test, y_train, y_test = train_test_split(X_new, y_new, test_size = 0.2, random_state = 0)\n",
    "\n",
    "x_train.shape, x_test.shape, y_train.shape, y_test.shape"
   ]
  },
  {
   "cell_type": "markdown",
   "metadata": {},
   "source": [
    "## Modeling\n",
    "We will be using Ensemble technique (Stacking) for modeling"
   ]
  },
  {
   "cell_type": "code",
   "execution_count": 58,
   "metadata": {},
   "outputs": [],
   "source": [
    "from sklearn.tree import DecisionTreeRegressor\n",
    "from sklearn.neighbors import KNeighborsRegressor\n",
    "from sklearn.svm import SVR\n",
    "from sklearn.linear_model import LinearRegression, Lasso\n",
    "from sklearn.ensemble import RandomForestRegressor, ExtraTreesRegressor\n",
    "from sklearn.ensemble import StackingRegressor\n",
    "from sklearn.metrics import r2_score, mean_squared_error"
   ]
  },
  {
   "cell_type": "markdown",
   "metadata": {},
   "source": [
    "## Stacking model"
   ]
  },
  {
   "cell_type": "code",
   "execution_count": 90,
   "metadata": {},
   "outputs": [],
   "source": [
    "def stacking_model(x_train, y_train):\n",
    "    # define the base models\n",
    "    base_model = list()\n",
    "    base_model.append(('dtc',DecisionTreeRegressor(max_depth=6, min_samples_leaf=3, min_samples_split=4)))\n",
    "    base_model.append(('knnc', KNeighborsRegressor(n_neighbors=3)))\n",
    "    base_model.append(('svc', SVR(degree=5)))\n",
    "    base_model.append(('rfc', RandomForestRegressor(n_estimators=120)))\n",
    "    base_model.append(('laso', Lasso()))\n",
    "    base_model.append(('extr_tree', ExtraTreesRegressor()))\n",
    "\n",
    "    # define meta learner model\n",
    "    mata_model = LinearRegression()\n",
    "\n",
    "    # define the stacking ensemble\n",
    "    model = StackingRegressor(estimators=base_model, final_estimator=mata_model, cv=5)\n",
    "    \n",
    "    # save model\n",
    "    model_name = \"car_price_model.sav\"  \n",
    "    joblib.dump(xgbc, model_name)\n",
    "\n",
    "    # fit the model on all available data\n",
    "    return model.fit(x_train, y_train)"
   ]
  },
  {
   "cell_type": "code",
   "execution_count": 91,
   "metadata": {},
   "outputs": [],
   "source": [
    "def evaluation(x_true, y_predict):\n",
    "    mse = mean_squared_error(x_true, y_predict)\n",
    "    rmse = np.sqrt(mse)\n",
    "    r_square = r2_score(x_true, y_predict)\n",
    "    return mse, rmse, r_square"
   ]
  },
  {
   "cell_type": "code",
   "execution_count": 92,
   "metadata": {},
   "outputs": [],
   "source": [
    "# train model\n",
    "\n",
    "model = stacking_model(x_train, y_train)"
   ]
  },
  {
   "cell_type": "code",
   "execution_count": 62,
   "metadata": {},
   "outputs": [],
   "source": [
    "y_predict = model.predict(x_test)"
   ]
  },
  {
   "cell_type": "code",
   "execution_count": 63,
   "metadata": {},
   "outputs": [
    {
     "name": "stdout",
     "output_type": "stream",
     "text": [
      "Mean square error :  2501456.0660669566\n",
      "\n",
      "Root Mean square error :  1581.599211578887\n",
      "\n",
      "R squared : 0.9245379079065306\n"
     ]
    }
   ],
   "source": [
    "mse, rmse, r_squared = evaluation(y_test, y_predict)\n",
    "\n",
    "print('Mean square error : ', mse)\n",
    "print('\\nRoot Mean square error : ', rmse)\n",
    "print('\\nR squared :', r_squared)"
   ]
  },
  {
   "cell_type": "markdown",
   "metadata": {},
   "source": [
    "## Boosting Model"
   ]
  },
  {
   "cell_type": "code",
   "execution_count": 64,
   "metadata": {},
   "outputs": [],
   "source": [
    "from xgboost import XGBRegressor"
   ]
  },
  {
   "cell_type": "code",
   "execution_count": 65,
   "metadata": {},
   "outputs": [],
   "source": [
    "xgbc = XGBRegressor(max_depth=11,n_estimators=300,learning_rate=0.01)\n",
    "    \n",
    "# Train Adaboost Classifer\n",
    "xgbc.fit(x_train, y_train)\n",
    "\n",
    "#Predict the response for test dataset\n",
    "y_pred_xgbc = xgbc.predict(x_test)"
   ]
  },
  {
   "cell_type": "code",
   "execution_count": 66,
   "metadata": {},
   "outputs": [
    {
     "name": "stdout",
     "output_type": "stream",
     "text": [
      "Mean square error :  2800327.8903651857\n",
      "\n",
      "Root Mean square error :  1673.41802618628\n",
      "\n",
      "R squared : 0.9155217618965\n"
     ]
    }
   ],
   "source": [
    "mse, rmse, r_squared = evaluation(y_test, y_pred_xgbc)\n",
    "\n",
    "print('Mean square error : ', mse)\n",
    "print('\\nRoot Mean square error : ', rmse)\n",
    "print('\\nR squared :', r_squared)"
   ]
  },
  {
   "cell_type": "markdown",
   "metadata": {},
   "source": [
    "## Save model"
   ]
  },
  {
   "cell_type": "code",
   "execution_count": 67,
   "metadata": {},
   "outputs": [],
   "source": [
    "import joblib"
   ]
  },
  {
   "cell_type": "code",
   "execution_count": 68,
   "metadata": {},
   "outputs": [
    {
     "data": {
      "text/plain": [
       "['car_price_model.pkl']"
      ]
     },
     "execution_count": 68,
     "metadata": {},
     "output_type": "execute_result"
    }
   ],
   "source": [
    "model_name = \"car_price_model.pkl\"  \n",
    "joblib.dump(xgbc, model_name)"
   ]
  },
  {
   "cell_type": "code",
   "execution_count": 93,
   "metadata": {},
   "outputs": [
    {
     "data": {
      "text/plain": [
       "XGBRegressor(base_score=0.5, booster='gbtree', colsample_bylevel=1,\n",
       "             colsample_bynode=1, colsample_bytree=1, gamma=0, gpu_id=-1,\n",
       "             importance_type='gain', interaction_constraints='',\n",
       "             learning_rate=0.01, max_delta_step=0, max_depth=11,\n",
       "             min_child_weight=1, missing=nan, monotone_constraints='()',\n",
       "             n_estimators=300, n_jobs=0, num_parallel_tree=1, random_state=0,\n",
       "             reg_alpha=0, reg_lambda=1, scale_pos_weight=1, subsample=1,\n",
       "             tree_method='exact', validate_parameters=1, verbosity=None)"
      ]
     },
     "execution_count": 93,
     "metadata": {},
     "output_type": "execute_result"
    }
   ],
   "source": [
    "car_price_model = joblib.load('car_price_model.pkl')\n",
    "\n",
    "car_price_model"
   ]
  },
  {
   "cell_type": "code",
   "execution_count": null,
   "metadata": {},
   "outputs": [],
   "source": []
  },
  {
   "cell_type": "code",
   "execution_count": null,
   "metadata": {},
   "outputs": [],
   "source": []
  },
  {
   "cell_type": "code",
   "execution_count": null,
   "metadata": {},
   "outputs": [],
   "source": []
  },
  {
   "cell_type": "code",
   "execution_count": null,
   "metadata": {},
   "outputs": [],
   "source": []
  },
  {
   "cell_type": "code",
   "execution_count": null,
   "metadata": {},
   "outputs": [],
   "source": []
  }
 ],
 "metadata": {
  "kernelspec": {
   "display_name": "Python 3",
   "language": "python",
   "name": "python3"
  },
  "language_info": {
   "codemirror_mode": {
    "name": "ipython",
    "version": 3
   },
   "file_extension": ".py",
   "mimetype": "text/x-python",
   "name": "python",
   "nbconvert_exporter": "python",
   "pygments_lexer": "ipython3",
   "version": "3.7.6"
  }
 },
 "nbformat": 4,
 "nbformat_minor": 4
}
